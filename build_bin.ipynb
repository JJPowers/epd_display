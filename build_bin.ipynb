{
 "cells": [
  {
   "cell_type": "code",
   "execution_count": 16,
   "metadata": {},
   "outputs": [],
   "source": [
    "%load_ext autoreload\n",
    "%autoreload 2"
   ]
  },
  {
   "cell_type": "code",
   "execution_count": 17,
   "metadata": {},
   "outputs": [],
   "source": [
    "%reload_ext autoreload"
   ]
  },
  {
   "cell_type": "code",
   "execution_count": 39,
   "metadata": {},
   "outputs": [],
   "source": [
    "import sys\n",
    "from pathlib import Path\n",
    "import os\n",
    "import importlib\n",
    "import subprocess\n",
    "import pyinstaller_cfg"
   ]
  },
  {
   "cell_type": "code",
   "execution_count": 34,
   "metadata": {},
   "outputs": [],
   "source": [
    "def hidden_imports(search_path):\n",
    "    '''find the imports from the plugins\n",
    "    \n",
    "    pyinstaller cannot find the imports from the plugins because they are only\n",
    "    loaded on demand at boot\n",
    "    \n",
    "    Args:\n",
    "        search_path(str): path to plugin modules to search'''\n",
    "    pre_import_modules = set(sys.modules)\n",
    "    search_path = Path(search_path)\n",
    "\n",
    "    # find all modules in search_path that do not start with . or _\n",
    "    for i in search_path.glob('*'):\n",
    "        if not i.name[0] in ['.', '_']:\n",
    "            module = importlib.import_module(f\"{'.'.join(search_path.parts)}.{i.name}\")\n",
    "\n",
    "    post_import_modules = set(sys.modules)\n",
    "\n",
    "    imported_modules = post_import_modules - pre_import_modules\n",
    "    \n",
    "    unique_modules = set()\n",
    "    \n",
    "    for m in imported_modules:\n",
    "        unique_modules.add(m.split('.')[0])\n",
    "        \n",
    "    \n",
    "    return unique_modules"
   ]
  },
  {
   "cell_type": "code",
   "execution_count": 35,
   "metadata": {},
   "outputs": [],
   "source": [
    "def build_pyinstaller_command():\n",
    "    '''build a command list for Popen'''\n",
    "    # calculate hidden imports\n",
    "    my_hidden = hidden_imports(pyinstaller_cfg.plugin_path)\n",
    "    \n",
    "    cmd_list = ['pipenv', 'run', 'pyinstaller']\n",
    "\n",
    "    for o in pyinstaller_cfg.options:\n",
    "        if len(o) > 0:\n",
    "            cmd_list.append(o)\n",
    "\n",
    "    # calculated hidden imports\n",
    "    for h in my_hidden:\n",
    "        if len(h) > 0:\n",
    "            cmd_list.extend(['--hidden-import', h])\n",
    "    \n",
    "    # explicit hidden imports from configuration file\n",
    "    for h in pyinstaller_cfg.hidden_imports:\n",
    "        cmd_list.extend(['--hidden-import', h])\n",
    "    \n",
    "    for d in pyinstaller_cfg.datas:\n",
    "        if len(d) > 0:\n",
    "            cmd_list.extend(['--add-data', f'{pyinstaller_cfg.base_path}/{d[0]}:{d[1]}'])\n",
    "\n",
    "    for e in pyinstaller_cfg.exclude:\n",
    "        if len(e) > 0:\n",
    "            cmd_list.extend(['--exclude-module', e])\n",
    "\n",
    "    cmd_list.append(f'{pyinstaller_cfg.base_path}/{pyinstaller_cfg.base_script}')\n",
    "\n",
    "    return cmd_list"
   ]
  },
  {
   "cell_type": "code",
   "execution_count": 56,
   "metadata": {},
   "outputs": [],
   "source": [
    "def main():\n",
    "    pre_import_modules = set(sys.modules)\n",
    "    pyinstaller_command = build_pyinstaller_command()\n",
    "#     print(pyinstaller_command)\n",
    "    proc = subprocess.Popen(pyinstaller_command, stdout=subprocess.PIPE, stderr=subprocess.PIPE)\n",
    "\n",
    "    try:\n",
    "        outs, errs = proc.communicate(timeout=120)\n",
    "    except TimeoutExpired:\n",
    "        proc.kill()\n",
    "        outs, errs = proc.communicate()\n",
    "\n",
    "    print(outs)\n",
    "    print(errs)    "
   ]
  },
  {
   "cell_type": "code",
   "execution_count": 57,
   "metadata": {},
   "outputs": [
    {
     "name": "stdout",
     "output_type": "stream",
     "text": [
      "this should **NOT** be run from within jupyter notebook\n",
      "modules imported by jupyter can interfere with module discovery.\n"
     ]
    }
   ],
   "source": [
    "if __name__ == '__main__':\n",
    "    build = True\n",
    "    for i in sys.argv:\n",
    "        if 'ipykernel' in i:\n",
    "            print('this should **NOT** be run from within jupyter notebook')\n",
    "            print('modules imported by jupyter can interfere with module discovery.')\n",
    "            build = False\n",
    "    if build:\n",
    "        main()"
   ]
  },
  {
   "cell_type": "code",
   "execution_count": 58,
   "metadata": {},
   "outputs": [
    {
     "name": "stdout",
     "output_type": "stream",
     "text": [
      "[NbConvertApp] Converting notebook build_bin.ipynb to python\n",
      "[NbConvertApp] Writing 2727 bytes to build_bin.py\n"
     ]
    }
   ],
   "source": [
    "!jupyter-nbconvert --to python --template python_clean build_bin.ipynb"
   ]
  },
  {
   "cell_type": "code",
   "execution_count": null,
   "metadata": {},
   "outputs": [],
   "source": []
  }
 ],
 "metadata": {
  "kernelspec": {
   "display_name": "epd_display-ApAYs8Kw",
   "language": "python",
   "name": "epd_display-apays8kw"
  },
  "language_info": {
   "codemirror_mode": {
    "name": "ipython",
    "version": 3
   },
   "file_extension": ".py",
   "mimetype": "text/x-python",
   "name": "python",
   "nbconvert_exporter": "python",
   "pygments_lexer": "ipython3",
   "version": "3.7.3"
  }
 },
 "nbformat": 4,
 "nbformat_minor": 4
}
