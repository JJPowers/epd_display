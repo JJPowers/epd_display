{
 "cells": [
  {
   "cell_type": "code",
   "execution_count": 3,
   "metadata": {},
   "outputs": [],
   "source": [
    "%load_ext autoreload\n",
    "%autoreload 2"
   ]
  },
  {
   "cell_type": "code",
   "execution_count": 4,
   "metadata": {},
   "outputs": [],
   "source": [
    "%reload_ext autoreload"
   ]
  },
  {
   "cell_type": "code",
   "execution_count": 5,
   "metadata": {},
   "outputs": [],
   "source": [
    "import sys\n",
    "from pathlib import Path\n",
    "import os\n",
    "import importlib\n",
    "import subprocess\n",
    "import pyinstaller_cfg"
   ]
  },
  {
   "cell_type": "code",
   "execution_count": 6,
   "metadata": {},
   "outputs": [],
   "source": [
    "def hidden_imports(search_path):\n",
    "    '''find the imports from the plugins\n",
    "    \n",
    "    pyinstaller cannot find the imports from the plugins because they are only\n",
    "    loaded on demand at boot\n",
    "    \n",
    "    Args:\n",
    "        search_path(str): path to plugin modules to search'''\n",
    "    pre_import_modules = set(sys.modules)\n",
    "    search_path = Path(search_path)\n",
    "\n",
    "    # find all modules in search_path that do not start with . or _\n",
    "    for i in search_path.glob('*'):\n",
    "        if not i.name[0] in ['.', '_']:\n",
    "            module = importlib.import_module(f\"{'.'.join(search_path.parts)}.{i.name}\")\n",
    "\n",
    "    post_import_modules = set(sys.modules)\n",
    "\n",
    "    imported_modules = post_import_modules - pre_import_modules\n",
    "    \n",
    "    unique_modules = set()\n",
    "    \n",
    "    for m in imported_modules:\n",
    "        unique_modules.add(m.split('.')[0])\n",
    "        \n",
    "    \n",
    "    return unique_modules"
   ]
  },
  {
   "cell_type": "code",
   "execution_count": 7,
   "metadata": {},
   "outputs": [],
   "source": [
    "def build_pyinstaller_command():\n",
    "    '''build a command list for Popen'''\n",
    "    # calculate hidden imports\n",
    "    my_hidden = hidden_imports(pyinstaller_cfg.plugin_path)\n",
    "    \n",
    "    cmd_list = ['pipenv', 'run', 'pyinstaller']\n",
    "\n",
    "    for o in pyinstaller_cfg.options:\n",
    "        if len(o) > 0:\n",
    "            cmd_list.append(o)\n",
    "\n",
    "    # calculated hidden imports\n",
    "    for h in my_hidden:\n",
    "        if len(h) > 0:\n",
    "            cmd_list.extend(['--hidden-import', h])\n",
    "    \n",
    "    # explicit hidden imports from configuration file\n",
    "    for h in pyinstaller_cfg.hidden_imports:\n",
    "        cmd_list.extend(['--hidden-import', h])\n",
    "    \n",
    "    # add specified datas that are internal to the project\n",
    "    for d in pyinstaller_cfg.datas:\n",
    "        if len(d) > 0:\n",
    "            cmd_list.extend(['--add-data', f'{pyinstaller_cfg.base_path}/{d[0]}:{d[1]}'])\n",
    "    \n",
    "    # add datas that are external to the project (e.g. datas that should be covered by hook-foo.py files)\n",
    "    for d in pyinstaller_cfg.external_datas:\n",
    "        if len(d) > 0:\n",
    "            cmd_list.extend(['--add-data', f'{d[0]}:{d[1]}'])\n",
    "\n",
    "    for e in pyinstaller_cfg.exclude:\n",
    "        if len(e) > 0:\n",
    "            cmd_list.extend(['--exclude-module', e])\n",
    "\n",
    "    cmd_list.append(f'{pyinstaller_cfg.base_path}/{pyinstaller_cfg.base_script}')\n",
    "\n",
    "    return cmd_list"
   ]
  },
  {
   "cell_type": "code",
   "execution_count": null,
   "metadata": {},
   "outputs": [],
   "source": [
    "def run(command):\n",
    "    process = subprocess.Popen(command, stdout=subprocess.PIPE, stderr=subprocess.PIPE)\n",
    "    while True:\n",
    "        line = process.stdout.readline().rstrip()\n",
    "        if not line:\n",
    "            break\n",
    "        yield line"
   ]
  },
  {
   "cell_type": "code",
   "execution_count": null,
   "metadata": {},
   "outputs": [],
   "source": [
    "def main():\n",
    "    exit_status = 0\n",
    "    pre_import_modules = set(sys.modules)\n",
    "    pyinstaller_command = build_pyinstaller_command()\n",
    "    \n",
    "#     process = subprocess.Popen(pyinstaller_command, stdout=subprocess.PIPE)\n",
    "#     while True:\n",
    "#         output = process.stdout.readline()\n",
    "#         if output == '' and process.poll() is not None:\n",
    "#             break\n",
    "#         if output:\n",
    "#             print(output.strip())\n",
    "    \n",
    "#     rc = process.poll()\n",
    "    \n",
    "#     if rc > 0:\n",
    "#         print('pyinstaller exited with errors!')\n",
    "#         print('try running the build command manually from within a pipenv shell: ')\n",
    "#         print(\" \".join(pyinstaller_command))\n",
    "#         print('pyinstaller exited with errors!')\n",
    "#     else:\n",
    "#         print('executable is stored in ./dist')\n",
    "        \n",
    "#     return rc\n",
    "    \n",
    "    timeout = 500\n",
    "#     print(pyinstaller_command)\n",
    "    proc = subprocess.Popen(pyinstaller_command, stdout=subprocess.PIPE, stderr=subprocess.PIPE)\n",
    "    print(f'starting build -- will timeout after {timeout} seconds')\n",
    "    print(f'$ {pyinstaller_command}')\n",
    "    try:\n",
    "        outs, errs = proc.communicate(timeout=timeout)\n",
    "    except subprocess.TimeoutExpired:\n",
    "        proc.kill()\n",
    "        print('timeout exceeded! build failed!')\n",
    "        print(f'try running this command manually from within the pipenv shell:')\n",
    "        print(f'{\" \".join(pyinstaller_command)}')\n",
    "        print('timeout exceeded! build failed!')\n",
    "        outs, errs = proc.communicate()\n",
    "        exit_status = 1\n",
    "    print(outs)\n",
    "    print(errs)    \n",
    "    if exit_status == 0:\n",
    "        print(f'executable created in ./dist/')\n",
    "    return exit_status"
   ]
  },
  {
   "cell_type": "code",
   "execution_count": null,
   "metadata": {},
   "outputs": [],
   "source": [
    "if __name__ == '__main__':\n",
    "    exit_status = 0\n",
    "    build = True\n",
    "    for i in sys.argv:\n",
    "        if 'ipykernel' in i:\n",
    "            print('this should **NOT** be run from within jupyter notebook')\n",
    "            print('modules imported by jupyter can interfere with module discovery.')\n",
    "            build = False\n",
    "            exit_status = 1\n",
    "    if build:\n",
    "        exit_status = main()\n",
    "    exit(exit_status)"
   ]
  },
  {
   "cell_type": "code",
   "execution_count": 17,
   "metadata": {},
   "outputs": [
    {
     "name": "stdout",
     "output_type": "stream",
     "text": [
      "[NbConvertApp] Converting notebook build_bin.ipynb to python\n",
      "[NbConvertApp] Writing 4531 bytes to build_bin.py\n"
     ]
    }
   ],
   "source": [
    "!jupyter-nbconvert --to python --template python_clean build_bin.ipynb"
   ]
  },
  {
   "cell_type": "code",
   "execution_count": null,
   "metadata": {},
   "outputs": [],
   "source": [
    "exit(0)"
   ]
  },
  {
   "cell_type": "code",
   "execution_count": null,
   "metadata": {},
   "outputs": [],
   "source": []
  }
 ],
 "metadata": {
  "kernelspec": {
   "display_name": "epd_display-ApAYs8Kw",
   "language": "python",
   "name": "epd_display-apays8kw"
  },
  "language_info": {
   "codemirror_mode": {
    "name": "ipython",
    "version": 3
   },
   "file_extension": ".py",
   "mimetype": "text/x-python",
   "name": "python",
   "nbconvert_exporter": "python",
   "pygments_lexer": "ipython3",
   "version": "3.9.2"
  }
 },
 "nbformat": 4,
 "nbformat_minor": 4
}
