{
 "cells": [
  {
   "cell_type": "code",
   "execution_count": 1,
   "metadata": {},
   "outputs": [],
   "source": [
    "%load_ext autoreload\n",
    "%autoreload 2"
   ]
  },
  {
   "cell_type": "code",
   "execution_count": 2,
   "metadata": {},
   "outputs": [],
   "source": [
    "# ugly hack to make the imports work properly\n",
    "import os\n",
    "os.chdir('./paperpi')"
   ]
  },
  {
   "cell_type": "code",
   "execution_count": 3,
   "metadata": {},
   "outputs": [],
   "source": [
    "from paperpi.library import Plugin, CacheFiles, get_help\n",
    "from importlib import import_module\n",
    "from pathlib import Path\n",
    "import paperpi.constants as constants\n",
    "import logging\n",
    "from IPython.display import Image \n",
    "import argparse\n"
   ]
  },
  {
   "cell_type": "code",
   "execution_count": 4,
   "metadata": {},
   "outputs": [],
   "source": [
    "logger = logging.getLogger(__name__)"
   ]
  },
  {
   "cell_type": "code",
   "execution_count": 5,
   "metadata": {},
   "outputs": [],
   "source": [
    "def setup_plugins(p=None):\n",
    "    '''setup plugin objects for later processing\n",
    "    \n",
    "    \n",
    "    Args:\n",
    "        p(list): list of plugins to setup; if p is none all discovered plugins will be processed\n",
    "    '''\n",
    "    print('setting up plugins with sample configuration...')\n",
    "    # discover plugins\n",
    "    plugins = get_help.get_modules()\n",
    "    \n",
    "\n",
    "    if p:\n",
    "        my_list = []\n",
    "        for i in plugins:\n",
    "            if i in p:\n",
    "                my_list.append(i)\n",
    "        plugins = my_list\n",
    "        \n",
    "    # create a cache object for those plugins that need it\n",
    "    cache = CacheFiles()\n",
    "    plugin_path = Path(constants.plugins)\n",
    "    resolution = constants.sample_resolution\n",
    "    plugin_dict = {}\n",
    "    for plugin in plugins:\n",
    "        print(f'setting up plugin: {plugin}')\n",
    "        # get sample values\n",
    "        try:\n",
    "            sample_info = import_module(f'{plugin_path}.{plugin}.sample')\n",
    "            module = import_module(f'{plugin_path}.{plugin}')\n",
    "        except ModuleNotFoundError as e:\n",
    "            logging.warning(f'module \"{plugin}\" is missing a sample configuration or could not be loaded: {e}')\n",
    "            continue\n",
    "        \n",
    "        # get the sample configuration\n",
    "        try:\n",
    "            config = sample_info.config\n",
    "        except AttributeError as e:\n",
    "            logging.warning(f'module \"{plugin}\" does not have a sample configuration: {e}')\n",
    "            continue\n",
    "        \n",
    "        # get the sample layout\n",
    "        try:\n",
    "            layout = getattr(module.layout, config['layout'])\n",
    "        except AttributeError as e:\n",
    "            logging.warning(f'{plugin} layout file does not contain {config[\"layout\"]}: {e}')\n",
    "            continue\n",
    "        except KeyError as e:\n",
    "            logging.warning(f'{plugin} sample configuration file does not contain a value for \"layout\": {e}')\n",
    "            \n",
    "        \n",
    "        my_plugin = Plugin(resolution=resolution,\n",
    "                           cache=cache,\n",
    "                           layout=layout,\n",
    "                           update_function=module.update_function,\n",
    "                           config=config\n",
    "                          )\n",
    "        my_plugin.refresh_rate = 1\n",
    "        # pass any kwargs in from the sample config\n",
    "        try:\n",
    "            if 'kwargs' in config:\n",
    "                my_plugin.update(**config['kwargs'])\n",
    "\n",
    "            else:\n",
    "                my_plugin.update()\n",
    "        except Exception as e:\n",
    "            logging.warning(f'plugin \"{plugin}\"could not be configured due to a thrown exception: {e}')\n",
    "        plugin_dict[plugin] = {'module': module, 'plugin_obj': my_plugin}\n",
    "    return plugin_dict\n",
    "    \n"
   ]
  },
  {
   "cell_type": "code",
   "execution_count": 6,
   "metadata": {},
   "outputs": [],
   "source": [
    "def create_readme(plugin_dict, overwrite_images=False):\n",
    "    '''build README.md for each plugin using information from docstrings and sample images\n",
    "    \n",
    "    Args:\n",
    "        plugin_dict(dict): dictonary provided by setup_plugins\n",
    "        overwrite_images(bool): overwrite existing sample image when true'''\n",
    "    plugin_path = Path(constants.plugins)\n",
    "    readme_name = 'README'\n",
    "    readme_additional = '_additional'\n",
    "    suffix = '.md'\n",
    "    plugin_docs = {}\n",
    "    \n",
    "    print('processing README docs for plugins')\n",
    "    if not overwrite_images:\n",
    "        print(f'skipping existing image files: overwrite_images = {overwrite_images}')\n",
    "        \n",
    "    for plugin, values in plugin_dict.items():\n",
    "        print(f'\\tprocessing plugin: {plugin}')\n",
    "        doc_path = Path(plugin_path/plugin)\n",
    "        plugin_readme = Path(doc_path/f'{readme_name}{suffix}')\n",
    "        additional_readme = Path(doc_path/f'{readme_name}{readme_additional}{suffix}')\n",
    "        plugin_image = Path(doc_path/f'{plugin}_sample.png')\n",
    "        \n",
    "        try:\n",
    "            my_plugin = values['plugin_obj']\n",
    "            my_module = values['module']\n",
    "        except KeyError as e:\n",
    "            logging.warning(f'plugin \"{plugin}\" is missing data: {e}')\n",
    "        \n",
    "        if additional_readme.exists():\n",
    "            with open(additional_readme, 'r') as file:\n",
    "                additional_text = file.read()\n",
    "        else:\n",
    "            additional_text = ''\n",
    "        \n",
    "\n",
    "        if my_plugin.image:\n",
    "            if plugin_image.exists() and overwrite_images:\n",
    "                write_img = True\n",
    "            elif not plugin_image.exists(): \n",
    "                write_img = True\n",
    "            else:\n",
    "                write_img = False\n",
    "                logging.info('image exists, skipping')                \n",
    "\n",
    "            if write_img:\n",
    "                try:\n",
    "                    my_plugin.image.save(plugin_image)\n",
    "                except Exception as e:\n",
    "                    logging.warning(f'failed to save plugin image \"{plugin_image}\" due to error: {e}')\n",
    "\n",
    "\n",
    "        \n",
    "        with open(plugin_readme, 'w') as file:\n",
    "            file.write(f'# {plugin}\\n')\n",
    "            file.write(f'![sample image for plugin {plugin}](./{plugin_image.name})\\n')\n",
    "            file.write('```\\n'+get_help.get_help(plugin, False) + '\\n```')\n",
    "            file.write('\\n\\n')\n",
    "            file.write(additional_text)\n",
    "    \n",
    "        \n",
    "        plugin_docs[plugin] = {'readme': plugin_readme, 'image': plugin_image}\n",
    "    return plugin_docs\n",
    "        \n",
    "                        "
   ]
  },
  {
   "cell_type": "code",
   "execution_count": 7,
   "metadata": {},
   "outputs": [],
   "source": [
    "def update_plugin_docs(plugin_docs):\n",
    "    '''update Plugin.md documentation with snips from all plugin READMEs\n",
    "    \n",
    "    Args:\n",
    "        plugin_docs(dict): dictionary provided by create_readme'''\n",
    "    doc_path = Path(constants.doc_path)\n",
    "    plugin_readme_source = Path(doc_path/'source/Plugins.md')\n",
    "    plugin_readme_final = Path(doc_path/plugin_readme_source.name)\n",
    "    \n",
    "    with open(plugin_readme_source, 'r') as file:\n",
    "        source = file.read()\n",
    "    \n",
    "    with open(plugin_readme_final, 'w') as file:\n",
    "        file.write(source)\n",
    "        for plugin, values in plugin_docs.items():\n",
    "            file.write(f'### [{plugin}]({Path(\"../paperpi\")/values[\"readme\"]})\\n')\n",
    "            file.write(f'![{plugin} sample Image]({Path(\"../paperpi\")/values[\"image\"]})\\n\\n')\n",
    "        "
   ]
  },
  {
   "cell_type": "code",
   "execution_count": 8,
   "metadata": {},
   "outputs": [],
   "source": [
    "def main():\n",
    "    parser = argparse.ArgumentParser(description='create_docs')\n",
    "    parser.add_argument('-o', '--overwrite_images', default=False, action='store_true',\n",
    "                       help='overwrite existing images for plugins when updating README files')\n",
    "    \n",
    "    parser.add_argument('-p', '--plugin_list', default=None, nargs='*', \n",
    "                       help='list of specific plugins to process')\n",
    "    \n",
    "    args = parser.parse_args()\n",
    "#     args = parser.parse_known_args()\n",
    "    plugin_dict = setup_plugins(args.plugin_list)\n",
    "    plugin_docs = create_readme(plugin_dict, overwrite_images = args.overwrite_images)\n",
    "    update_plugin_docs(plugin_docs)\n",
    "    "
   ]
  },
  {
   "cell_type": "code",
   "execution_count": 9,
   "metadata": {},
   "outputs": [],
   "source": [
    "import sys"
   ]
  },
  {
   "cell_type": "code",
   "execution_count": 11,
   "metadata": {},
   "outputs": [
    {
     "data": {
      "text/plain": [
       "['/home/pi/.local/share/virtualenvs/epd_display-ApAYs8Kw/lib/python3.7/site-packages/ipykernel_launcher.py',\n",
       " '-f']"
      ]
     },
     "execution_count": 11,
     "metadata": {},
     "output_type": "execute_result"
    }
   ],
   "source": [
    "sys.argv[:-1]"
   ]
  },
  {
   "cell_type": "code",
   "execution_count": 12,
   "metadata": {},
   "outputs": [],
   "source": [
    "sys.argv = sys.argv[:-1]"
   ]
  },
  {
   "cell_type": "code",
   "execution_count": 13,
   "metadata": {},
   "outputs": [
    {
     "data": {
      "text/plain": [
       "['/home/pi/.local/share/virtualenvs/epd_display-ApAYs8Kw/lib/python3.7/site-packages/ipykernel_launcher.py',\n",
       " '-f']"
      ]
     },
     "execution_count": 13,
     "metadata": {},
     "output_type": "execute_result"
    }
   ],
   "source": [
    "sys.argv"
   ]
  },
  {
   "cell_type": "code",
   "execution_count": null,
   "metadata": {},
   "outputs": [],
   "source": [
    "sys.argv.extend(['-p', 'basic_clock', 'default'])"
   ]
  },
  {
   "cell_type": "code",
   "execution_count": null,
   "metadata": {},
   "outputs": [],
   "source": [
    "if __name__ == \"__main__\":\n",
    "    logger.setLevel('DEBUG')\n",
    "    print('updating documents...')\n",
    "    main()"
   ]
  },
  {
   "cell_type": "code",
   "execution_count": null,
   "metadata": {},
   "outputs": [],
   "source": [
    "!jupyter-nbconvert --to python --template python_clean create_docs.ipynb"
   ]
  },
  {
   "cell_type": "code",
   "execution_count": null,
   "metadata": {},
   "outputs": [],
   "source": [
    "# doc_path = Path('../documentation')\n",
    "# plugin_readme_source = Path(doc_path/'source/Plugins.md')\n",
    "# plugin_readme_final = Path(doc_path/plugin_readme_source.name)\n",
    "\n",
    "# with open(plugin_readme_source, 'r') as file:\n",
    "#     source = file.read()\n",
    "\n",
    "# with open(plugin_readme_final, 'w') as file:\n",
    "#     file.write(source)\n",
    "#     for doc, value, in plugin_docs.items():\n",
    "#         file.write(f'### [{doc}]({Path(\"../paperpi\")/value[\"readme\"]})\\n')\n",
    "#         file.write(f'![{plugin} sample image]({Path(\"../paperpi\")/value[\"image\"]})\\n\\n')"
   ]
  },
  {
   "cell_type": "code",
   "execution_count": null,
   "metadata": {},
   "outputs": [],
   "source": [
    "# # discover plugins\n",
    "# plugins = get_help.get_modules()\n",
    "\n",
    "# # set up basic configuration\n",
    "# cache = CacheFiles()\n",
    "# refresh_rate = 1\n",
    "# plugin_path = Path('./plugins')\n",
    "# resolution = (640,448)\n",
    "# plugin_readme_name = f'README.md'\n",
    "# plugin_readme_additional_name = f'{plugin_readme_name.split(\".\")[0]}_additional.md'\n",
    "# plugin_docs = {}\n",
    "\n",
    "\n",
    "# # loop through all the discovered plugins\n",
    "# for plugin in plugins:\n",
    "#     config = None\n",
    "#     module = None\n",
    "#     doc_path = Path(plugin_path/f'{plugin}/')\n",
    "#     plugin_sample_img = None\n",
    "#     try:\n",
    "#         sample = import_module(f'{constants.plugins}.{plugin}.sample')\n",
    "#         module = import_module(f'{constants.plugins}.{plugin}')\n",
    "#     except ModuleNotFoundError:\n",
    "#         logging.warning(f'module \"{plugin}\" is missing a sample configuration; cannot process')\n",
    "#         continue\n",
    "        \n",
    "#     # pull configuration from sample.py\n",
    "#     config = sample.config\n",
    "#     if config and module:\n",
    "#         # pull the appropriate layout from the layouts file\n",
    "#         layout = getattr(module.layout, config['layout'])\n",
    "#         # build a plugin using the sample configuration\n",
    "#         my_plugin = Plugin(resolution=resolution, \n",
    "#                            cache=cache, layout=layout,\n",
    "#                            update_function=module.update_function, config=config)\n",
    "#         # set refresh rate\n",
    "#         my_plugin.refresh_rate = refresh_rate\n",
    "#         # pass any kwargs needed to configure this plugin\n",
    "#         if 'kwargs' in config:\n",
    "#             my_plugin.update(**config['kwargs'])\n",
    "#         else:\n",
    "#             my_plugin.update()\n",
    "    \n",
    "#     # write out readme and save image\n",
    "#     plugin_readme = Path(doc_path/plugin_readme_name)\n",
    "#     plugin_readme_additional = Path(doc_path/plugin_readme_additional_name)\n",
    "    \n",
    "#     if plugin_readme_additional.exists():\n",
    "#         with open(plugin_readme, 'r') as file:\n",
    "#             additional_text = file.read()\n",
    "#     else:\n",
    "#         additional_text = ''\n",
    "            \n",
    "#     if my_plugin.image:\n",
    "#         plugin_sample_img = Path(doc_path/f'{plugin}_sample.png')\n",
    "#         my_plugin.image.save(plugin_sample_img)\n",
    "#     with open(plugin_readme, 'w') as file:\n",
    "#         file.write(f'# {plugin}\\n')\n",
    "#         file.write(f'![sample image for plugin {plugin}]({plugin_sample_img.name})\\n')\n",
    "#         file.write('```\\n' + get_help.get_help(plugin, False) + '\\n```')\n",
    "#         file.write('\\n\\n')\n",
    "#         file.write(additional_text)\n",
    "        \n",
    "#     plugin_docs[plugin] = {'readme': plugin_readme, 'image': plugin_sample_img}"
   ]
  }
 ],
 "metadata": {
  "kernelspec": {
   "display_name": "epd_display-ApAYs8Kw",
   "language": "python",
   "name": "epd_display-apays8kw"
  },
  "language_info": {
   "codemirror_mode": {
    "name": "ipython",
    "version": 3
   },
   "file_extension": ".py",
   "mimetype": "text/x-python",
   "name": "python",
   "nbconvert_exporter": "python",
   "pygments_lexer": "ipython3",
   "version": "3.7.3"
  }
 },
 "nbformat": 4,
 "nbformat_minor": 4
}
