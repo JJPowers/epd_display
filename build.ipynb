{
 "cells": [
  {
   "cell_type": "code",
   "execution_count": 16,
   "metadata": {},
   "outputs": [],
   "source": [
    "%load_ext autoreload\n",
    "%autoreload 2"
   ]
  },
  {
   "cell_type": "code",
   "execution_count": 17,
   "metadata": {},
   "outputs": [],
   "source": [
    "%reload_ext autoreload"
   ]
  },
  {
   "cell_type": "code",
   "execution_count": 18,
   "metadata": {},
   "outputs": [],
   "source": [
    "import sys\n",
    "from pathlib import Path\n",
    "import os\n",
    "import importlib\n",
    "import subprocess\n",
    "import pyinstaller_cfg\n"
   ]
  },
  {
   "cell_type": "code",
   "execution_count": 20,
   "metadata": {},
   "outputs": [],
   "source": [
    "def hidden_imports(search_path):\n",
    "    pre_import_modules = set(sys.modules)\n",
    "    search_path = Path(search_path)\n",
    "\n",
    "    # find all modules in search_path that do not start with . or _\n",
    "    for i in search_path.glob('*'):\n",
    "        if not i.name[0] in ['.', '_']:\n",
    "            module = importlib.import_module(f\"{'.'.join(search_path.parts)}.{i.name}\")\n",
    "\n",
    "    post_import_modules = set(sys.modules)\n",
    "\n",
    "    imported_modules = post_import_modules - pre_import_modules\n",
    "    \n",
    "    unique_modules = set()\n",
    "    \n",
    "    for m in imported_modules:\n",
    "        unique_modules.add(m.split('.')[0])\n",
    "        \n",
    "    \n",
    "    return unique_modules"
   ]
  },
  {
   "cell_type": "code",
   "execution_count": null,
   "metadata": {},
   "outputs": [],
   "source": [
    "def build_command():\n",
    "    # calculate hidden imports\n",
    "    my_hidden = hidden_imports(pyinstaller_cfg.plugin_path)\n",
    "    \n",
    "    cmd_list = ['pipenv', 'run', 'pyinstaller']\n",
    "\n",
    "    for o in pyinstaller_cfg.options:\n",
    "        if len(o) > 0:\n",
    "            cmd_list.append(o)\n",
    "\n",
    "    # calculated hidden imports\n",
    "    for h in my_hidden:\n",
    "        if len(h) > 0:\n",
    "            cmd_list.extend(['--hidden-import', h])\n",
    "    \n",
    "    # explicit hidden imports from configuration file\n",
    "    for h in pyinstaller_cfg.hidden_imports:\n",
    "        cmd_list.extend(['--hidden-import', h])\n",
    "    \n",
    "    for d in pyinstaller_cfg.datas:\n",
    "        if len(d) > 0:\n",
    "            cmd_list.extend(['--add-data', f'{pyinstaller_cfg.base_path}/{d[0]}:{d[1]}'])\n",
    "\n",
    "    for e in pyinstaller_cfg.exclude:\n",
    "        if len(e) > 0:\n",
    "            cmd_list.extend(['--exclude-module', e])\n",
    "\n",
    "    cmd_list.append(f'{pyinstaller_cfg.base_path}/{pyinstaller_cfg.base_script}')\n",
    "\n",
    "    return cmd_list"
   ]
  },
  {
   "cell_type": "code",
   "execution_count": null,
   "metadata": {},
   "outputs": [],
   "source": [
    "\n"
   ]
  },
  {
   "cell_type": "code",
   "execution_count": 28,
   "metadata": {},
   "outputs": [],
   "source": [
    "def main():\n",
    "    pre_import_modules = set(sys.modules)\n",
    "    command = build_command()\n",
    "    proc = subprocess.Popen(command, stdout=subprocess.PIPE, stderr=subprocess.PIPE)\n",
    "    try:\n",
    "        outs, errs = proc.communicate(timeout=120)\n",
    "    except TimeoutExpired:\n",
    "        proc.kill()\n",
    "        outs, errs = proc.communicate()\n",
    "\n",
    "    print(outs)\n",
    "    print(errs)    "
   ]
  },
  {
   "cell_type": "code",
   "execution_count": null,
   "metadata": {},
   "outputs": [],
   "source": [
    "if __name__ == '__main__':\n",
    "    main()"
   ]
  },
  {
   "cell_type": "code",
   "execution_count": 32,
   "metadata": {},
   "outputs": [
    {
     "name": "stdout",
     "output_type": "stream",
     "text": [
      "[NbConvertApp] Converting notebook build.ipynb to python\n",
      "[NbConvertApp] Writing 2097 bytes to build.py\n"
     ]
    }
   ],
   "source": [
    "!jupyter-nbconvert --to python --template python_clean build.ipynb"
   ]
  }
 ],
 "metadata": {
  "kernelspec": {
   "display_name": "epd_display-ApAYs8Kw",
   "language": "python",
   "name": "epd_display-apays8kw"
  },
  "language_info": {
   "codemirror_mode": {
    "name": "ipython",
    "version": 3
   },
   "file_extension": ".py",
   "mimetype": "text/x-python",
   "name": "python",
   "nbconvert_exporter": "python",
   "pygments_lexer": "ipython3",
   "version": "3.7.3"
  }
 },
 "nbformat": 4,
 "nbformat_minor": 4
}
