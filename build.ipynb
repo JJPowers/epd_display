{
 "cells": [
  {
   "cell_type": "code",
   "execution_count": 1,
   "metadata": {},
   "outputs": [],
   "source": [
    "%load_ext autoreload\n",
    "%autoreload 2"
   ]
  },
  {
   "cell_type": "code",
   "execution_count": 2,
   "metadata": {},
   "outputs": [],
   "source": [
    "%reload_ext autoreload"
   ]
  },
  {
   "cell_type": "code",
   "execution_count": 3,
   "metadata": {},
   "outputs": [],
   "source": [
    "from pathlib import Path\n",
    "import sys\n",
    "import importlib\n",
    "import subprocess\n",
    "pre_import_modules = set(sys.modules)\n",
    "import pyinstaller_cfg"
   ]
  },
  {
   "cell_type": "code",
   "execution_count": 4,
   "metadata": {},
   "outputs": [],
   "source": [
    "def hidden_imports(search_path):\n",
    "    search_path = Path(search_path)\n",
    "\n",
    "\n",
    "    # find all modules in search_path that do not start with . or _\n",
    "    for i in search_path.glob('*'):\n",
    "        if not i.name[0] in ['.', '_']:\n",
    "            module = importlib.import_module(f\"{'.'.join(search_path.parts)}.{i.name}\")\n",
    "\n",
    "    post_import_modules = set(sys.modules)\n",
    "\n",
    "    imported_modules = post_import_modules - pre_import_modules\n",
    "    \n",
    "    unique_modules = set()\n",
    "    \n",
    "    for m in imported_modules:\n",
    "        unique_modules.add(m.split('.')[0])\n",
    "        \n",
    "    \n",
    "    return unique_modules"
   ]
  },
  {
   "cell_type": "code",
   "execution_count": 5,
   "metadata": {},
   "outputs": [],
   "source": [
    "my_hidden = hidden_imports('./paperpi/plugins')"
   ]
  },
  {
   "cell_type": "code",
   "execution_count": 8,
   "metadata": {},
   "outputs": [],
   "source": [
    "cmd_list = ['pyinstaller']\n",
    "\n",
    "\n",
    "for o in pyinstaller_cfg.options:\n",
    "    if len(o) > 0:\n",
    "        cmd_list.append(o)\n",
    "\n",
    "for h in my_hidden:\n",
    "    if len(h) > 0:\n",
    "        cmd_list.extend(['--hidden-import', h])\n",
    "for d in pyinstaller_cfg.datas:\n",
    "    if len(d) > 0:\n",
    "        cmd_list.extend(['--add-data', f'{d[0]}:{d[1]}'])\n",
    "\n",
    "for e in pyinstaller_cfg.exclude:\n",
    "    if len(e) > 0:\n",
    "        cmd_list.extend(['--exclude-module', e])\n",
    "\n",
    "cmd_list.append(pyinstaller_cfg.base_script)\n",
    "\n"
   ]
  },
  {
   "cell_type": "code",
   "execution_count": 9,
   "metadata": {},
   "outputs": [
    {
     "data": {
      "text/plain": [
       "'pyinstaller -F --hidden-import http --hidden-import gpiozero --hidden-import statistics --hidden-import xml --hidden-import encodings --hidden-import paperpi --hidden-import colorzero --hidden-import importlib --hidden-import zipfile --hidden-import _elementtree --hidden-import cmath --hidden-import pyexpat --hidden-import pyinstaller_cfg --hidden-import chardet --hidden-import idna --hidden-import dictor --hidden-import requests --hidden-import certifi --hidden-import stringprep --hidden-import epdlib --hidden-import PIL --hidden-import fractions --hidden-import QueryLMS --hidden-import urllib3 --add-data ./config:./config --add-data ./constants.py:./ --add-data ./fonts:./fonts --add-data ./library:./library --add-data ./plugins:./plugins --add-data ./waveshare_epd:./waveshare_epd paperpi.py'"
      ]
     },
     "execution_count": 9,
     "metadata": {},
     "output_type": "execute_result"
    }
   ],
   "source": [
    "' '.join(cmd_list)"
   ]
  }
 ],
 "metadata": {
  "kernelspec": {
   "display_name": "epd_display-ApAYs8Kw",
   "language": "python",
   "name": "epd_display-apays8kw"
  },
  "language_info": {
   "codemirror_mode": {
    "name": "ipython",
    "version": 3
   },
   "file_extension": ".py",
   "mimetype": "text/x-python",
   "name": "python",
   "nbconvert_exporter": "python",
   "pygments_lexer": "ipython3",
   "version": "3.7.3"
  }
 },
 "nbformat": 4,
 "nbformat_minor": 4
}
