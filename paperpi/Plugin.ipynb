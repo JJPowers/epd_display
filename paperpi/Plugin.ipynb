{
 "cells": [
  {
   "cell_type": "code",
   "execution_count": 1,
   "metadata": {},
   "outputs": [],
   "source": [
    "import logging\n",
    "import requests\n",
    "import asyncio\n",
    "import websockets\n",
    "from epdlib import Screen, Update\n",
    "from epdlib import Layout"
   ]
  },
  {
   "cell_type": "code",
   "execution_count": 4,
   "metadata": {},
   "outputs": [],
   "source": [
    "logging.basicConfig(level=logging.WARNING)\n",
    "logging.debug('foobar')"
   ]
  },
  {
   "cell_type": "markdown",
   "metadata": {},
   "source": [
    "# PaperPi Structure\n",
    "Supervisor will loop and poll each plugin for an update. Plugins are all`Plugin()` objects with a `poll` method\n",
    "\n",
    "When polled `Plugin()` objects respond with a structured list (tuple/dict) with the following information:\n",
    "* Priority(`int`): 0 (high) -- 10+ (low); plugins with negative values are excluded\n",
    "* Update Required(`bool`): True update; False do not update\n",
    "\n",
    "Plugin objects require the following parameters:\n",
    "* configuration(`dict`) argparse/config.ini style dict\n",
    "* resolution (this may be pulled from the configuration?)\n",
    "* name(`str`) human readable name for logging and reference\n",
    "* update_function(`func`): function that will run and provide updates and status"
   ]
  },
  {
   "cell_type": "code",
   "execution_count": 5,
   "metadata": {},
   "outputs": [],
   "source": [
    "def strict_enforce(*types):\n",
    "    \"\"\"strictly enforce type compliance within classes\n",
    "    \n",
    "    Usage:\n",
    "        @strict_enforce(type1, type2, (type3, type4))\n",
    "        def foo(val1, val2, val3):\n",
    "            ...\n",
    "    \"\"\"\n",
    "    def decorator(f):\n",
    "        def new_f(self, *args, **kwds):\n",
    "            #we need to convert args into something mutable   \n",
    "            newargs = []        \n",
    "            for (a, t) in zip(args, types):\n",
    "                if not isinstance(a, t):\n",
    "                    raise TypeError(f'\"{a}\" is not type {t}')\n",
    "#                 newargs.append( t(a)) #feel free to have more elaborated convertion\n",
    "            return f(self, *args, **kwds)\n",
    "        return new_f\n",
    "    return decorator"
   ]
  },
  {
   "cell_type": "code",
   "execution_count": 6,
   "metadata": {},
   "outputs": [],
   "source": [
    "def add_method(cls):\n",
    "    def decorator(func):\n",
    "        @wraps(func) \n",
    "        def wrapper(self, *args, **kwargs): \n",
    "            return func(*args, **kwargs)\n",
    "        setattr(cls, func.__name__, wrapper)\n",
    "        # Note we are not binding func, but wrapper which accepts self but does exactly the same as func\n",
    "        return func # returning func means func can still be used normally\n",
    "    return decorator"
   ]
  },
  {
   "cell_type": "code",
   "execution_count": 42,
   "metadata": {},
   "outputs": [],
   "source": [
    "class Plugin:\n",
    "    # plugin attributes:\n",
    "    # [x] name\n",
    "    # [x] last time updated\n",
    "    # [x] Layout\n",
    "    # [x] Image\n",
    "    # [x] resolution\n",
    "    # [x] priority for inclusion in display loop -- maximum priority\n",
    "    # [ ] configuration -- argParse style dict of main program configuration\n",
    "    \n",
    "    # Plugin methods:\n",
    "    # * check_for_update\n",
    "    # [x] update\n",
    "    def __init__(self, name=None, resolution=None, layout=None, \n",
    "                 max_priority=-1, update_function=None, config={}):\n",
    "        self.timer = Update()\n",
    "        self.resolution = resolution\n",
    "        self.max_priority = max_priority\n",
    "        self.config = config\n",
    "        if resolution:\n",
    "            self.layout = layout\n",
    "        self.add_update_function(update_function)\n",
    "    \n",
    "    \n",
    "    def add_update_function(self, function):\n",
    "        '''add an update_function to the namespace of this instance of object\n",
    "            all update_functions must accept at a minimum the following kwargs:\n",
    "                * config(`dict`) configuration dictionary passed to all update functions\n",
    "            all update_functions must return a tuple of:\n",
    "                (update, data, priority)\n",
    "                \n",
    "                update(`bool`): True, data has been updated; display requires update\n",
    "                data(`dict`): structured for a Layout().update \n",
    "                priority(`int` or `float`): priority for inclusion in display loop\n",
    "                    positive values that approach 0 have higher priority\n",
    "\n",
    "        Args:\n",
    "            fuction(`function`): function to add as self.update_function\n",
    "            \n",
    "        see https://stackoverflow.com/a/2982/5530152 regarding descriptor protocol''' \n",
    "        if function:\n",
    "            self.update_function = function.__get__(self)\n",
    "        else:\n",
    "            self.update_function = self._null_function.__get__(self)\n",
    "    \n",
    "    @property\n",
    "    def name(self):\n",
    "        return self._name\n",
    "\n",
    "    @name.setter\n",
    "    def name(self, name):\n",
    "        self._name = str(name)\n",
    "        \n",
    "\n",
    "    @property\n",
    "    def last_update(self):\n",
    "        '''display the monotnic time since this module was updated'''\n",
    "        return self.timer.last_updated\n",
    "    \n",
    "    @property\n",
    "    def max_priority(self):\n",
    "        '''maximum priority for displaying this module in the update loop\n",
    "            positive values that approach zero are higher priority; zero is higest\n",
    "            negative values are excluded entirely\n",
    "        \n",
    "        max_priority(`int` or `float`)\n",
    "        '''\n",
    "        return self._max_priority\n",
    "    \n",
    "    @max_priority.setter\n",
    "    @strict_enforce(int, float)\n",
    "    def max_priority(self, max_priority):\n",
    "        self._max_priority = max_priority\n",
    "    \n",
    "    @property\n",
    "    def image(self):\n",
    "        '''constructed image based on the layout'''\n",
    "        return self.layout_obj.concat()\n",
    "    \n",
    "    @property\n",
    "    def resolution(self):\n",
    "        '''width x height of screen\n",
    "        resolution(`tuple` of `int`): (W x H)'''\n",
    "        return self._resolution\n",
    "    \n",
    "    @resolution.setter\n",
    "    def resolution(self, resolution):\n",
    "        if isinstance(resolution, (type(None), list, tuple)):\n",
    "            self._resolution = resolution\n",
    "            if hasattr(self, 'layout_obj'):\n",
    "                # trigger recalculation of the layout if the resolution changes\n",
    "                layout = self.layout\n",
    "                self.layout = layout\n",
    "        else:\n",
    "            raise ValueError('`resolution` must be a list-like object')\n",
    "            \n",
    "    \n",
    "    @property\n",
    "    def layout(self):\n",
    "        '''layout dictionary for placing text and images blocks on the screen'''\n",
    "        return self.layout_obj.layout\n",
    "    \n",
    "    @layout.setter\n",
    "    def layout(self, layout):\n",
    "        if self.resolution:\n",
    "            self.layout_obj = Layout(resolution=self.resolution, layout=layout) \n",
    "        else:\n",
    "            raise ValueError(f'cannot set `layout` without a valid resolution: {self.resolution}')\n",
    "    \n",
    "        \n",
    "\n",
    "#     def update(self, *args, **kwargs):\n",
    "#         '''update the monotonic clock of the object and call the update_function\n",
    "        \n",
    "#         Args:\n",
    "#             *args\n",
    "#             **kwargs\n",
    "        \n",
    "#         Returns:\n",
    "#             `bool` True if updated, False if no update  \n",
    "#         '''\n",
    "\n",
    "#         update, data, priority = self.update_function(*args, **kwargs)\n",
    "        \n",
    "#         if update:\n",
    "#             self.layout_obj.update_contents(data)\n",
    "#             self.priority = priority\n",
    "#             self.timer.update()\n",
    "#             return True\n",
    "#         else:\n",
    "#             return False\n",
    "        \n",
    "\n",
    "        \n",
    "    def _null_function(self, *args, **kwargs):\n",
    "        logging.info('default placeholder function')\n",
    "        return (False, {}, -1)\n",
    "    \n",
    "    def poll(self, *args, **kwargs):\n",
    "        '''call the update_function and check if there is a needed update\n",
    "        \n",
    "        Args:\n",
    "            *args\n",
    "            **kwargs\n",
    "        \n",
    "        Returns:\n",
    "            `bool` True if updated, False if no update  \n",
    "        '''\n",
    "\n",
    "        update, data, priority = self.update_function(*args, **kwargs)\n",
    "        \n",
    "        if update:\n",
    "            self.layout_obj.update_contents(data)\n",
    "            self.priority = priority\n",
    "            self.timer.update()\n",
    "            return True\n",
    "        else:\n",
    "            return False\n",
    "        \n",
    "\n",
    "\n",
    "\n",
    "    \n",
    "#     @property\n",
    "#     def update_func(self, args, kwargs):\n",
    "#         '''update function for this object\n",
    "        \n",
    "#         Args:\n",
    "#             func(`function`): function that returns a tuple of (`bool`, `dict`) \n",
    "#                 where bool is update status (true updates, false passes)\n",
    "#                 and dict is values to use in the update'''\n",
    "#         val = self._update_func\n",
    "#         self.update(*val)\n",
    "#         return val\n",
    "    \n",
    "#     @update_func.setter\n",
    "#     def update_func(self, func):\n",
    "#         self._update_func = func    "
   ]
  },
  {
   "cell_type": "code",
   "execution_count": 43,
   "metadata": {},
   "outputs": [],
   "source": [
    "plugin_digit_clock = Plugin(name='digit clock', \n",
    "                            resolution=(500, 350), \n",
    "                            layout=clock_layout, \n",
    "                            update_function=clock_plugin,\n",
    "                            config={'update_interval': 10})"
   ]
  },
  {
   "cell_type": "code",
   "execution_count": 44,
   "metadata": {},
   "outputs": [
    {
     "name": "stdout",
     "output_type": "stream",
     "text": [
      "{'update_interval': 10}\n",
      "0.7354078999778721\n"
     ]
    },
    {
     "data": {
      "text/plain": [
       "(False, {}, 0)"
      ]
     },
     "execution_count": 44,
     "metadata": {},
     "output_type": "execute_result"
    }
   ],
   "source": [
    "plugin_digit_clock.update_function()"
   ]
  },
  {
   "cell_type": "code",
   "execution_count": 65,
   "metadata": {},
   "outputs": [
    {
     "data": {
      "text/plain": [
       "4.603553285007365"
      ]
     },
     "execution_count": 65,
     "metadata": {},
     "output_type": "execute_result"
    }
   ],
   "source": [
    "plugin_digit_clock.timer.last_updated"
   ]
  },
  {
   "cell_type": "code",
   "execution_count": 64,
   "metadata": {},
   "outputs": [
    {
     "name": "stdout",
     "output_type": "stream",
     "text": [
      "{'update_interval': 10}\n",
      "43.803485823009396\n"
     ]
    },
    {
     "data": {
      "text/plain": [
       "True"
      ]
     },
     "execution_count": 64,
     "metadata": {},
     "output_type": "execute_result"
    }
   ],
   "source": [
    "plugin_digit_clock.poll()"
   ]
  },
  {
   "cell_type": "code",
   "execution_count": 67,
   "metadata": {},
   "outputs": [],
   "source": [
    "clock_layout = {\n",
    "    'digit_time': {\n",
    "        'image': None,\n",
    "        'max_lines': 3,\n",
    "        'width': 1,\n",
    "        'height': 1,\n",
    "        'abs_coordinates': (0, 0),\n",
    "        'rand': True,\n",
    "        'font': '../fonts/Dosis/Dosis-VariableFontwght.ttf',\n",
    "    },\n",
    "}\n",
    "\n",
    "class A:\n",
    "    pass\n",
    "\n",
    "test = A()\n",
    "\n",
    "test.config = {'update_interval': 10}\n",
    "test.timer = Update()\n",
    "test.max_priority = 0"
   ]
  },
  {
   "cell_type": "code",
   "execution_count": 69,
   "metadata": {},
   "outputs": [],
   "source": [
    "from datetime import datetime\n",
    "def clock_plugin(self):\n",
    "    if self.timer.last_updated > self.config['update_interval']:\n",
    "        update = True\n",
    "        data = {'digit_time': datetime.now().strftime(\"%H:%M:%S\")}\n",
    "        priority = self.max_priority\n",
    "    else:\n",
    "        update = False\n",
    "        data = {}\n",
    "        priority = self.max_priority + 1\n",
    "\n",
    "    return (update, data, priority)\n",
    "    "
   ]
  },
  {
   "cell_type": "code",
   "execution_count": null,
   "metadata": {},
   "outputs": [],
   "source": [
    "my_time = datetime.now().strftime(\"%H:%M:%S\")"
   ]
  },
  {
   "cell_type": "code",
   "execution_count": null,
   "metadata": {},
   "outputs": [],
   "source": [
    "my_time"
   ]
  },
  {
   "cell_type": "code",
   "execution_count": null,
   "metadata": {},
   "outputs": [],
   "source": [
    "r = requests.post('http://localhost:24879/player/current')"
   ]
  },
  {
   "cell_type": "code",
   "execution_count": null,
   "metadata": {},
   "outputs": [],
   "source": [
    "r = requests.('http://localhost:24879/events')"
   ]
  },
  {
   "cell_type": "code",
   "execution_count": null,
   "metadata": {},
   "outputs": [],
   "source": [
    "r.request"
   ]
  },
  {
   "cell_type": "code",
   "execution_count": null,
   "metadata": {},
   "outputs": [],
   "source": [
    "def spotify(plugin, host='localhost', port=24879, path='/player/current'):\n",
    "    if not isinstance(plugin, Plugin):\n",
    "        raise TypeError('`plugin` must be of type Plugin')\n",
    "        \n",
    "    url = f\"http://{host}:{port}/{path}\"\n",
    "    \n",
    "    \n",
    "    return plugin"
   ]
  },
  {
   "cell_type": "code",
   "execution_count": null,
   "metadata": {},
   "outputs": [],
   "source": [
    "s_plugin = Plugin(name=spotify)\n",
    "s_plugin.last_update"
   ]
  },
  {
   "cell_type": "code",
   "execution_count": null,
   "metadata": {},
   "outputs": [],
   "source": [
    "layout = {\n",
    "        'title': {                       # text only block\n",
    "            'image': None,               # do not expect an image\n",
    "            'max_lines': 2,              # number of lines of text\n",
    "            'width': 1,                  # 1/1 of the width - this stretches the entire width of the display\n",
    "            'height': 2/3,               # 1/3 of the entire height\n",
    "            'abs_coordinates': (0, 0),   # this block is the key block that all other blocks will be defined in terms of\n",
    "            'hcenter': True,             # horizontally center text\n",
    "            'vcenter': True,             # vertically center text \n",
    "            'relative': False,           # this block is not relative to any other. It has an ABSOLUTE position (0, 0)\n",
    "            'font': '../fonts/Anton/Anton-Regular.ttf', # path to font file\n",
    "            'font_size': None            # Calculate the font size because none was provided\n",
    "        },\n",
    "    \n",
    "        'artist': {\n",
    "            'image': None,\n",
    "            'max_lines': 1,\n",
    "            'width': 1,\n",
    "            'height': 1/3,\n",
    "            'abs_coordinates': (0, None),   # X = 0, Y will be calculated\n",
    "            'hcenter': True,\n",
    "            'vcenter': True,\n",
    "            'font': '../fonts/Dosis/Dosis-VariableFontwght.ttf',\n",
    "            'relative': ['artist', 'title'], # use the X postion from abs_coord from `artist` (this block: 0)\n",
    "                                           # calculate the y position based on the size of `title` block\n",
    "        }\n",
    "}"
   ]
  }
 ],
 "metadata": {
  "kernelspec": {
   "display_name": "epd_display-ApAYs8Kw",
   "language": "python",
   "name": "epd_display-apays8kw"
  },
  "language_info": {
   "codemirror_mode": {
    "name": "ipython",
    "version": 3
   },
   "file_extension": ".py",
   "mimetype": "text/x-python",
   "name": "python",
   "nbconvert_exporter": "python",
   "pygments_lexer": "ipython3",
   "version": "3.7.3"
  }
 },
 "nbformat": 4,
 "nbformat_minor": 4
}
