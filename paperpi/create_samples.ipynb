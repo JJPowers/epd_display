{
 "cells": [
  {
   "cell_type": "code",
   "execution_count": 1,
   "metadata": {},
   "outputs": [],
   "source": [
    "%load_ext autoreload\n",
    "%autoreload 2"
   ]
  },
  {
   "cell_type": "code",
   "execution_count": 2,
   "metadata": {},
   "outputs": [],
   "source": [
    "from library import Plugin, CacheFiles\n",
    "from library import get_help\n",
    "from importlib import import_module\n",
    "import constants\n",
    "import logging\n",
    "from IPython.display import Image \n"
   ]
  },
  {
   "cell_type": "code",
   "execution_count": null,
   "metadata": {},
   "outputs": [],
   "source": [
    "logging.root.setLevel('INFO')"
   ]
  },
  {
   "cell_type": "code",
   "execution_count": 5,
   "metadata": {},
   "outputs": [
    {
     "name": "stdout",
     "output_type": "stream",
     "text": [
      "get plugin information and user-facing functions:\n",
      "Usage: --plugin_info PLUGIN_NAME|PLUGIN_NAME.FUNCTION\n",
      "PLUGINS AVAILABLE:\n",
      "  dec_binary_clock\n",
      "  met_no\n",
      "  default\n",
      "  splash_screen\n",
      "  basic_clock\n",
      "  pi_dash\n",
      "  librespot_client\n",
      "  lms_client\n",
      "  test\n",
      "  word_clock\n"
     ]
    },
    {
     "data": {
      "text/plain": [
       "None"
      ]
     },
     "metadata": {},
     "output_type": "display_data"
    },
    {
     "name": "stdout",
     "output_type": "stream",
     "text": [
      "module \"met_no\" is missing a sample configuration; cannot process\n",
      "module \"default\" is missing a sample configuration; cannot process\n",
      "module \"splash_screen\" is missing a sample configuration; cannot process\n"
     ]
    },
    {
     "data": {
      "text/plain": [
       "None"
      ]
     },
     "metadata": {},
     "output_type": "display_data"
    },
    {
     "data": {
      "text/plain": [
       "None"
      ]
     },
     "metadata": {},
     "output_type": "display_data"
    },
    {
     "name": "stdout",
     "output_type": "stream",
     "text": [
      "module \"librespot_client\" is missing a sample configuration; cannot process\n"
     ]
    },
    {
     "data": {
      "text/plain": [
       "None"
      ]
     },
     "metadata": {},
     "output_type": "display_data"
    },
    {
     "name": "stdout",
     "output_type": "stream",
     "text": [
      "module \"test\" is missing a sample configuration; cannot process\n"
     ]
    },
    {
     "data": {
      "text/plain": [
       "None"
      ]
     },
     "metadata": {},
     "output_type": "display_data"
    }
   ],
   "source": [
    "plugins = get_help.get_help()\n",
    "cache = CacheFiles()\n",
    "active_plugins = []\n",
    "refresh_rate = 1\n",
    "resolution = (800, 600)\n",
    "for plugin in plugins:\n",
    "    config = None\n",
    "    module = None\n",
    "    try:\n",
    "        sample = import_module(f'{constants.plugins}.{plugin}.sample')\n",
    "        module = import_module(f'{constants.plugins}.{plugin}')\n",
    "        config = sample.config\n",
    "    except ModuleNotFoundError:\n",
    "        print(f'module \"{plugin}\" is missing a sample configuration; cannot process')\n",
    "    \n",
    "    if config and module:\n",
    "        layout = getattr(module.layout, config['layout'])\n",
    "        my_plugin = Plugin(resolution=resolution, \n",
    "                           layout=layout, cache=cache, \n",
    "                           update_function=module.update_function)\n",
    "        my_plugin.refresh_rate = refresh_rate\n",
    "        display(my_plugin.image)\n",
    "        active_plugins.append(my_plugin)"
   ]
  },
  {
   "cell_type": "code",
   "execution_count": null,
   "metadata": {},
   "outputs": [],
   "source": [
    "active_plugins[0].update()\n",
    "active_plugins[0].image"
   ]
  },
  {
   "cell_type": "code",
   "execution_count": null,
   "metadata": {},
   "outputs": [],
   "source": [
    "# active_plugins[1].update_function()\n",
    "active_plugins[1].update()\n",
    "active_plugins[1].image"
   ]
  },
  {
   "cell_type": "code",
   "execution_count": null,
   "metadata": {},
   "outputs": [],
   "source": [
    "active_plugins[2].update()\n",
    "display(active_plugins[2].image)\n",
    "print('foo')"
   ]
  },
  {
   "cell_type": "code",
   "execution_count": null,
   "metadata": {},
   "outputs": [],
   "source": [
    "# getattr(module.layout, values['layout'])"
   ]
  },
  {
   "cell_type": "code",
   "execution_count": null,
   "metadata": {},
   "outputs": [],
   "source": [
    "from plugins import basic_clock\n",
    "from plugins import dec_binary_clock"
   ]
  },
  {
   "cell_type": "code",
   "execution_count": null,
   "metadata": {},
   "outputs": [],
   "source": [
    "p = Plugin(resolution=(800,600))\n",
    "p.config = \n",
    "p.update_function = dec_binary_clock.update_function"
   ]
  },
  {
   "cell_type": "code",
   "execution_count": null,
   "metadata": {},
   "outputs": [],
   "source": [
    "\n"
   ]
  }
 ],
 "metadata": {
  "kernelspec": {
   "display_name": "epd_display-ApAYs8Kw",
   "language": "python",
   "name": "epd_display-apays8kw"
  },
  "language_info": {
   "codemirror_mode": {
    "name": "ipython",
    "version": 3
   },
   "file_extension": ".py",
   "mimetype": "text/x-python",
   "name": "python",
   "nbconvert_exporter": "python",
   "pygments_lexer": "ipython3",
   "version": "3.7.3"
  }
 },
 "nbformat": 4,
 "nbformat_minor": 4
}
