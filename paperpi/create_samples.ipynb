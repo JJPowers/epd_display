{
 "cells": [
  {
   "cell_type": "code",
   "execution_count": 1,
   "metadata": {},
   "outputs": [],
   "source": [
    "%load_ext autoreload\n",
    "%autoreload 2"
   ]
  },
  {
   "cell_type": "code",
   "execution_count": 41,
   "metadata": {},
   "outputs": [],
   "source": [
    "from library import Plugin, CacheFiles\n",
    "from library import get_help\n",
    "from importlib import import_module\n",
    "from pathlib import Path\n",
    "import constants\n",
    "import logging\n",
    "from IPython.display import Image \n"
   ]
  },
  {
   "cell_type": "code",
   "execution_count": 3,
   "metadata": {},
   "outputs": [],
   "source": [
    "logging.root.setLevel('WARNING')"
   ]
  },
  {
   "cell_type": "code",
   "execution_count": 85,
   "metadata": {},
   "outputs": [
    {
     "name": "stderr",
     "output_type": "stream",
     "text": [
      "WARNING:root:could not open image file ./images/Thermometer_icon.png\n",
      "WARNING:root:error: [Errno 2] No such file or directory: './images/Thermometer_icon.png'\n",
      "WARNING:root:using empty image\n",
      "ERROR:root:failed to update due to error: local variable 'im' referenced before assignment\n",
      "WARNING:root:could not open image file ./images/CPU_icon.png\n",
      "WARNING:root:error: [Errno 2] No such file or directory: './images/CPU_icon.png'\n",
      "WARNING:root:using empty image\n",
      "ERROR:root:failed to update due to error: local variable 'im' referenced before assignment\n",
      "WARNING:root:could not open image file ./images/SSD_icon.png\n",
      "WARNING:root:error: [Errno 2] No such file or directory: './images/SSD_icon.png'\n",
      "WARNING:root:using empty image\n",
      "ERROR:root:failed to update due to error: local variable 'im' referenced before assignment\n",
      "WARNING:root:module \"test\" is missing a sample configuration; cannot process\n"
     ]
    }
   ],
   "source": [
    "plugins = get_help.get_modules()\n",
    "cache = CacheFiles()\n",
    "active_plugins = []\n",
    "refresh_rate = 1\n",
    "doc_path = Path('./paperpi/documentation/')\n",
    "img_path = Path(doc_path/'images')\n",
    "plugin_path = Path('./plugins')\n",
    "\n",
    "if not img_path.exists():\n",
    "    img_path.mkdir(parents=True, exist_ok=True)\n",
    "\n",
    "resolution = (400, 300)\n",
    "for plugin in plugins:\n",
    "    config = None\n",
    "    module = None\n",
    "    plugin_sample_img = None\n",
    "    try:\n",
    "        sample = import_module(f'{constants.plugins}.{plugin}.sample')\n",
    "        module = import_module(f'{constants.plugins}.{plugin}')\n",
    "    except ModuleNotFoundError:\n",
    "        logging.warning(f'module \"{plugin}\" is missing a sample configuration; cannot process')\n",
    "        continue\n",
    "        \n",
    "    config = sample.config        \n",
    "    if config and module:\n",
    "        layout = getattr(module.layout, config['layout'])\n",
    "        my_plugin = Plugin(resolution=resolution, \n",
    "                           cache=cache, layout=layout,\n",
    "                           update_function=module.update_function, config=config)\n",
    "        my_plugin.refresh_rate = refresh_rate\n",
    "        active_plugins.append(my_plugin)\n",
    "        if 'kwargs' in config:\n",
    "            my_plugin.update(**config['kwargs'])\n",
    "        else:\n",
    "            my_plugin.update()\n",
    "#         display(my_plugin.image)\n",
    "    \n",
    "    # write out readme and save image\n",
    "    plugin_readme = Path(doc_path/f'README_{plugin}.md')\n",
    "    if my_plugin.image:\n",
    "        plugin_sample_img = Path(img_path/f'{plugin}_sample.png')\n",
    "        my_plugin.image.save(plugin_sample_img)\n",
    "    with open(plugin_readme, 'w') as file:\n",
    "        file.write(f'# {plugin}\\n')\n",
    "        file.write(f'![sample image for plugin {plugin}]({plugin_sample_img})\\n')\n",
    "        file.write('```\\n' + get_help.get_help(plugin, False) + '\\n```')\n",
    "#         print(f\"## {mod_name} \")\n",
    "#         print('```\\n' + get_help.get_module_docs(module) + '\\n```')\n",
    "\n",
    "    "
   ]
  },
  {
   "cell_type": "code",
   "execution_count": null,
   "metadata": {},
   "outputs": [],
   "source": []
  }
 ],
 "metadata": {
  "kernelspec": {
   "display_name": "epd_display-ApAYs8Kw",
   "language": "python",
   "name": "epd_display-apays8kw"
  },
  "language_info": {
   "codemirror_mode": {
    "name": "ipython",
    "version": 3
   },
   "file_extension": ".py",
   "mimetype": "text/x-python",
   "name": "python",
   "nbconvert_exporter": "python",
   "pygments_lexer": "ipython3",
   "version": "3.7.3"
  }
 },
 "nbformat": 4,
 "nbformat_minor": 4
}
