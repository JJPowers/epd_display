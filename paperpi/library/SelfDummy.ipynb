{
 "cells": [
  {
   "cell_type": "code",
   "execution_count": 9,
   "metadata": {},
   "outputs": [
    {
     "name": "stdout",
     "output_type": "stream",
     "text": [
      "[NbConvertApp] Converting notebook SelfDummy.ipynb to python\n",
      "[NbConvertApp] Writing 318 bytes to SelfDummy.py\n"
     ]
    }
   ],
   "source": [
    "!jupyter-nbconvert --to python --template python_clean SelfDummy.ipynb"
   ]
  },
  {
   "cell_type": "code",
   "execution_count": null,
   "metadata": {},
   "outputs": [],
   "source": [
    "class SelfDummy:\n",
    "    '''dummy class for testing plugins'''\n",
    "    def __init__(self):\n",
    "        config = {}\n",
    "        self.name = None\n",
    "        self.layout = {}\n",
    "        self.max_priority = 1\n",
    "        self.min_display_time = 20\n",
    "        self.refresh_rate = 2\n",
    "        self.data = {}"
   ]
  }
 ],
 "metadata": {
  "kernelspec": {
   "display_name": "epd_display-ApAYs8Kw",
   "language": "python",
   "name": "epd_display-apays8kw"
  },
  "language_info": {
   "codemirror_mode": {
    "name": "ipython",
    "version": 3
   },
   "file_extension": ".py",
   "mimetype": "text/x-python",
   "name": "python",
   "nbconvert_exporter": "python",
   "pygments_lexer": "ipython3",
   "version": "3.7.3"
  }
 },
 "nbformat": 4,
 "nbformat_minor": 4
}
