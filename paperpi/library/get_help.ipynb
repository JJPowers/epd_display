{
 "cells": [
  {
   "cell_type": "code",
   "execution_count": 1,
   "metadata": {},
   "outputs": [],
   "source": [
    "import importlib\n",
    "import inspect\n",
    "from pathlib import Path\n",
    "import textwrap\n",
    "import logging"
   ]
  },
  {
   "cell_type": "code",
   "execution_count": 2,
   "metadata": {},
   "outputs": [],
   "source": [
    "logger = logging.getLogger(__name__)"
   ]
  },
  {
   "cell_type": "code",
   "execution_count": 3,
   "metadata": {},
   "outputs": [],
   "source": [
    "class multi_line_string():\n",
    "    def __init__(self, s=' ', columns=65):\n",
    "        self._string = []\n",
    "        self.string = s\n",
    "        self.columns=columns\n",
    "    \n",
    "    def __str__(self):\n",
    "        return self.string\n",
    "        \n",
    "    @property\n",
    "    def string(self):\n",
    "        return '\\n'.join(self._string)\n",
    "            \n",
    "    @string.setter\n",
    "    def string(self, s):\n",
    "        self._string.append(s)\n",
    "    \n",
    "    @property\n",
    "    def string_list(self):\n",
    "        return self._string\n",
    "    \n",
    "    @property\n",
    "    def wrapped_string(self):\n",
    "        return '\\n'.join(textwrap.wrap(' '.join(self._string), self.columns)).lstrip()\n",
    "    \n",
    "        "
   ]
  },
  {
   "cell_type": "code",
   "execution_count": 4,
   "metadata": {},
   "outputs": [],
   "source": [
    "def get_modules(root='./plugins/'):\n",
    "    '''get a list of modules contained within the path specified\n",
    "    \n",
    "    Args:\n",
    "        root(str): path to search for modules\n",
    "    \n",
    "    Returns:\n",
    "        list of str: list modules found within the root'''\n",
    "    module_list = []\n",
    "    p = Path(root).resolve()\n",
    "    for i in p.glob('*'):\n",
    "        if i.is_dir() and i.name[0] not in ('_', '.'):\n",
    "            module_list.append(i.name)\n",
    "    return module_list"
   ]
  },
  {
   "cell_type": "code",
   "execution_count": 84,
   "metadata": {},
   "outputs": [],
   "source": [
    "def get_module_docs(module):\n",
    "    '''return only user-facing docstrings that contain \"%U\"\n",
    "        \n",
    "    Args:\n",
    "        module: python module\n",
    "        \n",
    "    Returns:\n",
    "        string containing docstrings\n",
    "    '''\n",
    "    mls = multi_line_string()\n",
    "    members = inspect.getmembers(module)\n",
    "    for member in members:\n",
    "        if inspect.isfunction(member[1]):\n",
    "            # skip entries that don't have a docstring\n",
    "            if not member[1].__doc__:\n",
    "                continue\n",
    "            # skip docstrings functions not tagged with '%U' as last characters\n",
    "            if member[1].__doc__.endswith('%U'):\n",
    "                mls.string = f'FUNCTION: {member[0]}'\n",
    "                mls.string = member[1].__doc__.replace('%U', '')\n",
    "                mls.string = '_'*75\n",
    "                mls.string = ' '\n",
    "            else:\n",
    "                continue\n",
    "\n",
    "    return mls.string"
   ]
  },
  {
   "cell_type": "code",
   "execution_count": 6,
   "metadata": {},
   "outputs": [],
   "source": [
    "def get_layouts(module):\n",
    "    '''get layout names provided by a plugin\n",
    "    \n",
    "    Args:\n",
    "        module: python module\n",
    "        \n",
    "    Returns:\n",
    "        string containing layout names'''\n",
    "    layout_ignore = ['os', 'dir_path']\n",
    "    mls = multi_line_string()\n",
    "    try:\n",
    "        my_dir = dir(getattr(module, 'layout'))\n",
    "    except AttributeError:\n",
    "        my_dir =[f'NO LAYOUTS FOUND IN {module.__name__}']\n",
    "\n",
    "    mls.string = 'LAYOUTS AVAILABLE:'\n",
    "    for item in my_dir:\n",
    "        if not item.startswith('__') and not item in layout_ignore:\n",
    "            mls.string = f'  {item}'\n",
    "    return mls.string"
   ]
  },
  {
   "cell_type": "code",
   "execution_count": 7,
   "metadata": {},
   "outputs": [],
   "source": [
    "def get_data_keys(module):\n",
    "    '''return data keys provided by plugin\n",
    "    \n",
    "    Args:\n",
    "        module: python module\n",
    "        \n",
    "    Returns:\n",
    "        string containing data keys provided by a plugin's update_function '''\n",
    "    mls = multi_line_string()\n",
    "    try:\n",
    "        data = module.constants.data\n",
    "    except AttributeError:\n",
    "        data = {'no keys available': None}\n",
    "    mls.string = f'\\nDATA KEYS AVAILABLE FOR USE IN LAYOUTS PROVIDED BY {module.__name__}:'\n",
    "    for k in data.keys():\n",
    "        mls.string = f'   {k}'\n",
    "    return mls.string"
   ]
  },
  {
   "cell_type": "code",
   "execution_count": 8,
   "metadata": {},
   "outputs": [],
   "source": [
    "def get_sample_config(module):\n",
    "    '''return sample configuration\n",
    "    \n",
    "    Args:\n",
    "        module: python module\n",
    "        \n",
    "    Returns:\n",
    "        string containing sample configuration if it exists'''\n",
    "    \n",
    "    mls = multi_line_string()\n",
    "    sample_config = None\n",
    "    try:\n",
    "        sample_config = module.constants.sample_config\n",
    "    except AttributeError:\n",
    "        sample_config = f'no sample configuration provided in {module.__name__}.constants'\n",
    "        \n",
    "    mls.string = f'\\nSAMPLE CONFIGURATION FOR {module.__name__}'\n",
    "    mls.string = sample_config\n",
    "    \n",
    "    return mls.string\n",
    "    "
   ]
  },
  {
   "cell_type": "code",
   "execution_count": 9,
   "metadata": {},
   "outputs": [],
   "source": [
    "def get_doc_string(module, function):\n",
    "    '''return a docstring for a function from within a module\n",
    "        \n",
    "    Args:\n",
    "        module: python module\n",
    "        function(str): string of function contained in module\n",
    "        \n",
    "    Returns:\n",
    "        string containing docstring of for module.function'''\n",
    "    try:\n",
    "        f = getattr(module, function)\n",
    "    except AttributeError as e:\n",
    "        return e\n",
    "    return f.__doc__\n"
   ]
  },
  {
   "cell_type": "code",
   "execution_count": 81,
   "metadata": {},
   "outputs": [],
   "source": [
    "def get_help(module=None, print_help=True, plugin_path='./plugins'):\n",
    "    '''display information for a plugin module including:\n",
    "        * Functions available\n",
    "        * Layouts defined\n",
    "        * data keys returned by update_function()\n",
    "        \n",
    "    Args:\n",
    "        module(`str`): \"plugin_name\" or \"plugin_name.function\" or None for a list of plugins\n",
    "        when a function is provided, the function is executed'''\n",
    "    plugin_path = Path(plugin_path)\n",
    "    mls = multi_line_string()\n",
    "    plugin_list = []\n",
    "    \n",
    "    if not module:\n",
    "        mls.string = 'get plugin information and user-facing functions:'\n",
    "        mls.string = 'Usage: --plugin_info PLUGIN_NAME|PLUGIN_NAME.FUNCTION'\n",
    "        mls.string = 'PLUGINS AVAILABLE:'\n",
    "        for i in get_modules(plugin_path):\n",
    "            mls.string = f'  {i}'\n",
    "            if print_help:\n",
    "                print(mls.string)\n",
    "        return mls.string\n",
    "    \n",
    "    my_module = module.split('.')\n",
    "    logging.debug(f'gathering information for: {module}')\n",
    "    \n",
    "#     my_module = module.split('.')\n",
    "#     logging.debug(f'my_module: {my_module}')\n",
    "    \n",
    "    try:\n",
    "        plugin_name = f'{\".\".join(plugin_path.parts)}.{my_module[0]}.{my_module[0]}'\n",
    "        logging.debug(f'attempting to import: {plugin_name}')\n",
    "        imported = importlib.import_module(plugin_name)\n",
    "    except ImportError as e:\n",
    "        logging.warning(f'error importing {plugin_name}: {e}')\n",
    "        mls.string = f'error importing {plugin_name}: {str(e)}'\n",
    "        imported = False\n",
    "    \n",
    "#     try:\n",
    "#         logging.debug(f'importing module: {my_module[0]}')\n",
    "#         imported = importlib.import_module(f'{plugin_path.name}.{my_module[0]}.{my_module[0]}')\n",
    "#     except Exception as e:\n",
    "#         mls.string = f'error gathering information for module: {str(e)}'\n",
    "#         logging.debug(mls.string)\n",
    "#         imported = None\n",
    "\n",
    "    try:\n",
    "        version = imported.constants.version\n",
    "    except AttributeError:\n",
    "        version = 'no version provided'\n",
    "\n",
    "#     try:\n",
    "#         version = imported.constants.version\n",
    "#     except AttributeError:\n",
    "#         version = 'no version provided'\n",
    "\n",
    "\n",
    "    if len(my_module) == 1 and imported:\n",
    "        plugin_list.append(my_module)\n",
    "        mls.string = f'PLUGIN: {my_module[0]} v:{version}\\n'\n",
    "        mls.string = get_module_docs(imported)\n",
    "        mls.string = get_sample_config(imported)\n",
    "        mls.string = get_layouts(imported)\n",
    "        mls.string = get_data_keys(imported)\n",
    "               \n",
    "    elif len(my_module) > 1:\n",
    "        mls.string = get_doc_string(imported, my_module[1])\n",
    "    else:\n",
    "        pass\n",
    "    \n",
    "    if print_help:\n",
    "        print(mls.string)\n",
    "    return mls.string"
   ]
  },
  {
   "cell_type": "code",
   "execution_count": 95,
   "metadata": {},
   "outputs": [
    {
     "name": "stdout",
     "output_type": "stream",
     "text": [
      "[NbConvertApp] Converting notebook get_help.ipynb to python\n",
      "[NbConvertApp] Writing 6795 bytes to get_help.py\n"
     ]
    }
   ],
   "source": [
    "! jupyter-nbconvert --to python --template python_clean get_help.ipynb"
   ]
  },
  {
   "cell_type": "code",
   "execution_count": null,
   "metadata": {},
   "outputs": [],
   "source": []
  },
  {
   "cell_type": "code",
   "execution_count": 66,
   "metadata": {},
   "outputs": [
    {
     "name": "stdout",
     "output_type": "stream",
     "text": [
      "ln: failed to create symbolic link './paperpi': File exists\r\n"
     ]
    }
   ],
   "source": [
    "!ln -s ../plugins ./\n",
    "\n",
    "!ln -s ../../paperpi/ ./"
   ]
  },
  {
   "cell_type": "code",
   "execution_count": 35,
   "metadata": {},
   "outputs": [],
   "source": [
    "!rm ./plugins"
   ]
  }
 ],
 "metadata": {
  "kernelspec": {
   "display_name": "epd_display-ApAYs8Kw",
   "language": "python",
   "name": "epd_display-apays8kw"
  },
  "language_info": {
   "codemirror_mode": {
    "name": "ipython",
    "version": 3
   },
   "file_extension": ".py",
   "mimetype": "text/x-python",
   "name": "python",
   "nbconvert_exporter": "python",
   "pygments_lexer": "ipython3",
   "version": "3.7.3"
  }
 },
 "nbformat": 4,
 "nbformat_minor": 4
}
