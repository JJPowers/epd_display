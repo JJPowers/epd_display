{
 "cells": [
  {
   "cell_type": "code",
   "execution_count": null,
   "metadata": {},
   "outputs": [],
   "source": [
    "# import plugins.lms_client"
   ]
  },
  {
   "cell_type": "code",
   "execution_count": 3,
   "metadata": {},
   "outputs": [],
   "source": [
    "import importlib\n",
    "import inspect\n",
    "from pathlib import Path"
   ]
  },
  {
   "cell_type": "code",
   "execution_count": 20,
   "metadata": {},
   "outputs": [],
   "source": [
    "def get_help(module=None):\n",
    "    '''display information for a plugin module including:\n",
    "        Functions available\n",
    "        Layouts defined\n",
    "        data keys returned by update_function()\n",
    "        \n",
    "    Args:\n",
    "        module(`str`): \"plugin_name\" or \"plugin_name.function\" or None for a list of plugins\n",
    "        when a function is provided, the function is executed'''\n",
    "   \n",
    "\n",
    "    if not module:\n",
    "        p = Path(\"./plugins/\").resolve()\n",
    "        print('Usage: $ paperpi -m PLUGIN_NAME|PLUGIN_NAME.FUNCTION')\n",
    "        print('PLUGINS AVAILABLE:')\n",
    "        for i in p.glob('*'):\n",
    "            if i.is_dir() and i.name[0] not in ('_', '.'):\n",
    "                print(f'  {i.name}')\n",
    "        return\n",
    "    \n",
    "    my_module = module.split('.')\n",
    "    layout_ignore = ['os', 'dir_path']\n",
    "    \n",
    "    \n",
    "    try:\n",
    "        i = importlib.import_module(f'plugins.{my_module[0]}.{my_module[0]}')\n",
    "    except Exception as e:\n",
    "        print(type(e))\n",
    "        print(f'error gathering information for module {e}')\n",
    "        return \n",
    "        \n",
    "    try:\n",
    "        version = i.constants.version\n",
    "    except AttributeError:\n",
    "        version = 'no version provided'\n",
    "        \n",
    "    try:\n",
    "        data = i.constants.data\n",
    "    except AttributeError:\n",
    "        data = {'no keys available': None}\n",
    "        \n",
    "    \n",
    "    \n",
    "    if len(my_module) == 1:\n",
    "        print(f'PLUGIN: {my_module[0]} v:{version}\\n')\n",
    "        members = inspect.getmembers(i)\n",
    "        for member in members:\n",
    "            if inspect.isfunction(member[1]):\n",
    "                print(f'FUNCTION: {my_module[0]}.{member[0]}')\n",
    "                print(member[1].__doc__,'\\n')\n",
    "        try:\n",
    "            my_dir = dir(getattr(i, 'layout'))\n",
    "        except AttributeError:\n",
    "            my_dir =[f'NO LAYOUTS FOUND IN \"{my_module[0]}\"']\n",
    "        \n",
    "        print('\\nLAYOUTS AVAILABLE:')\n",
    "        for item in my_dir:\n",
    "            if not item.startswith('__') and not item in layout_ignore:\n",
    "                print(f'  {item}')\n",
    "        \n",
    "        print(f'\\nDATA KEYS AVAILABLE FOR LAYOUTS IN {my_module[0]}:')\n",
    "        for k in data.keys():\n",
    "            print(f'   {k}')\n",
    "        \n",
    "        \n",
    "    elif len(my_module) > 1:\n",
    "        try:\n",
    "            function = getattr(i, f'{my_module[1]}')\n",
    "        except AttributeError as e:\n",
    "            print(e)\n",
    "            return\n",
    "        print('Docstring:')\n",
    "        print(function.__doc__)\n",
    "        try:\n",
    "            r = function()\n",
    "            print('Function return value: ')\n",
    "            print(r)\n",
    "        except Exception as e:\n",
    "            print(e)\n",
    "    else:\n",
    "        pass\n",
    "    "
   ]
  },
  {
   "cell_type": "code",
   "execution_count": 23,
   "metadata": {},
   "outputs": [
    {
     "name": "stdout",
     "output_type": "stream",
     "text": [
      "[NbConvertApp] Converting notebook get_help.ipynb to python\n",
      "[NbConvertApp] Writing 2607 bytes to get_help.py\n"
     ]
    }
   ],
   "source": [
    "!jupyter-nbconvert --to python --template python_clean get_help.ipynb"
   ]
  },
  {
   "cell_type": "code",
   "execution_count": null,
   "metadata": {},
   "outputs": [],
   "source": []
  }
 ],
 "metadata": {
  "kernelspec": {
   "display_name": "epd_display-ApAYs8Kw",
   "language": "python",
   "name": "epd_display-apays8kw"
  },
  "language_info": {
   "codemirror_mode": {
    "name": "ipython",
    "version": 3
   },
   "file_extension": ".py",
   "mimetype": "text/x-python",
   "name": "python",
   "nbconvert_exporter": "python",
   "pygments_lexer": "ipython3",
   "version": "3.7.3"
  }
 },
 "nbformat": 4,
 "nbformat_minor": 4
}
