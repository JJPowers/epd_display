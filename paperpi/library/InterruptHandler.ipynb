{
 "cells": [
  {
   "cell_type": "code",
   "execution_count": 8,
   "metadata": {},
   "outputs": [],
   "source": [
    "import logging\n",
    "import signal"
   ]
  },
  {
   "cell_type": "code",
   "execution_count": 9,
   "metadata": {},
   "outputs": [],
   "source": [
    "logger = logging.getLogger(__name__)"
   ]
  },
  {
   "cell_type": "code",
   "execution_count": 42,
   "metadata": {},
   "outputs": [],
   "source": [
    "class InterruptHandler(object):\n",
    "    '''catch SIGINT and SIGTERM gracefully for terminating long-running process or loops\n",
    "    \n",
    "        see: https://stackoverflow.com/a/35798485/5530152\n",
    "    \n",
    "        EXAMPLE:\n",
    "            counter = 0\n",
    "            with InterruptHandler() as h:\n",
    "                while True:\n",
    "                    # long running process/loop here\n",
    "                    counter += 1\n",
    "                    print(counter)\n",
    "                    time.sleep(0.25)\n",
    "\n",
    "                    if h.interrupted:\n",
    "                        print('interrupted')\n",
    "                        break\n",
    "            print('cleanup happens here')\n",
    "            print(f'I counted {counter} times')\n",
    "    \n",
    "    '''\n",
    "    def __init__(self, signals=(signal.SIGINT, signal.SIGTERM)):\n",
    "        self.signals = signals\n",
    "        self.original_handlers = {}\n",
    "\n",
    "    def __enter__(self):\n",
    "        self.interrupted = False\n",
    "        self.released = False\n",
    "\n",
    "        for sig in self.signals:\n",
    "            self.original_handlers[sig] = signal.getsignal(sig)\n",
    "            signal.signal(sig, self.handler)\n",
    "\n",
    "        return self\n",
    "\n",
    "    def handler(self, signum, frame):\n",
    "        self.release()\n",
    "        self.interrupted = True\n",
    "\n",
    "    def __exit__(self, type, value, tb):\n",
    "        self.release()\n",
    "\n",
    "    def release(self):\n",
    "        if self.released:\n",
    "            return False\n",
    "\n",
    "        for sig in self.signals:\n",
    "            signal.signal(sig, self.original_handlers[sig])\n",
    "\n",
    "        self.released = True\n",
    "        return True"
   ]
  },
  {
   "cell_type": "code",
   "execution_count": 39,
   "metadata": {},
   "outputs": [],
   "source": [
    "class SIGINT_handler():\n",
    "    def __init__(self):\n",
    "        self.SIGINT = False\n",
    "\n",
    "    def signal_handler(self, signal, frame):\n",
    "        print('You pressed Ctrl+C!')\n",
    "        self.SIGINT = True"
   ]
  },
  {
   "cell_type": "code",
   "execution_count": 44,
   "metadata": {},
   "outputs": [
    {
     "name": "stdout",
     "output_type": "stream",
     "text": [
      "[NbConvertApp] Converting notebook InterruptHandler.ipynb to python\n",
      "[NbConvertApp] Writing 1755 bytes to InterruptHandler.py\n"
     ]
    }
   ],
   "source": [
    "!jupyter-nbconvert --to python --template python_clean InterruptHandler.ipynb"
   ]
  },
  {
   "cell_type": "code",
   "execution_count": null,
   "metadata": {},
   "outputs": [],
   "source": []
  }
 ],
 "metadata": {
  "kernelspec": {
   "display_name": "epd_display-ApAYs8Kw",
   "language": "python",
   "name": "epd_display-apays8kw"
  },
  "language_info": {
   "codemirror_mode": {
    "name": "ipython",
    "version": 3
   },
   "file_extension": ".py",
   "mimetype": "text/x-python",
   "name": "python",
   "nbconvert_exporter": "python",
   "pygments_lexer": "ipython3",
   "version": "3.7.3"
  }
 },
 "nbformat": 4,
 "nbformat_minor": 4
}
