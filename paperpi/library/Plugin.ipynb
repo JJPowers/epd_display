{
 "cells": [
  {
   "cell_type": "code",
   "execution_count": 75,
   "metadata": {},
   "outputs": [
    {
     "name": "stdout",
     "output_type": "stream",
     "text": [
      "[NbConvertApp] Converting notebook Plugin.ipynb to python\n",
      "[NbConvertApp] Writing 11100 bytes to Plugin.py\n"
     ]
    }
   ],
   "source": [
    "!jupyter-nbconvert --to python --template python_clean Plugin.ipynb"
   ]
  },
  {
   "cell_type": "code",
   "execution_count": 19,
   "metadata": {},
   "outputs": [],
   "source": [
    "import logging\n",
    "import hashlib\n",
    "import time\n",
    "from epdlib import Layout"
   ]
  },
  {
   "cell_type": "code",
   "execution_count": 20,
   "metadata": {},
   "outputs": [],
   "source": [
    "logger = logging.getLogger(__name__)"
   ]
  },
  {
   "cell_type": "code",
   "execution_count": 21,
   "metadata": {},
   "outputs": [],
   "source": [
    "def strict_enforce(*types):\n",
    "    \"\"\"strictly enforce type compliance within classes\n",
    "    \n",
    "    Usage:\n",
    "        @strict_enforce(type1, type2, (type3, type4))\n",
    "        def foo(val1, val2, val3):\n",
    "            ...\n",
    "    \"\"\"\n",
    "    def decorator(f):\n",
    "        def new_f(self, *args, **kwds):\n",
    "            #we need to convert args into something mutable   \n",
    "            newargs = []        \n",
    "            for (a, t) in zip(args, types):\n",
    "                if not isinstance(a, t):\n",
    "                    raise TypeError(f'\"{a}\" is not type {t}')\n",
    "#                 newargs.append( t(a)) #feel free to have more elaborated convertion\n",
    "            return f(self, *args, **kwds)\n",
    "        return new_f\n",
    "    return decorator"
   ]
  },
  {
   "cell_type": "code",
   "execution_count": 72,
   "metadata": {},
   "outputs": [],
   "source": [
    "class Plugin:\n",
    "    '''Plugin class for creating and managing plugins'''\n",
    "    def __init__(self, resolution, name=None, \n",
    "                 layout={}, \n",
    "                 update_function=None, \n",
    "                 max_priority=2**15,\n",
    "                 refresh_rate=60, \n",
    "                 min_display_time=30, \n",
    "                 config={},\n",
    "                 cache=None,\n",
    "                 force_onebit=False,\n",
    "                 **kwargs):\n",
    "        '''Create a plugin object that provides consistent methods for providing an image and querying\n",
    "        various services\n",
    "        \n",
    "        Properties:\n",
    "            hash('str'): unique identifier for this plugin in its current state (used for checking for changes)\n",
    "            image(PIL image): image generated for this plugin\n",
    "            data(dict): data returned by this plugin to be used in the Layout\n",
    "            priority(int): current priority for this plugin (lower numbers are more important in display loop)\n",
    "            last_ask(float): time in seconds since this plugin was last asked for an update -- used for throttling\n",
    "        \n",
    "        Args:\n",
    "            resolution(`tuple` of `int`): resolution of the epd or similar screen: (Length, Width)\n",
    "            name(`str`): human readable name of the function for logging and reference\n",
    "            layout(`dict`): epdlib.Layout.layout dictionary that describes screen layout\n",
    "            update_function(func): function that returns plugin status, data and priority a\n",
    "                update_function must accept (self, *args, **kwargs) and must return\n",
    "                a tuple of (is_updated(bool), data(dict), priority(int))\n",
    "            max_priority(`int`): maximum priority for this module values approaching 0 have highest\n",
    "                priority, values < 0 are inactive\n",
    "            refresh_rate(`int`): minimum time in seconds between requests for pulling an update\n",
    "            min_display_time(`int`): minimum time in seconds plugin should be allowed to display in the loop\n",
    "            config(`dict`): any kwargs that update function requires\n",
    "            cache(`CacheFiles` obj): object that can be used for downloading remote files and caching\n",
    "            force_onebit(`bool`): force layouts to 1bit mode\n",
    "            kwargs(): any additional kwargs will be ignored\n",
    "            '''\n",
    "        self.name = name\n",
    "        self.force_onebit = force_onebit\n",
    "        if resolution:\n",
    "            self.resolution = resolution\n",
    "        \n",
    "        self.layout = layout\n",
    "        \n",
    "#         if update_function:\n",
    "#             self._add_update_function(update_function)\n",
    "#         else:\n",
    "# #             self.update_function = print('no update function set')\n",
    "#             pass\n",
    "        self.update_function = update_function\n",
    "    \n",
    "        self.max_priority = max_priority\n",
    "        \n",
    "        self.refresh_rate = refresh_rate\n",
    "        self.min_display_time = min_display_time\n",
    "        \n",
    "        self.config = config\n",
    "\n",
    "        self.cache = cache\n",
    "        \n",
    "        self._last_ask = 0\n",
    "        self.hash = self._generate_hash()\n",
    "        self.data = {}\n",
    "        self.image = None\n",
    "        self.priority = max_priority\n",
    "    \n",
    "    @property\n",
    "    def name(self):\n",
    "        '''name of plugin\n",
    "        name(`str`)'''\n",
    "        return self._name\n",
    "    \n",
    "    @name.setter\n",
    "    def name(self, name):\n",
    "        self._name = str(name)\n",
    "    \n",
    "    @property\n",
    "    def force_onebit(self):\n",
    "        '''force layout to 1bit mode\n",
    "        force_onebit(`bool`)'''\n",
    "        return self._force_onebit\n",
    "    \n",
    "    @force_onebit.setter\n",
    "    @strict_enforce(bool)\n",
    "    def force_onebit(self, force_onebit):\n",
    "        self._force_onebit = force_onebit\n",
    "        \n",
    "    @property\n",
    "    def resolution(self):\n",
    "        '''resolution of attached screen that will be used for output\n",
    "            resolution(`tuple` of `int`)'''\n",
    "        return self._resolution\n",
    "        \n",
    "    @resolution.setter\n",
    "    @strict_enforce((list, tuple))\n",
    "    def resolution(self, resolution):\n",
    "        self._resolution = resolution    \n",
    "    \n",
    "    @property\n",
    "    def layout(self):\n",
    "        '''epdlib.Layout.layout dictionary used for configuring text and image blocks\n",
    "            layout(`dict`)'''\n",
    "        return self.layout_obj.layout\n",
    "    \n",
    "    @layout.setter\n",
    "    @strict_enforce(dict)\n",
    "    def layout(self, layout):\n",
    "        self.layout_obj = Layout(resolution=self.resolution, layout=layout, force_onebit=self.force_onebit)\n",
    "        \n",
    "    \n",
    "    @property\n",
    "    def update_function(self):\n",
    "        '''update function provided by the plugin module\n",
    "        \n",
    "        The update_function is called by the update method to provide status and data for \n",
    "        the Plugin.\n",
    "        \n",
    "        Args:\n",
    "            function(function): function that accepts self, *args, **kwargs\n",
    "            \n",
    "        Returns:\n",
    "            tuple of is_updated(bool), data(dict), priority(int)'''\n",
    "        return self._update_function\n",
    "    \n",
    "    @update_function.setter\n",
    "    def update_function(self, function):\n",
    "        if not function:\n",
    "            self._update_function = None\n",
    "        else:\n",
    "            self._update_function = function.__get__(self)\n",
    "    \n",
    "    @property\n",
    "    def cache(self):\n",
    "        '''CacheFiles object used for caching remote files used by plugins\n",
    "        cache(`CacheFiles` obj)'''\n",
    "        return self._cache\n",
    "    \n",
    "    @cache.setter\n",
    "    def cache(self, cache):\n",
    "        if cache:\n",
    "            self._cache = cache\n",
    "        else:\n",
    "            self._cache = None\n",
    "    \n",
    "    @property\n",
    "    def last_ask(self):\n",
    "        '''Records monotonic time of last time an update function was called \n",
    "            This is used by the self._is_ready() function to throttle update requests'''\n",
    "        return self._last_ask\n",
    "    \n",
    "    @last_ask.setter\n",
    "    def last_ask(self, last_ask):\n",
    "        self._last_ask = last_ask\n",
    "        \n",
    "    \n",
    "#     def _add_update_function(self, function):\n",
    "#         '''private function for adding update_functions properly to class'''\n",
    "#         self.update_function = function.__get__(self)\n",
    "        \n",
    "    def _generate_hash(self):\n",
    "        '''generate a hash based on the self.name and the current time\n",
    "            This is updated whenever self.data is updated and can be checked as a \n",
    "            proxy for \"new data\"'''\n",
    "        my_hash = hashlib.sha1()\n",
    "        my_hash.update(str(time.time()).encode('utf-8')+str(self.name).encode('utf-8'))\n",
    "        return my_hash.hexdigest()[:10]        \n",
    "    \n",
    "    def _is_ready(self):\n",
    "        '''simple throttle of update requests\n",
    "            Checks time between current request (monotonic) and self._last_ask and compares to \n",
    "            self.refresh_rate\n",
    "        \n",
    "        Returns:\n",
    "            `bool`: True if cooldown period has expired, false otherwise'''\n",
    "        if time.monotonic() - self._last_ask > self.refresh_rate:\n",
    "            self._last_ask = time.monotonic()\n",
    "            return True\n",
    "        else:\n",
    "            logging.debug(f'throttling in effect -- wait for {self.refresh_rate - (time.monotonic() - self._last_ask):.1f} seconds before requesting update')\n",
    "            return False\n",
    "        \n",
    "    def update(self, *args, **kwargs):\n",
    "        '''request an update of the plugin data\n",
    "            requests are throttled if they occur sooner than the cool-down period\n",
    "            defined by self.refresh_rate\n",
    "            \n",
    "            Returns:\n",
    "                self.hash(hash of time and self.name)\n",
    "            \n",
    "            calls self.update_function(*args, **kwargs):\n",
    "                self.update_function returns: (`tuple` of `bool`, `dict`, `int`): \n",
    "                    bool(true when plugin is updated) \n",
    "                    dict(data returned from plugin update_function to be passed into a layout)\n",
    "                    int(priority of this module; values approaching 0 are highest, negative\n",
    "                        values indicate plugin is inactive)\n",
    "\n",
    "            \n",
    "            Set here:\n",
    "                self.data\n",
    "                self.layout_obj.update_contents(self.data)\n",
    "                self.hash'''\n",
    "        if self._is_ready():\n",
    "            is_updated, data, priority = self.update_function(*args, **kwargs)\n",
    "            if data != self.data:\n",
    "                self.data = data\n",
    "                self.layout_obj.update_contents(data)\n",
    "                self.image = self.layout_obj.concat()\n",
    "                self.hash = self._generate_hash()\n",
    "            # always update the priority    \n",
    "            self.priority = priority\n",
    "        else:\n",
    "            pass\n",
    "        \n",
    "        return self.hash\n",
    "        \n",
    "        \n",
    "    def force_update(self, *args, **kwargs):\n",
    "        '''force an immediate update'''\n",
    "        logging.info(f'forced update of plugin: {self.name}')\n",
    "        is_updated, data, priority = self.update_function(*args, **kwargs)\n",
    "        self.data = data\n",
    "        self.layout_obj.update_contents(data)\n",
    "        self.image = self.layout_obj.concat()\n",
    "        self.hash = self._generate_hash()\n",
    "        self.priority = priority\n",
    "        logging.debug(f'Data: {self.data}')\n",
    "        \n",
    "        return self.hash\n",
    "    "
   ]
  },
  {
   "cell_type": "code",
   "execution_count": 73,
   "metadata": {},
   "outputs": [],
   "source": [
    "def main():\n",
    "    '''demo of Plugin data type'''\n",
    "    from random import randint\n",
    "    from IPython.display import display\n",
    "    from time import sleep\n",
    "    bogus_layout = {\n",
    "        'number': {\n",
    "            'type': 'TextBlock',\n",
    "            'image': None,\n",
    "            'max_lines': 1,\n",
    "            'width': 1,\n",
    "            'height': 1,\n",
    "            'abs_coordinates': (0, 0),\n",
    "            'rand': True,\n",
    "            'font': '../fonts/Dosis/Dosis-VariableFontwght.ttf',\n",
    "        },\n",
    "    }\n",
    "\n",
    "    # update_function that is added to the plugin as the method self.update_function\n",
    "    def bogus_plugin(self):\n",
    "        data = {'number': str(randint(99,9999))}\n",
    "        priority = self.max_priority\n",
    "        is_updated = True\n",
    "\n",
    "        return (is_updated, data, priority) \n",
    "\n",
    "\n",
    "    p = Plugin(resolution=(300, 210), \n",
    "               refresh_rate=3, \n",
    "               max_priority=1, \n",
    "               update_function=bogus_plugin, \n",
    "               layout=bogus_layout)\n",
    "\n",
    "#     Plugin.update_function = bogus_plugin\n",
    "    \n",
    "    logger.root.setLevel('DEBUG')\n",
    "    print('this demo is best run from inside jupyter notebook')\n",
    "    p.force_update()\n",
    "    print('this is a forced update')\n",
    "    display(p.image)\n",
    "    p.force_update()\n",
    "    print('this is a forced update')\n",
    "    display(p.image)\n",
    "\n",
    "    for i in range(5):\n",
    "        print('trying to update plugin')\n",
    "        p.update()\n",
    "        print('displaying image')\n",
    "        display(p.image)\n",
    "        print('sleep for 1 second')\n",
    "        sleep(1)\n",
    "    return p"
   ]
  },
  {
   "cell_type": "code",
   "execution_count": 74,
   "metadata": {},
   "outputs": [
    {
     "name": "stderr",
     "output_type": "stream",
     "text": [
      "DEBUG:root:[[----checking default values for layout----]\n",
      "DEBUG:root:section: [------------number------------]\n",
      "DEBUG:root:adding \"font_size: None\"\n",
      "DEBUG:root:adding \"maxchar: None\"\n",
      "DEBUG:root:adding \"relative: False\"\n",
      "DEBUG:root:adding \"hcenter: False\"\n",
      "DEBUG:root:adding \"vcenter: False\"\n",
      "DEBUG:root:adding \"inverse: False\"\n",
      "DEBUG:root:adding \"dimensions: None\"\n",
      "DEBUG:root:adding \"padding: 0\"\n",
      "DEBUG:root:adding \"mode: 1\"\n",
      "DEBUG:root:adding \"fill: 0\"\n",
      "DEBUG:root:adding \"bkground: 255\"\n",
      "DEBUG:root:[[....calculating layouts....]]\n",
      "INFO:root:section: [............number............]\n",
      "DEBUG:root:resolution: (300, 210)\n",
      "DEBUG:root:width: 1, height: 1\n",
      "DEBUG:root:scaling font size\n",
      "DEBUG:root:x target size reached\n",
      "DEBUG:root:calculated font size: 124\n",
      "DEBUG:root:absolute coordinates provided\n",
      "DEBUG:root:block coordinates: (0, 0)\n",
      "INFO:root:[[____setting blocks____]]\n",
      "INFO:root:section: [____________number____________]\n",
      "DEBUG:root:setting block type: TextBlock\n",
      "DEBUG:root:block area: (300, 210)\n",
      "DEBUG:root:padded area: [300, 210]\n",
      "DEBUG:root:fill: 0, bkground: 255\n",
      "DEBUG:root:creating Block\n",
      "DEBUG:root:setting old_font = None\n",
      "DEBUG:root:calculating maximum characters for font ('Dosis', 'ExtraLight')\n",
      "DEBUG:root:average character width: 55.857431749241655\n",
      "DEBUG:root:maximum characters per line: 5\n",
      "DEBUG:root:formatting string: NONE\n",
      "DEBUG:root:text size: (267, 120)\n",
      "DEBUG:root:pasting using random coordinates\n",
      "DEBUG:root:paste coordinates: (14, 1)\n",
      "INFO:root:forced update of plugin: None\n",
      "DEBUG:root:formatting string: 8192\n",
      "DEBUG:root:text size: (207, 120)\n",
      "DEBUG:root:pasting using random coordinates\n",
      "DEBUG:root:paste coordinates: (11, 2)\n",
      "DEBUG:root:Data: {'number': '8192'}\n"
     ]
    },
    {
     "name": "stdout",
     "output_type": "stream",
     "text": [
      "this demo is best run from inside jupyter notebook\n",
      "this is a forced update\n"
     ]
    },
    {
     "data": {
      "image/png": "[encoded data removed]",
      "text/plain": [
       "<PIL.Image.Image image mode=L size=300x210 at 0xADF96030>"
      ]
     },
     "metadata": {},
     "output_type": "display_data"
    },
    {
     "name": "stderr",
     "output_type": "stream",
     "text": [
      "INFO:root:forced update of plugin: None\n",
      "DEBUG:root:formatting string: 2560\n",
      "DEBUG:root:text size: (242, 120)\n",
      "DEBUG:root:pasting using random coordinates\n",
      "DEBUG:root:paste coordinates: (33, 82)\n",
      "DEBUG:root:Data: {'number': '2560'}\n"
     ]
    },
    {
     "name": "stdout",
     "output_type": "stream",
     "text": [
      "this is a forced update\n"
     ]
    },
    {
     "data": {
      "image/png": "[encoded data removed]",
      "text/plain": [
       "<PIL.Image.Image image mode=L size=300x210 at 0xADF96550>"
      ]
     },
     "metadata": {},
     "output_type": "display_data"
    },
    {
     "name": "stderr",
     "output_type": "stream",
     "text": [
      "DEBUG:root:formatting string: 1013\n",
      "DEBUG:root:text size: (176, 120)\n",
      "DEBUG:root:pasting using random coordinates\n",
      "DEBUG:root:paste coordinates: (121, 61)\n"
     ]
    },
    {
     "name": "stdout",
     "output_type": "stream",
     "text": [
      "trying to update plugin\n",
      "displaying image\n"
     ]
    },
    {
     "data": {
      "image/png": "[encoded data removed]",
      "text/plain": [
       "<PIL.Image.Image image mode=L size=300x210 at 0xADF960B0>"
      ]
     },
     "metadata": {},
     "output_type": "display_data"
    },
    {
     "name": "stdout",
     "output_type": "stream",
     "text": [
      "sleep for 1 second\n"
     ]
    },
    {
     "name": "stderr",
     "output_type": "stream",
     "text": [
      "DEBUG:root:throttling in effect -- wait for 2.0 seconds before requesting update\n"
     ]
    },
    {
     "name": "stdout",
     "output_type": "stream",
     "text": [
      "trying to update plugin\n",
      "displaying image\n"
     ]
    },
    {
     "data": {
      "image/png": "[encoded data removed]",
      "text/plain": [
       "<PIL.Image.Image image mode=L size=300x210 at 0xADF960B0>"
      ]
     },
     "metadata": {},
     "output_type": "display_data"
    },
    {
     "name": "stdout",
     "output_type": "stream",
     "text": [
      "sleep for 1 second\n"
     ]
    },
    {
     "name": "stderr",
     "output_type": "stream",
     "text": [
      "DEBUG:root:throttling in effect -- wait for 1.0 seconds before requesting update\n"
     ]
    },
    {
     "name": "stdout",
     "output_type": "stream",
     "text": [
      "trying to update plugin\n",
      "displaying image\n"
     ]
    },
    {
     "data": {
      "image/png": "[encoded data removed]",
      "text/plain": [
       "<PIL.Image.Image image mode=L size=300x210 at 0xADF960B0>"
      ]
     },
     "metadata": {},
     "output_type": "display_data"
    },
    {
     "name": "stdout",
     "output_type": "stream",
     "text": [
      "sleep for 1 second\n"
     ]
    },
    {
     "name": "stderr",
     "output_type": "stream",
     "text": [
      "DEBUG:root:formatting string: 3832\n",
      "DEBUG:root:text size: (236, 120)\n",
      "DEBUG:root:pasting using random coordinates\n",
      "DEBUG:root:paste coordinates: (27, 67)\n"
     ]
    },
    {
     "name": "stdout",
     "output_type": "stream",
     "text": [
      "trying to update plugin\n",
      "displaying image\n"
     ]
    },
    {
     "data": {
      "image/png": "[encoded data removed]",
      "text/plain": [
       "<PIL.Image.Image image mode=L size=300x210 at 0xADF96AF0>"
      ]
     },
     "metadata": {},
     "output_type": "display_data"
    },
    {
     "name": "stdout",
     "output_type": "stream",
     "text": [
      "sleep for 1 second\n"
     ]
    },
    {
     "name": "stderr",
     "output_type": "stream",
     "text": [
      "DEBUG:root:throttling in effect -- wait for 2.0 seconds before requesting update\n"
     ]
    },
    {
     "name": "stdout",
     "output_type": "stream",
     "text": [
      "trying to update plugin\n",
      "displaying image\n"
     ]
    },
    {
     "data": {
      "image/png": "[encoded data removed]",
      "text/plain": [
       "<PIL.Image.Image image mode=L size=300x210 at 0xADF96AF0>"
      ]
     },
     "metadata": {},
     "output_type": "display_data"
    },
    {
     "name": "stdout",
     "output_type": "stream",
     "text": [
      "sleep for 1 second\n"
     ]
    }
   ],
   "source": [
    "if __name__ == '__main__':\n",
    "    p = main()"
   ]
  }
 ],
 "metadata": {
  "kernelspec": {
   "display_name": "epd_display-ApAYs8Kw",
   "language": "python",
   "name": "epd_display-apays8kw"
  },
  "language_info": {
   "codemirror_mode": {
    "name": "ipython",
    "version": 3
   },
   "file_extension": ".py",
   "mimetype": "text/x-python",
   "name": "python",
   "nbconvert_exporter": "python",
   "pygments_lexer": "ipython3",
   "version": "3.7.3"
  }
 },
 "nbformat": 4,
 "nbformat_minor": 4
}
