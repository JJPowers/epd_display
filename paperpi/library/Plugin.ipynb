{
 "cells": [
  {
   "cell_type": "code",
   "execution_count": 13,
   "metadata": {},
   "outputs": [
    {
     "name": "stdout",
     "output_type": "stream",
     "text": [
      "[NbConvertApp] Converting notebook Plugin.ipynb to python\n",
      "[NbConvertApp] Writing 5900 bytes to Plugin.py\n"
     ]
    }
   ],
   "source": [
    "!jupyter-nbconvert --to python --template python_clean Plugin.ipynb"
   ]
  },
  {
   "cell_type": "code",
   "execution_count": 1,
   "metadata": {},
   "outputs": [],
   "source": [
    "import logging\n",
    "import hashlib\n",
    "import time\n",
    "from epdlib import Layout"
   ]
  },
  {
   "cell_type": "code",
   "execution_count": 8,
   "metadata": {},
   "outputs": [],
   "source": [
    "logger = logging.getLogger(__name__)"
   ]
  },
  {
   "cell_type": "code",
   "execution_count": 9,
   "metadata": {},
   "outputs": [],
   "source": [
    "def strict_enforce(*types):\n",
    "    \"\"\"strictly enforce type compliance within classes\n",
    "    \n",
    "    Usage:\n",
    "        @strict_enforce(type1, type2, (type3, type4))\n",
    "        def foo(val1, val2, val3):\n",
    "            ...\n",
    "    \"\"\"\n",
    "    def decorator(f):\n",
    "        def new_f(self, *args, **kwds):\n",
    "            #we need to convert args into something mutable   \n",
    "            newargs = []        \n",
    "            for (a, t) in zip(args, types):\n",
    "                if not isinstance(a, t):\n",
    "                    raise TypeError(f'\"{a}\" is not type {t}')\n",
    "#                 newargs.append( t(a)) #feel free to have more elaborated convertion\n",
    "            return f(self, *args, **kwds)\n",
    "        return new_f\n",
    "    return decorator"
   ]
  },
  {
   "cell_type": "code",
   "execution_count": 10,
   "metadata": {},
   "outputs": [],
   "source": [
    "class SelfDummy:\n",
    "    '''dummy class for testing plugins'''\n",
    "    def __init__(self):\n",
    "        self.layout = {}\n",
    "        self.max_priority = 1\n",
    "        self.min_display_time = 20\n",
    "        self.refresh_rate = 2"
   ]
  },
  {
   "cell_type": "code",
   "execution_count": 4,
   "metadata": {},
   "outputs": [],
   "source": [
    "class Plugin:\n",
    "    def __init__(self, resolution, name=None, layout={}, \n",
    "                 update_function=None, max_priority=-1,\n",
    "                 refresh_rate=60, min_display_time=30, config={},\n",
    "                 cache=None,\n",
    "                 **kwargs):\n",
    "        self.name = name\n",
    "        if resolution:\n",
    "            self.resolution = resolution\n",
    "        \n",
    "        self.layout = layout\n",
    "        \n",
    "        if update_function:\n",
    "            self._add_update_function(update_function)\n",
    "        else:\n",
    "#             self.update_function = print('no update function set')\n",
    "            pass\n",
    "        \n",
    "        self.max_priority = max_priority\n",
    "        \n",
    "        self.refresh_rate = refresh_rate\n",
    "        self.min_display_time = min_display_time\n",
    "        \n",
    "        self.config = config\n",
    "\n",
    "        self.cache = cache\n",
    "        \n",
    "        self._last_ask = 0\n",
    "        self.hash = self._generate_hash()\n",
    "        self.data = {}\n",
    "        self.image = None\n",
    "        self.priority = -1\n",
    "    \n",
    "    @property\n",
    "    def name(self):\n",
    "        '''name of plugin\n",
    "        name(`str`)'''\n",
    "        return self._name\n",
    "    \n",
    "    @name.setter\n",
    "    def name(self, name):\n",
    "        self._name = str(name)\n",
    "        \n",
    "    @property\n",
    "    def resolution(self):\n",
    "        return self._resolution\n",
    "        \n",
    "    @resolution.setter\n",
    "    @strict_enforce((list, tuple))\n",
    "    def resolution(self, resolution):\n",
    "        self._resolution = resolution    \n",
    "    \n",
    "    @property\n",
    "    def layout(self):\n",
    "        return self.layout_obj.layout\n",
    "    \n",
    "    @layout.setter\n",
    "    @strict_enforce(dict)\n",
    "    def layout(self, layout):\n",
    "        self.layout_obj = Layout(resolution=self.resolution, layout=layout)\n",
    "        \n",
    "    \n",
    "    @property\n",
    "    def cache(self):\n",
    "        return self._cache\n",
    "    \n",
    "    @cache.setter\n",
    "    def cache(self, cache):\n",
    "        if cache:\n",
    "            self._cache = cache\n",
    "        else:\n",
    "            self._cache = None\n",
    "    \n",
    "    @property\n",
    "    def last_ask(self):\n",
    "        '''Records monotonic time of last time an update function was called \n",
    "            This is used by the self._is_ready() function to throttle update requests'''\n",
    "        return self._last_ask\n",
    "    \n",
    "    @last_ask.setter\n",
    "    def last_ask(self, last_ask):\n",
    "        self._last_ask = last_ask\n",
    "        \n",
    "    \n",
    "    def _add_update_function(self, function):\n",
    "        self.update_function = function.__get__(self)\n",
    "        \n",
    "    def _generate_hash(self):\n",
    "        my_hash = hashlib.sha1()\n",
    "        my_hash.update(str(time.time()).encode('utf-8')+str(self.name).encode('utf-8'))\n",
    "        return my_hash.hexdigest()[:10]        \n",
    "    \n",
    "    def _is_ready(self):\n",
    "        '''simple throttle of update requests\n",
    "            Checks time between current request (monotonic) and self._last_ask and compares to \n",
    "            self.refresh_rate\n",
    "        \n",
    "        Returns:\n",
    "            `bool`: True if cooldown period has expired, false otherwise'''\n",
    "        if time.monotonic() - self._last_ask > self.refresh_rate:\n",
    "            self._last_ask = time.monotonic()\n",
    "            return True\n",
    "        else:\n",
    "            logging.debug(f'throttling in effect -- wait for {self.refresh_rate - (time.monotonic() - self._last_ask)} seconds before requesting update')\n",
    "            return False\n",
    "        \n",
    "    def update(self):\n",
    "        if self._is_ready():\n",
    "            is_updated, data, priority = self.update_function()\n",
    "            if data != self.data:\n",
    "                self.data = data\n",
    "                self.layout_obj.update_contents(data)\n",
    "                self.image = self.layout_obj.concat()\n",
    "                self.hash = self._generate_hash()\n",
    "            # always update the priority    \n",
    "            self.priority = priority\n",
    "        else:\n",
    "            pass\n",
    "        \n",
    "            \n",
    "        return self.hash\n",
    "    "
   ]
  },
  {
   "cell_type": "code",
   "execution_count": 5,
   "metadata": {},
   "outputs": [],
   "source": [
    "def main():\n",
    "    from random import randint\n",
    "    from IPython.display import display\n",
    "    from time import sleep\n",
    "    bogus_layout = {\n",
    "        'number': {\n",
    "            'image': None,\n",
    "            'max_lines': 1,\n",
    "            'width': 1,\n",
    "            'height': 1,\n",
    "            'abs_coordinates': (0, 0),\n",
    "            'rand': True,\n",
    "            'font': '../fonts/Dosis/Dosis-VariableFontwght.ttf',\n",
    "        },\n",
    "    }\n",
    "\n",
    "    # update_function that is added to the plugin as the method self.update_function\n",
    "    def bogus_plugin(self):\n",
    "        data = {'number': str(randint(99,9999))}\n",
    "        priority = self.max_priority\n",
    "        is_updated = True\n",
    "\n",
    "        return (is_updated, data, priority) \n",
    "\n",
    "\n",
    "    p = Plugin(resolution=(300, 210), \n",
    "               refresh_rate=3, \n",
    "               max_priority=1, \n",
    "               update_function=bogus_plugin, \n",
    "               layout=bogus_layout)\n",
    "    logger.root.setLevel('DEBUG')\n",
    "    print('this demo is best run from inside jupyter notebook')\n",
    "    for i in range(100):\n",
    "        print('trying to update plugin')\n",
    "        p.update()\n",
    "        print('displaying image')\n",
    "        display(p.image)\n",
    "        print('sleep for 1 second')\n",
    "        sleep(1)"
   ]
  },
  {
   "cell_type": "code",
   "execution_count": 6,
   "metadata": {},
   "outputs": [
    {
     "name": "stderr",
     "output_type": "stream",
     "text": [
      "INFO:root:updating blocks\n",
      "DEBUG:root:updating block: number\n",
      "DEBUG:root:formatting string: 8717\n",
      "DEBUG:root:formatted list:\n",
      " ['8717']\n",
      "DEBUG:root:creating blank image area: (300, 210) with inverse: False\n",
      "DEBUG:root:line size: 197, 130\n",
      "DEBUG:root:max x dim so far: 197\n",
      "DEBUG:root:dimensions of text portion of image: (197, 130)\n",
      "DEBUG:root:drawing text at 0, 0\n",
      "DEBUG:root:with dimensions: 197, 130\n",
      "DEBUG:root:randomly positioning text within area\n",
      "DEBUG:root:pasting text portion at coordinates: 11, 3\n",
      "DEBUG:root:concating blocks into single image\n",
      "DEBUG:root:pasitng **number** image at: (0, 0)\n"
     ]
    },
    {
     "name": "stdout",
     "output_type": "stream",
     "text": [
      "this demo is best run from inside jupyter notebook\n",
      "trying to update plugin\n",
      "displaying image\n"
     ]
    },
    {
     "data": {
      "image/png": "[encoded data removed]",
      "text/plain": [
       "<PIL.Image.Image image mode=L size=300x210 at 0xB1730690>"
      ]
     },
     "metadata": {},
     "output_type": "display_data"
    },
    {
     "name": "stdout",
     "output_type": "stream",
     "text": [
      "sleep for 1 second\n"
     ]
    },
    {
     "name": "stderr",
     "output_type": "stream",
     "text": [
      "DEBUG:root:throttling in effect -- wait for 1.8696971839526668 seconds before requesting update\n"
     ]
    },
    {
     "name": "stdout",
     "output_type": "stream",
     "text": [
      "trying to update plugin\n",
      "displaying image\n"
     ]
    },
    {
     "data": {
      "image/png": "[encoded data removed]",
      "text/plain": [
       "<PIL.Image.Image image mode=L size=300x210 at 0xB1730690>"
      ]
     },
     "metadata": {},
     "output_type": "display_data"
    },
    {
     "name": "stdout",
     "output_type": "stream",
     "text": [
      "sleep for 1 second\n"
     ]
    },
    {
     "name": "stderr",
     "output_type": "stream",
     "text": [
      "DEBUG:root:throttling in effect -- wait for 0.8501595669658855 seconds before requesting update\n"
     ]
    },
    {
     "name": "stdout",
     "output_type": "stream",
     "text": [
      "trying to update plugin\n",
      "displaying image\n"
     ]
    },
    {
     "data": {
      "image/png": "[encoded data removed]",
      "text/plain": [
       "<PIL.Image.Image image mode=L size=300x210 at 0xB1730690>"
      ]
     },
     "metadata": {},
     "output_type": "display_data"
    },
    {
     "name": "stdout",
     "output_type": "stream",
     "text": [
      "sleep for 1 second\n"
     ]
    },
    {
     "name": "stderr",
     "output_type": "stream",
     "text": [
      "INFO:root:updating blocks\n",
      "DEBUG:root:updating block: number\n",
      "DEBUG:root:formatting string: 1871\n",
      "DEBUG:root:formatted list:\n",
      " ['1871']\n",
      "DEBUG:root:creating blank image area: (300, 210) with inverse: False\n",
      "DEBUG:root:line size: 168, 130\n",
      "DEBUG:root:max x dim so far: 168\n",
      "DEBUG:root:dimensions of text portion of image: (168, 130)\n",
      "DEBUG:root:drawing text at 0, 0\n",
      "DEBUG:root:with dimensions: 168, 130\n",
      "DEBUG:root:randomly positioning text within area\n",
      "DEBUG:root:pasting text portion at coordinates: 83, 7\n",
      "DEBUG:root:concating blocks into single image\n",
      "DEBUG:root:pasitng **number** image at: (0, 0)\n"
     ]
    },
    {
     "name": "stdout",
     "output_type": "stream",
     "text": [
      "trying to update plugin\n",
      "displaying image\n"
     ]
    },
    {
     "data": {
      "image/png": "[encoded data removed]",
      "text/plain": [
       "<PIL.Image.Image image mode=L size=300x210 at 0xB1730650>"
      ]
     },
     "metadata": {},
     "output_type": "display_data"
    },
    {
     "name": "stdout",
     "output_type": "stream",
     "text": [
      "sleep for 1 second\n"
     ]
    },
    {
     "name": "stderr",
     "output_type": "stream",
     "text": [
      "DEBUG:root:throttling in effect -- wait for 1.9212088589556515 seconds before requesting update\n"
     ]
    },
    {
     "name": "stdout",
     "output_type": "stream",
     "text": [
      "trying to update plugin\n",
      "displaying image\n"
     ]
    },
    {
     "data": {
      "image/png": "[encoded data removed]",
      "text/plain": [
       "<PIL.Image.Image image mode=L size=300x210 at 0xB1730650>"
      ]
     },
     "metadata": {},
     "output_type": "display_data"
    },
    {
     "name": "stdout",
     "output_type": "stream",
     "text": [
      "sleep for 1 second\n"
     ]
    },
    {
     "name": "stderr",
     "output_type": "stream",
     "text": [
      "DEBUG:root:throttling in effect -- wait for 0.9011897660093382 seconds before requesting update\n"
     ]
    },
    {
     "name": "stdout",
     "output_type": "stream",
     "text": [
      "trying to update plugin\n",
      "displaying image\n"
     ]
    },
    {
     "data": {
      "image/png": "[encoded data removed]",
      "text/plain": [
       "<PIL.Image.Image image mode=L size=300x210 at 0xB1730650>"
      ]
     },
     "metadata": {},
     "output_type": "display_data"
    },
    {
     "name": "stdout",
     "output_type": "stream",
     "text": [
      "sleep for 1 second\n"
     ]
    },
    {
     "ename": "KeyboardInterrupt",
     "evalue": "",
     "output_type": "error",
     "traceback": [
      "\u001b[0;31m---------------------------------------------------------------------------\u001b[0m",
      "\u001b[0;31mKeyboardInterrupt\u001b[0m                         Traceback (most recent call last)",
      "\u001b[0;32m<ipython-input-6-c7bc734e5e35>\u001b[0m in \u001b[0;36m<module>\u001b[0;34m\u001b[0m\n\u001b[1;32m      1\u001b[0m \u001b[0;32mif\u001b[0m \u001b[0m__name__\u001b[0m \u001b[0;34m==\u001b[0m \u001b[0;34m'__main__'\u001b[0m\u001b[0;34m:\u001b[0m\u001b[0;34m\u001b[0m\u001b[0;34m\u001b[0m\u001b[0m\n\u001b[0;32m----> 2\u001b[0;31m     \u001b[0mmain\u001b[0m\u001b[0;34m(\u001b[0m\u001b[0;34m)\u001b[0m\u001b[0;34m\u001b[0m\u001b[0;34m\u001b[0m\u001b[0m\n\u001b[0m",
      "\u001b[0;32m<ipython-input-5-e9d634aeaca4>\u001b[0m in \u001b[0;36mmain\u001b[0;34m()\u001b[0m\n\u001b[1;32m     37\u001b[0m         \u001b[0mdisplay\u001b[0m\u001b[0;34m(\u001b[0m\u001b[0mp\u001b[0m\u001b[0;34m.\u001b[0m\u001b[0mimage\u001b[0m\u001b[0;34m)\u001b[0m\u001b[0;34m\u001b[0m\u001b[0;34m\u001b[0m\u001b[0m\n\u001b[1;32m     38\u001b[0m         \u001b[0mprint\u001b[0m\u001b[0;34m(\u001b[0m\u001b[0;34m'sleep for 1 second'\u001b[0m\u001b[0;34m)\u001b[0m\u001b[0;34m\u001b[0m\u001b[0;34m\u001b[0m\u001b[0m\n\u001b[0;32m---> 39\u001b[0;31m         \u001b[0msleep\u001b[0m\u001b[0;34m(\u001b[0m\u001b[0;36m1\u001b[0m\u001b[0;34m)\u001b[0m\u001b[0;34m\u001b[0m\u001b[0;34m\u001b[0m\u001b[0m\n\u001b[0m",
      "\u001b[0;31mKeyboardInterrupt\u001b[0m: "
     ]
    }
   ],
   "source": [
    "if __name__ == '__main__':\n",
    "    main()"
   ]
  },
  {
   "cell_type": "code",
   "execution_count": null,
   "metadata": {},
   "outputs": [],
   "source": []
  }
 ],
 "metadata": {
  "kernelspec": {
   "display_name": "epd_display-ApAYs8Kw",
   "language": "python",
   "name": "epd_display-apays8kw"
  },
  "language_info": {
   "codemirror_mode": {
    "name": "ipython",
    "version": 3
   },
   "file_extension": ".py",
   "mimetype": "text/x-python",
   "name": "python",
   "nbconvert_exporter": "python",
   "pygments_lexer": "ipython3",
   "version": "3.7.3"
  }
 },
 "nbformat": 4,
 "nbformat_minor": 4
}
