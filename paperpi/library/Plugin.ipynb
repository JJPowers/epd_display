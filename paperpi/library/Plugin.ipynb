{
 "cells": [
  {
   "cell_type": "code",
   "execution_count": 4,
   "metadata": {},
   "outputs": [
    {
     "name": "stdout",
     "output_type": "stream",
     "text": [
      "[NbConvertApp] Converting notebook Plugin.ipynb to python\n",
      "[NbConvertApp] Writing 9446 bytes to Plugin.py\n"
     ]
    }
   ],
   "source": [
    "!jupyter-nbconvert --to python --template python_clean Plugin.ipynb"
   ]
  },
  {
   "cell_type": "code",
   "execution_count": 1,
   "metadata": {},
   "outputs": [],
   "source": [
    "import logging\n",
    "import hashlib\n",
    "import time\n",
    "from epdlib import Layout"
   ]
  },
  {
   "cell_type": "code",
   "execution_count": 2,
   "metadata": {},
   "outputs": [],
   "source": [
    "logger = logging.getLogger(__name__)"
   ]
  },
  {
   "cell_type": "code",
   "execution_count": 3,
   "metadata": {},
   "outputs": [],
   "source": [
    "def strict_enforce(*types):\n",
    "    \"\"\"strictly enforce type compliance within classes\n",
    "    \n",
    "    Usage:\n",
    "        @strict_enforce(type1, type2, (type3, type4))\n",
    "        def foo(val1, val2, val3):\n",
    "            ...\n",
    "    \"\"\"\n",
    "    def decorator(f):\n",
    "        def new_f(self, *args, **kwds):\n",
    "            #we need to convert args into something mutable   \n",
    "            newargs = []        \n",
    "            for (a, t) in zip(args, types):\n",
    "                if not isinstance(a, t):\n",
    "                    raise TypeError(f'\"{a}\" is not type {t}')\n",
    "#                 newargs.append( t(a)) #feel free to have more elaborated convertion\n",
    "            return f(self, *args, **kwds)\n",
    "        return new_f\n",
    "    return decorator"
   ]
  },
  {
   "cell_type": "code",
   "execution_count": 4,
   "metadata": {},
   "outputs": [],
   "source": [
    "class Plugin:\n",
    "    '''Plugin class for creating and managing plugins'''\n",
    "    def __init__(self, resolution, name=None, \n",
    "                 layout={}, \n",
    "                 update_function=None, \n",
    "                 max_priority=2**15,\n",
    "                 refresh_rate=60, \n",
    "                 min_display_time=30, \n",
    "                 config={},\n",
    "                 cache=None,\n",
    "                 **kwargs):\n",
    "        '''Create a plugin object that provides consistent methods for providing an image and querying\n",
    "        various services\n",
    "        \n",
    "        Args:\n",
    "            resolution(`tuple` of `int`): resolution of the epd or similar screen: (Length, Width)\n",
    "            name(`str`): human readable name of the function for logging and reference\n",
    "            layout(`dict`): epdlib.Layout.layout dictionary that describes screen layout\n",
    "            update_function(func): function that returns plugin status, data and priority a\n",
    "                update_function must accept (self, *args, **kwargs) and must return\n",
    "                a tuple of (is_updated(bool), data(dict), priority(int))\n",
    "            max_priority(`int`): maximum priority for this module values approaching 0 have highest\n",
    "                priority, values < 0 are inactive\n",
    "            refresh_rate(`int`): minimum time in seconds between requests for pulling an update\n",
    "            min_display_time(`int`): minimum time in seconds plugin should be allowed to display in the loop\n",
    "            config(`dict`): any kwargs that update function requires\n",
    "            cache(`CacheFiles` obj): object that can be used for downloading remote files and caching\n",
    "            kwargs(): any additional kwargs will be ignored\n",
    "            '''\n",
    "        self.name = name\n",
    "        if resolution:\n",
    "            self.resolution = resolution\n",
    "        \n",
    "        self.layout = layout\n",
    "        \n",
    "#         if update_function:\n",
    "#             self._add_update_function(update_function)\n",
    "#         else:\n",
    "# #             self.update_function = print('no update function set')\n",
    "#             pass\n",
    "        self.update_function = update_function\n",
    "    \n",
    "        self.max_priority = max_priority\n",
    "        \n",
    "        self.refresh_rate = refresh_rate\n",
    "        self.min_display_time = min_display_time\n",
    "        \n",
    "        self.config = config\n",
    "\n",
    "        self.cache = cache\n",
    "        \n",
    "        self._last_ask = 0\n",
    "        self.hash = self._generate_hash()\n",
    "        self.data = {}\n",
    "        self.image = None\n",
    "        self.priority = max_priority\n",
    "    \n",
    "    @property\n",
    "    def name(self):\n",
    "        '''name of plugin\n",
    "        name(`str`)'''\n",
    "        return self._name\n",
    "    \n",
    "    @name.setter\n",
    "    def name(self, name):\n",
    "        self._name = str(name)\n",
    "        \n",
    "    @property\n",
    "    def resolution(self):\n",
    "        '''resolution of attached screen that will be used for output\n",
    "            resolution(`tuple` of `int`)'''\n",
    "        return self._resolution\n",
    "        \n",
    "    @resolution.setter\n",
    "    @strict_enforce((list, tuple))\n",
    "    def resolution(self, resolution):\n",
    "        self._resolution = resolution    \n",
    "    \n",
    "    @property\n",
    "    def layout(self):\n",
    "        '''epdlib.Layout.layout dictionary used for configuring text and image blocks\n",
    "            layout(`dict`)'''\n",
    "        return self.layout_obj.layout\n",
    "    \n",
    "    @layout.setter\n",
    "    @strict_enforce(dict)\n",
    "    def layout(self, layout):\n",
    "        self.layout_obj = Layout(resolution=self.resolution, layout=layout)\n",
    "        \n",
    "    \n",
    "    @property\n",
    "    def update_function(self):\n",
    "        '''update function provided by the plugin module\n",
    "        \n",
    "        The update_function is called by the update method to provide status and data for \n",
    "        the Plugin.\n",
    "        \n",
    "        Args:\n",
    "            function(function): function that accepts self, *args, **kwargs\n",
    "            \n",
    "        Returns:\n",
    "            tuple of is_updated(bool), data(dict), priority(int)'''\n",
    "        return self._update_function\n",
    "    \n",
    "    @update_function.setter\n",
    "    def update_function(self, function):\n",
    "        if not function:\n",
    "            self._update_function = None\n",
    "        else:\n",
    "            self._update_function = function.__get__(self)\n",
    "    \n",
    "    @property\n",
    "    def cache(self):\n",
    "        '''CacheFiles object used for caching remote files used by plugins\n",
    "        cache(`CacheFiles` obj)'''\n",
    "        return self._cache\n",
    "    \n",
    "    @cache.setter\n",
    "    def cache(self, cache):\n",
    "        if cache:\n",
    "            self._cache = cache\n",
    "        else:\n",
    "            self._cache = None\n",
    "    \n",
    "    @property\n",
    "    def last_ask(self):\n",
    "        '''Records monotonic time of last time an update function was called \n",
    "            This is used by the self._is_ready() function to throttle update requests'''\n",
    "        return self._last_ask\n",
    "    \n",
    "    @last_ask.setter\n",
    "    def last_ask(self, last_ask):\n",
    "        self._last_ask = last_ask\n",
    "        \n",
    "    \n",
    "#     def _add_update_function(self, function):\n",
    "#         '''private function for adding update_functions properly to class'''\n",
    "#         self.update_function = function.__get__(self)\n",
    "        \n",
    "    def _generate_hash(self):\n",
    "        '''generate a hash based on the self.name and the current time\n",
    "            This is updated whenever self.data is updated and can be checked as a \n",
    "            proxy for \"new data\"'''\n",
    "        my_hash = hashlib.sha1()\n",
    "        my_hash.update(str(time.time()).encode('utf-8')+str(self.name).encode('utf-8'))\n",
    "        return my_hash.hexdigest()[:10]        \n",
    "    \n",
    "    def _is_ready(self):\n",
    "        '''simple throttle of update requests\n",
    "            Checks time between current request (monotonic) and self._last_ask and compares to \n",
    "            self.refresh_rate\n",
    "        \n",
    "        Returns:\n",
    "            `bool`: True if cooldown period has expired, false otherwise'''\n",
    "        if time.monotonic() - self._last_ask > self.refresh_rate:\n",
    "            self._last_ask = time.monotonic()\n",
    "            return True\n",
    "        else:\n",
    "            logging.debug(f'throttling in effect -- wait for {self.refresh_rate - (time.monotonic() - self._last_ask)} seconds before requesting update')\n",
    "            return False\n",
    "        \n",
    "    def update(self, *args, **kwargs):\n",
    "        '''request an update of the plugin data\n",
    "            requests are throttled if they occur sooner than the cool-down period\n",
    "            defined by self.refresh_rate\n",
    "            \n",
    "            Returns:\n",
    "                self.hash(hash of time and self.name)\n",
    "            \n",
    "            calls self.update_function(*args, **kwargs):\n",
    "                self.update_function returns: (`tuple` of `bool`, `dict`, `int`): \n",
    "                    bool(true when plugin is updated) \n",
    "                    dict(data returned from plugin update_function to be passed into a layout)\n",
    "                    int(priority of this module; values approaching 0 are highest, negative\n",
    "                        values indicate plugin is inactive)\n",
    "\n",
    "            \n",
    "            Set here:\n",
    "                self.data\n",
    "                self.layout_obj.update_contents(self.data)\n",
    "                self.hash'''\n",
    "        if self._is_ready():\n",
    "            is_updated, data, priority = self.update_function(*args, **kwargs)\n",
    "            if data != self.data:\n",
    "                self.data = data\n",
    "                self.layout_obj.update_contents(data)\n",
    "                self.image = self.layout_obj.concat()\n",
    "                self.hash = self._generate_hash()\n",
    "            # always update the priority    \n",
    "            self.priority = priority\n",
    "        else:\n",
    "            pass\n",
    "        \n",
    "            \n",
    "        return self.hash\n",
    "    "
   ]
  },
  {
   "cell_type": "code",
   "execution_count": 7,
   "metadata": {},
   "outputs": [],
   "source": [
    "def main():\n",
    "    '''demo of Plugin data type'''\n",
    "    from random import randint\n",
    "    from IPython.display import display\n",
    "    from time import sleep\n",
    "    bogus_layout = {\n",
    "        'number': {\n",
    "            'image': None,\n",
    "            'max_lines': 1,\n",
    "            'width': 1,\n",
    "            'height': 1,\n",
    "            'abs_coordinates': (0, 0),\n",
    "            'rand': True,\n",
    "            'font': '../fonts/Dosis/Dosis-VariableFontwght.ttf',\n",
    "        },\n",
    "    }\n",
    "\n",
    "    # update_function that is added to the plugin as the method self.update_function\n",
    "    def bogus_plugin(self):\n",
    "        data = {'number': str(randint(99,9999))}\n",
    "        priority = self.max_priority\n",
    "        is_updated = True\n",
    "\n",
    "        return (is_updated, data, priority) \n",
    "\n",
    "\n",
    "    p = Plugin(resolution=(300, 210), \n",
    "               refresh_rate=3, \n",
    "               max_priority=1, \n",
    "               update_function=bogus_plugin, \n",
    "               layout=bogus_layout)\n",
    "\n",
    "#     Plugin.update_function = bogus_plugin\n",
    "    \n",
    "    logger.root.setLevel('DEBUG')\n",
    "    print('this demo is best run from inside jupyter notebook')\n",
    "    for i in range(5):\n",
    "        print('trying to update plugin')\n",
    "        p.update()\n",
    "        print('displaying image')\n",
    "        display(p.image)\n",
    "        print('sleep for 1 second')\n",
    "        sleep(1)\n",
    "    return p"
   ]
  },
  {
   "cell_type": "code",
   "execution_count": 8,
   "metadata": {},
   "outputs": [
    {
     "name": "stderr",
     "output_type": "stream",
     "text": [
      "DEBUG:root:creating layout\n",
      "DEBUG:root:calculating layout for resolution (300, 210)\n",
      "DEBUG:root:layout id(2954734976)\n",
      "DEBUG:root:*****number*****\n",
      "DEBUG:root:checking layout keys\n",
      "DEBUG:root:adding key: padding: 0\n",
      "DEBUG:root:adding key: hcenter: False\n",
      "DEBUG:root:adding key: vcenter: False\n",
      "DEBUG:root:adding key: inverse: False\n",
      "DEBUG:root:adding key: relative: False\n",
      "DEBUG:root:adding key: font_size: None\n",
      "DEBUG:root:adding key: maxchar: None\n",
      "DEBUG:root:adding key: dimensions: None\n",
      "DEBUG:root:adding key: scale_x: None\n",
      "DEBUG:root:adding key: scale_y: None\n",
      "DEBUG:root:dimensions: (300, 210)\n",
      "DEBUG:root:section has absolute coordinates\n",
      "DEBUG:root:coordinates: (0, 0)\n",
      "DEBUG:root:calculating maximum font size for area: (300, 210)\n",
      "DEBUG:root:using font: /home/pi/src/epd_display/paperpi/fonts/Dosis/Dosis-VariableFontwght.ttf\n",
      "DEBUG:root:target X font dimension 352.94117647058823\n",
      "DEBUG:root:target Y font dimension 157.5\n",
      "DEBUG:root:X target reached\n",
      "DEBUG:root:test string: W W W ; pixel dimensions for fontsize 125: (354, 131)\n",
      "DEBUG:root:***number***)\n",
      "INFO:root:set text block: number\n",
      "INFO:root:TextBlock created\n",
      "DEBUG:root:no maxchar set\n",
      "DEBUG:root:setting old_font = None\n",
      "DEBUG:root:calculating maximum characters for font ('Dosis', 'ExtraLight')\n",
      "DEBUG:root:maximum characters per line: 5\n",
      "DEBUG:root:formatting string: .\n",
      "DEBUG:root:formatted list:\n",
      " ['.']\n",
      "DEBUG:root:creating blank image area: (300, 210) with inverse: False\n",
      "DEBUG:root:line size: 20, 130\n",
      "DEBUG:root:max x dim so far: 20\n",
      "DEBUG:root:dimensions of text portion of image: (20, 130)\n",
      "DEBUG:root:drawing text at 0, 0\n",
      "DEBUG:root:with dimensions: 20, 130\n",
      "DEBUG:root:randomly positioning text within area\n",
      "DEBUG:root:pasting text portion at coordinates: 52, 44\n",
      "INFO:root:updating blocks\n",
      "DEBUG:root:updating block: number\n",
      "DEBUG:root:formatting string: 7795\n",
      "DEBUG:root:formatted list:\n",
      " ['7795']\n",
      "DEBUG:root:creating blank image area: (300, 210) with inverse: False\n",
      "DEBUG:root:line size: 230, 130\n",
      "DEBUG:root:max x dim so far: 230\n",
      "DEBUG:root:dimensions of text portion of image: (230, 130)\n",
      "DEBUG:root:drawing text at 0, 0\n",
      "DEBUG:root:with dimensions: 230, 130\n",
      "DEBUG:root:randomly positioning text within area\n",
      "DEBUG:root:pasting text portion at coordinates: 40, 32\n",
      "DEBUG:root:concating blocks into single image\n",
      "DEBUG:root:pasitng **number** image at: (0, 0)\n"
     ]
    },
    {
     "name": "stdout",
     "output_type": "stream",
     "text": [
      "this demo is best run from inside jupyter notebook\n",
      "trying to update plugin\n",
      "displaying image\n"
     ]
    },
    {
     "data": {
      "image/png": "[encoded data removed]",
      "text/plain": [
       "<PIL.Image.Image image mode=L size=300x210 at 0xB0D9AC70>"
      ]
     },
     "metadata": {},
     "output_type": "display_data"
    },
    {
     "name": "stdout",
     "output_type": "stream",
     "text": [
      "sleep for 1 second\n"
     ]
    },
    {
     "name": "stderr",
     "output_type": "stream",
     "text": [
      "DEBUG:root:throttling in effect -- wait for 1.911466280987952 seconds before requesting update\n"
     ]
    },
    {
     "name": "stdout",
     "output_type": "stream",
     "text": [
      "trying to update plugin\n",
      "displaying image\n"
     ]
    },
    {
     "data": {
      "image/png": "[encoded data removed]",
      "text/plain": [
       "<PIL.Image.Image image mode=L size=300x210 at 0xB0D9AC70>"
      ]
     },
     "metadata": {},
     "output_type": "display_data"
    },
    {
     "name": "stdout",
     "output_type": "stream",
     "text": [
      "sleep for 1 second\n"
     ]
    },
    {
     "name": "stderr",
     "output_type": "stream",
     "text": [
      "DEBUG:root:throttling in effect -- wait for 0.8929449860006571 seconds before requesting update\n"
     ]
    },
    {
     "name": "stdout",
     "output_type": "stream",
     "text": [
      "trying to update plugin\n",
      "displaying image\n"
     ]
    },
    {
     "data": {
      "image/png": "[encoded data removed]",
      "text/plain": [
       "<PIL.Image.Image image mode=L size=300x210 at 0xB0D9AC70>"
      ]
     },
     "metadata": {},
     "output_type": "display_data"
    },
    {
     "name": "stdout",
     "output_type": "stream",
     "text": [
      "sleep for 1 second\n"
     ]
    },
    {
     "name": "stderr",
     "output_type": "stream",
     "text": [
      "INFO:root:updating blocks\n",
      "DEBUG:root:updating block: number\n",
      "DEBUG:root:formatting string: 2417\n",
      "DEBUG:root:formatted list:\n",
      " ['2417']\n",
      "DEBUG:root:creating blank image area: (300, 210) with inverse: False\n",
      "DEBUG:root:line size: 191, 129\n",
      "DEBUG:root:max x dim so far: 191\n",
      "DEBUG:root:dimensions of text portion of image: (191, 129)\n",
      "DEBUG:root:drawing text at 0, 0\n",
      "DEBUG:root:with dimensions: 191, 129\n",
      "DEBUG:root:randomly positioning text within area\n",
      "DEBUG:root:pasting text portion at coordinates: 79, 40\n",
      "DEBUG:root:concating blocks into single image\n",
      "DEBUG:root:pasitng **number** image at: (0, 0)\n"
     ]
    },
    {
     "name": "stdout",
     "output_type": "stream",
     "text": [
      "trying to update plugin\n",
      "displaying image\n"
     ]
    },
    {
     "data": {
      "image/png": "[encoded data removed]",
      "text/plain": [
       "<PIL.Image.Image image mode=L size=300x210 at 0xB0187B10>"
      ]
     },
     "metadata": {},
     "output_type": "display_data"
    },
    {
     "name": "stdout",
     "output_type": "stream",
     "text": [
      "sleep for 1 second\n"
     ]
    },
    {
     "name": "stderr",
     "output_type": "stream",
     "text": [
      "DEBUG:root:throttling in effect -- wait for 1.9157721880474128 seconds before requesting update\n"
     ]
    },
    {
     "name": "stdout",
     "output_type": "stream",
     "text": [
      "trying to update plugin\n",
      "displaying image\n"
     ]
    },
    {
     "data": {
      "image/png": "[encoded data removed]",
      "text/plain": [
       "<PIL.Image.Image image mode=L size=300x210 at 0xB0187B10>"
      ]
     },
     "metadata": {},
     "output_type": "display_data"
    },
    {
     "name": "stdout",
     "output_type": "stream",
     "text": [
      "sleep for 1 second\n"
     ]
    }
   ],
   "source": [
    "if __name__ == '__main__':\n",
    "    p = main()"
   ]
  },
  {
   "cell_type": "code",
   "execution_count": null,
   "metadata": {},
   "outputs": [],
   "source": []
  }
 ],
 "metadata": {
  "kernelspec": {
   "display_name": "epd_display-ApAYs8Kw",
   "language": "python",
   "name": "epd_display-apays8kw"
  },
  "language_info": {
   "codemirror_mode": {
    "name": "ipython",
    "version": 3
   },
   "file_extension": ".py",
   "mimetype": "text/x-python",
   "name": "python",
   "nbconvert_exporter": "python",
   "pygments_lexer": "ipython3",
   "version": "3.7.3"
  }
 },
 "nbformat": 4,
 "nbformat_minor": 4
}
