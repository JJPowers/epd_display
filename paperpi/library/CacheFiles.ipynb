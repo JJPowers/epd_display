{
 "cells": [
  {
   "cell_type": "code",
   "execution_count": 35,
   "metadata": {},
   "outputs": [
    {
     "name": "stdout",
     "output_type": "stream",
     "text": [
      "[NbConvertApp] Converting notebook CacheFiles.ipynb to python\n",
      "[NbConvertApp] Writing 4938 bytes to CacheFiles.py\n"
     ]
    }
   ],
   "source": [
    "!jupyter-nbconvert --to python --template python_clean CacheFiles.ipynb"
   ]
  },
  {
   "cell_type": "code",
   "execution_count": 1,
   "metadata": {},
   "outputs": [],
   "source": [
    "import logging\n",
    "from pathlib import Path\n",
    "import tempfile\n",
    "import shutil\n",
    "import requests"
   ]
  },
  {
   "cell_type": "code",
   "execution_count": 2,
   "metadata": {},
   "outputs": [],
   "source": [
    "logger = logging.getLogger(__name__)"
   ]
  },
  {
   "cell_type": "code",
   "execution_count": 29,
   "metadata": {},
   "outputs": [],
   "source": [
    "class CacheFiles:\n",
    "    '''file caching object\n",
    "        Download remote files using requests.get and cache locally\n",
    "        locally cached files will not be downloaded again'''\n",
    "    \n",
    "    def __init__(self, path=None, path_prefix=None):\n",
    "        self.path_prefix = path_prefix\n",
    "        self.path = path        \n",
    "    \n",
    "    def __repr__(self):\n",
    "        return f'{type(self._path)}({self.path})'\n",
    "    \n",
    "    def __str__(self):\n",
    "        return str(self.path)\n",
    "\n",
    "    @property\n",
    "    def path(self):\n",
    "        '''path to file cache\n",
    "            if no path is provided /tmp/ will be used\n",
    "        \n",
    "        Args:\n",
    "            path(None or `str`): None(default) or /full/path/to/file_cache/'''\n",
    "        if isinstance(self._path, tempfile.TemporaryDirectory):\n",
    "            return Path(self._path.name)\n",
    "        elif isinstance(self._path, Path):\n",
    "            return str(self._path.absolute)\n",
    "        else:\n",
    "            return str(self._path)\n",
    "    \n",
    "    @path.setter\n",
    "    def path(self, path):\n",
    "        if path:\n",
    "            self._path = Path(path)\n",
    "        else:\n",
    "            self._path = tempfile.TemporaryDirectory(prefix=self.path_prefix)\n",
    "            \n",
    "    @property\n",
    "    def path_prefix(self):\n",
    "        '''prefix to use when setting a cache path in /tmp\n",
    "            prefixes will always be suffixed with \"_\" to make more readable\n",
    "        \n",
    "        Args:\n",
    "            prefix(`str`): prefix-to-append; '''\n",
    "        return self._path_prefix\n",
    "    \n",
    "    @path_prefix.setter\n",
    "    def path_prefix(self, path_prefix):\n",
    "        if not path_prefix:\n",
    "            self._path_prefix = ''  \n",
    "        elif path_prefix.endswith('_'):\n",
    "            self._path_prefix = path_prefix\n",
    "        else:\n",
    "            self._path_prefix = path_prefix+'_'\n",
    "    \n",
    "    def cleanup(self):\n",
    "        '''recursively remove all cached files and cache path'''\n",
    "        if isinstance(self._path, tempfile.TemporaryDirectory):\n",
    "            self._path.cleanup()\n",
    "        \n",
    "        elif isinstance(self._path, Path):\n",
    "            shutil.rmtree(self._path)\n",
    "        else:\n",
    "            logging.warning(f'no cleanup method for this datatype: {type(self.path)}')\n",
    "    \n",
    "    def cache_file(self, url, file_id, force=False):\n",
    "        '''download a remote file and return the local path to the file\n",
    "            if a local file with the same name is found, download is skipped and path returned\n",
    "        \n",
    "        Args:\n",
    "            url(`str`): url to remote file\n",
    "            file_id(`str`): name to use for local file\n",
    "            force(`bool`): force a download ignoring local files with the same name'''\n",
    "        file_id = str(file_id)\n",
    "        local_file = Path(self.path/file_id).absolute()\n",
    "        \n",
    "        logging.debug(f'caching file from url {url} to {local_file}')\n",
    "        \n",
    "        if local_file.exists() and force is False:\n",
    "            logging.debug(f'file previously cached')\n",
    "            return local_file\n",
    "        \n",
    "        try:\n",
    "            r = requests.get(url, stream=True)\n",
    "        except requests.exceptions.RequestException as e:\n",
    "            logging.error(f'failed to fetch file at: {url} with error: {e}')\n",
    "            return None\n",
    "        \n",
    "        if r.status_code == 200:\n",
    "            logging.debug(f'writing file to file{local_file}')\n",
    "            \n",
    "            try:\n",
    "                with open(local_file, 'wb') as file:\n",
    "                    shutil.copyfileobj(r.raw, file)\n",
    "            except FileNotFoundError as e:\n",
    "                logging.warning(f'cache directory \"{self.path}\" is missing; recreating')\n",
    "                try:\n",
    "                    self.path.mkdir()\n",
    "                    return self.cache_file(url, file_id)\n",
    "                except Exception as e:\n",
    "                    logging.error(f'could not create \"{self.path}\"')\n",
    "            except (OSError, ValueError) as e:\n",
    "                logging.error(f'failed to write {local_file}: {e}')\n",
    "                logging.error(f'{type(e)}')\n",
    "                return None\n",
    "            except (FileExistsError) as e:\n",
    "                logging.warning(f'file \"{local_file}\" appears to exist already; no action taken')\n",
    "                return local_file\n",
    "        else:\n",
    "            logging.error(f'failed to fetch file at {url} with response code: {r.status_code}')\n",
    "            return None\n",
    "            \n",
    "        return local_file"
   ]
  },
  {
   "cell_type": "code",
   "execution_count": 13,
   "metadata": {},
   "outputs": [],
   "source": [
    "def main():\n",
    "    '''demo'''\n",
    "    logging.basicConfig(level=logging.DEBUG)\n",
    "    cache = CacheFiles(path_prefix='demo_')\n",
    "    print(f'created a cache directory: {cache}')\n",
    "    file = cache.cache_file('https://en.wikipedia.org/static/images/project-logos/enwiki-2x.png', 'wiki_logo.png')\n",
    "    print(f'cached a file: {file}')\n",
    "    print(f'downloading the same file again...')\n",
    "    file = cache.cache_file('https://en.wikipedia.org/static/images/project-logos/enwiki-2x.png', 'wiki_logo.png')\n",
    "    print('cleaning up cache directory now...')\n",
    "    cache.cleanup()"
   ]
  },
  {
   "cell_type": "code",
   "execution_count": 14,
   "metadata": {},
   "outputs": [
    {
     "name": "stderr",
     "output_type": "stream",
     "text": [
      "DEBUG:root:caching file from url https://en.wikipedia.org/static/images/project-logos/enwiki-2x.png to /tmp/demo_d3sgcxf2/wiki_logo.png\n",
      "DEBUG:urllib3.connectionpool:Starting new HTTPS connection (1): en.wikipedia.org:443\n",
      "DEBUG:urllib3.connectionpool:https://en.wikipedia.org:443 \"GET /static/images/project-logos/enwiki-2x.png HTTP/1.1\" 200 20024\n",
      "DEBUG:root:writing file to file/tmp/demo_d3sgcxf2/wiki_logo.png\n",
      "DEBUG:root:caching file from url https://en.wikipedia.org/static/images/project-logos/enwiki-2x.png to /tmp/demo_d3sgcxf2/wiki_logo.png\n",
      "DEBUG:root:file previously cached\n"
     ]
    },
    {
     "name": "stdout",
     "output_type": "stream",
     "text": [
      "created a cache directory: /tmp/demo_d3sgcxf2\n",
      "cached a file: /tmp/demo_d3sgcxf2/wiki_logo.png\n",
      "downloading the same file again...\n",
      "cleaning up cache directory now...\n"
     ]
    }
   ],
   "source": [
    "if __name__ == \"__main__\":\n",
    "    main()"
   ]
  },
  {
   "cell_type": "code",
   "execution_count": null,
   "metadata": {},
   "outputs": [],
   "source": []
  }
 ],
 "metadata": {
  "kernelspec": {
   "display_name": "epd_display-ApAYs8Kw",
   "language": "python",
   "name": "epd_display-apays8kw"
  },
  "language_info": {
   "codemirror_mode": {
    "name": "ipython",
    "version": 3
   },
   "file_extension": ".py",
   "mimetype": "text/x-python",
   "name": "python",
   "nbconvert_exporter": "python",
   "pygments_lexer": "ipython3",
   "version": "3.7.3"
  }
 },
 "nbformat": 4,
 "nbformat_minor": 4
}
