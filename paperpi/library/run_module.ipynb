{
 "cells": [
  {
   "cell_type": "code",
   "execution_count": 36,
   "metadata": {},
   "outputs": [],
   "source": [
    "import importlib\n",
    "import inspect\n",
    "from pathlib import Path\n",
    "from datetime import datetime"
   ]
  },
  {
   "cell_type": "code",
   "execution_count": 4,
   "metadata": {},
   "outputs": [],
   "source": [
    "def run_module(module_args=[]):\n",
    "    def print_usage():\n",
    "        print('Usage:')\n",
    "        print('--run_plugin_func plugin.function [ARG1] [ARG2]')\n",
    "        print('\\nor for more information:\\n--plugin_info plugin')\n",
    "         \n",
    "    if not module_args:\n",
    "        print_usage()\n",
    "        return\n",
    "    \n",
    "    my_module = module_args[0].split('.')\n",
    "    my_args = module_args[1:]\n",
    "    if len(my_args) < 1:\n",
    "        my_args.append(None)\n",
    "        \n",
    "    if len(my_module) < 2:\n",
    "        print_usage()\n",
    "        return\n",
    "    \n",
    "    try:\n",
    "        i = importlib.import_module(f'plugins.{my_module[0]}.{my_module[0]}')\n",
    "    except Exception as e:\n",
    "        print(type(e))\n",
    "        print(f'error running plugin function: {my_module[0]}')\n",
    "        return\n",
    "    \n",
    "    try:\n",
    "        my_function = getattr(i, my_module[1])\n",
    "    except AttributeError as e:\n",
    "        print(f'error: module {my_module[0]} has no function \"{my_module[1]}\"')\n",
    "        return\n",
    "        \n",
    "    try:\n",
    "        my_function(my_args[0])\n",
    "    except Exception as e:\n",
    "        print(f'error: {e}')\n",
    "        return\n",
    "    "
   ]
  },
  {
   "cell_type": "code",
   "execution_count": 49,
   "metadata": {},
   "outputs": [],
   "source": [
    "def add_config(module=None, config_file=None):\n",
    "    def print_usage():\n",
    "        print('Adds basic configuration to config file')\n",
    "        print('Usage:')\n",
    "        print('--add_config plugin user|daemon')\n",
    "        print('\\nExample: --add_config moon_phase daemon')\n",
    "        print('\\nfor list of plugins:\\n--list_plugins')\n",
    "    \n",
    "    def time_stamp():\n",
    "        return datetime.now().strftime('# {} added >>>>>>  %Y.%m.%d %H:%M:%S\\n')    \n",
    "    \n",
    "    if not module:\n",
    "        print_usage()\n",
    "        return\n",
    "    \n",
    "    my_module = module\n",
    "    my_config = Path(config_file)\n",
    "    \n",
    "    try:\n",
    "        i = importlib.import_module(f'plugins.{module}.constants')\n",
    "    except Exception as e:\n",
    "        print(f'plugin \"{module}\" not found\\n')\n",
    "        print_usage()\n",
    "        return\n",
    "    \n",
    "    try:\n",
    "        config = i.sample_config\n",
    "    except AttributeError:\n",
    "        print('this plugin does not appear to have a sample configuration')\n",
    "        print('aborting')\n",
    "        return\n",
    "\n",
    "    try:\n",
    "        with open(config_file, 'a') as f:\n",
    "            f.write(time_stamp().format('start'))\n",
    "            f.write(config)\n",
    "            f.write(time_stamp().format('end'))\n",
    "    except PermissionError:\n",
    "        print('It appears you are trying to append to the daemon config file;')\n",
    "        print('you may need to run this with \"sudo.\"')\n",
    "        return\n",
    "    except OSError as e:\n",
    "        print(f'An error occured while writing file \"{config}\": {e}')\n",
    "        return\n",
    "\n",
    "    print(f'Finished writing configuration for {module}')\n",
    "    print(f'It is a very good idea to open {config_file}\\nand check the configuration you have just added!')\n",
    "    \n",
    "    "
   ]
  },
  {
   "cell_type": "code",
   "execution_count": 6,
   "metadata": {},
   "outputs": [
    {
     "name": "stdout",
     "output_type": "stream",
     "text": [
      "[NbConvertApp] Converting notebook run_module.ipynb to python\n",
      "[NbConvertApp] Writing 2744 bytes to run_module.py\n"
     ]
    }
   ],
   "source": [
    "!jupyter-nbconvert --to python --template python_clean run_module"
   ]
  }
 ],
 "metadata": {
  "kernelspec": {
   "display_name": "epd_display-ApAYs8Kw",
   "language": "python",
   "name": "epd_display-apays8kw"
  },
  "language_info": {
   "codemirror_mode": {
    "name": "ipython",
    "version": 3
   },
   "file_extension": ".py",
   "mimetype": "text/x-python",
   "name": "python",
   "nbconvert_exporter": "python",
   "pygments_lexer": "ipython3",
   "version": "3.7.3"
  }
 },
 "nbformat": 4,
 "nbformat_minor": 4
}
