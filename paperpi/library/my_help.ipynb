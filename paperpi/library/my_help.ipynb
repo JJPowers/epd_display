{
 "cells": [
  {
   "cell_type": "code",
   "execution_count": null,
   "metadata": {},
   "outputs": [],
   "source": [
    "def my_help(func=None):\n",
    "    '''Print help for this plugin\n",
    "\n",
    "    Args:\n",
    "        func(`string`): name of function '''\n",
    "    import types\n",
    "    print(f'Plugin: {constants.name}: {constants.version}')\n",
    "    if not func:\n",
    "        l = [f for f in globals().values() if type(f) == types.FunctionType]\n",
    "        print('*'*50)\n",
    "        print('Available functions in this plugin:')\n",
    "        for i in l:\n",
    "            print(f'##### {i.__name__} #####')\n",
    "            print(f'{i.__doc__}\\n\\n')\n",
    "\n",
    "        print('*'*50)\n",
    "        print('Available Layouts:')\n",
    "        for name in vars(layout).keys():\n",
    "            if not name.startswith('__') and not name in ('os', 'dir_path'):\n",
    "                print(f'  {name}')\n",
    "\n",
    "        print('*'*50)\n",
    "        print('data dictionary keys available for layouts:')\n",
    "        for k in constants.data:\n",
    "            print(f'   {k}')\n",
    "\n",
    "    else:\n",
    "        print(f'{func.__doc__}')"
   ]
  }
 ],
 "metadata": {
  "kernelspec": {
   "display_name": "epd_display-ApAYs8Kw",
   "language": "python",
   "name": "epd_display-apays8kw"
  },
  "language_info": {
   "codemirror_mode": {
    "name": "ipython",
    "version": 3
   },
   "file_extension": ".py",
   "mimetype": "text/x-python",
   "name": "python",
   "nbconvert_exporter": "python",
   "pygments_lexer": "ipython3",
   "version": "3.7.3"
  }
 },
 "nbformat": 4,
 "nbformat_minor": 4
}
