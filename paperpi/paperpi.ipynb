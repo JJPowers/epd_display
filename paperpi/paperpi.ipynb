{
 "cells": [
  {
   "cell_type": "markdown",
   "metadata": {},
   "source": [
    "# PaperPi Structure\n",
    "Supervisor will loop and poll each plugin for an update. Plugins are all`Plugin()` objects with a `poll` method\n",
    "\n",
    "When polled `Plugin()` objects respond with a structured list (tuple/dict) with the following information:\n",
    "* Priority(`int`): 0 (high) -- 10+ (low); plugins with negative values are excluded\n",
    "* Update Required(`bool`): True update; False do not update\n",
    "\n",
    "Plugin objects require the following parameters:\n",
    "* configuration(`dict`) argparse/config.ini style dict\n",
    "* resolution (this may be pulled from the configuration?)\n",
    "* name(`str`) human readable name for logging and reference\n",
    "* update_function(`func`): function that will run and provide updates and status"
   ]
  },
  {
   "cell_type": "code",
   "execution_count": 44,
   "metadata": {},
   "outputs": [
    {
     "name": "stdout",
     "output_type": "stream",
     "text": [
      "The autoreload extension is already loaded. To reload it, use:\n",
      "  %reload_ext autoreload\n"
     ]
    }
   ],
   "source": [
    "%load_ext autoreload\n",
    "%autoreload 2"
   ]
  },
  {
   "cell_type": "code",
   "execution_count": 45,
   "metadata": {},
   "outputs": [],
   "source": [
    "import logging\n",
    "from itertools import cycle\n",
    "from inspect import getfullargspec\n",
    "from importlib import import_module\n",
    "from time import sleep\n",
    "\n"
   ]
  },
  {
   "cell_type": "code",
   "execution_count": 79,
   "metadata": {},
   "outputs": [],
   "source": [
    "import constants\n",
    "from epdlib import Screen\n",
    "from epdlib.Screen import Update\n",
    "from library.CacheFiles import CacheFiles\n",
    "from library.Plugin import Plugin\n",
    "from library.InterruptHandler import InterruptHandler"
   ]
  },
  {
   "cell_type": "code",
   "execution_count": 47,
   "metadata": {},
   "outputs": [],
   "source": [
    "logging.basicConfig(level=logging.INFO)\n"
   ]
  },
  {
   "cell_type": "code",
   "execution_count": 48,
   "metadata": {},
   "outputs": [],
   "source": [
    "logging.root.setLevel('DEBUG')"
   ]
  },
  {
   "cell_type": "code",
   "execution_count": 64,
   "metadata": {},
   "outputs": [],
   "source": [
    "config = {\n",
    "    'main': {\n",
    "        'resolution': (500, 400),\n",
    "        'splash': True\n",
    "    },\n",
    "    'Plugin: Clock': {\n",
    "        'layout': 'layout',\n",
    "        'plugin': 'basic_clock',\n",
    "        'refresh_rate': 30,\n",
    "        'min_display_time': 10,\n",
    "        'max_priority': 1\n",
    "    },\n",
    "    'Plugin: Word Clock': {\n",
    "        'layout': 'word_clock',\n",
    "        'plugin': 'word_clock',\n",
    "        'refresh_rate': 30,\n",
    "        'min_display_time': 10,\n",
    "        'max_priority': 1,\n",
    "    },\n",
    "    'Plugin: Decimal Binary Clock': {\n",
    "        'layout': 'dec_binary_clock',\n",
    "        'plugin': 'dec_binary_clock',\n",
    "        'refresh_rate': 30,\n",
    "        'min_display_time': 10,\n",
    "        'max_priority': 1,\n",
    "    },\n",
    "    'Plugin: LMS MacPlay': {\n",
    "        'layout': 'twoColumn',\n",
    "        'plugin': 'lms_client',\n",
    "        'refresh_rate': 5,\n",
    "        'player_name': 'MacPlay',\n",
    "        'min_display_time': 15,\n",
    "        'max_priority': 0,\n",
    "        'idle_timeout': 10\n",
    "    },\n",
    "    'Plugin: LibreSpot': {\n",
    "        'layout': 'twoColumn',\n",
    "        'plugin': 'librespot_client',\n",
    "        'refresh_rate': 10,\n",
    "        'player_name': 'SpoCon-Spotify',\n",
    "        'idle_timeout': 15,\n",
    "        'max_priority': 0,\n",
    "    }\n",
    "}\n"
   ]
  },
  {
   "cell_type": "code",
   "execution_count": 84,
   "metadata": {},
   "outputs": [],
   "source": [
    "# logging.root.setLevel('DEBUG')\n",
    "logging.root.setLevel('INFO')"
   ]
  },
  {
   "cell_type": "code",
   "execution_count": 85,
   "metadata": {},
   "outputs": [],
   "source": [
    "splash_config = {\n",
    "    'name': 'Splash Screen',\n",
    "    'layout': splash_screen.layout.layout,\n",
    "    'update_function': splash_screen.update_function,\n",
    "    'resolution': config['main']['resolution']\n",
    "}"
   ]
  },
  {
   "cell_type": "code",
   "execution_count": 86,
   "metadata": {},
   "outputs": [
    {
     "name": "stderr",
     "output_type": "stream",
     "text": [
      "INFO:root:set text block: app_name\n",
      "INFO:root:TextBlock created\n",
      "INFO:root:set text block: version\n",
      "INFO:root:TextBlock created\n",
      "INFO:root:set text block: url\n",
      "INFO:root:TextBlock created\n"
     ]
    }
   ],
   "source": [
    "\n",
    "if 'splash' in config['main']:\n",
    "    if config['main']['splash']:\n",
    "        from plugins.splash_screen import splash_screen\n",
    "        splash = Plugin(**splash_config)\n",
    "else:\n",
    "    splash = None"
   ]
  },
  {
   "cell_type": "code",
   "execution_count": 90,
   "metadata": {},
   "outputs": [
    {
     "name": "stderr",
     "output_type": "stream",
     "text": [
      "INFO:root:[[ Plugin: Clock ]]\n",
      "INFO:root:set text block: digit_time\n",
      "INFO:root:TextBlock created\n",
      "INFO:root:updating blocks\n",
      "INFO:root:appending plugin\n",
      "INFO:root:[[ Plugin: Word Clock ]]\n",
      "INFO:root:set text block: wordtime\n",
      "INFO:root:TextBlock created\n",
      "INFO:root:set text block: time\n",
      "INFO:root:TextBlock created\n",
      "INFO:root:updating blocks\n",
      "INFO:root:appending plugin\n",
      "INFO:root:[[ Plugin: Decimal Binary Clock ]]\n",
      "INFO:root:set image block bin_img\n",
      "INFO:root:Image Block Created\n",
      "INFO:root:set text block: time\n",
      "INFO:root:TextBlock created\n",
      "INFO:root:updating blocks\n",
      "INFO:root:appending plugin\n",
      "INFO:root:[[ Plugin: LMS MacPlay ]]\n",
      "INFO:root:set image block coverart\n",
      "INFO:root:Image Block Created\n",
      "INFO:root:set text block: title\n",
      "INFO:root:TextBlock created\n",
      "INFO:root:set text block: artist\n",
      "INFO:root:TextBlock created\n",
      "INFO:root:set text block: album\n",
      "INFO:root:TextBlock created\n",
      "WARNING:root:error getting now plyaing information for \"MacPlay\": KeyError 'playlist_cur_index'\n",
      "WARNING:root:this error is typical of newly added player or player that has no \"now playing\" data\n",
      "INFO:root:updating blocks\n",
      "WARNING:root:could not open image file None\n",
      "WARNING:root:error: [Errno 2] No such file or directory: 'None'\n",
      "WARNING:root:using empty image\n",
      "ERROR:root:failed to update due to error: local variable 'im' referenced before assignment\n",
      "INFO:root:appending plugin\n",
      "INFO:root:[[ Plugin: LibreSpot ]]\n",
      "INFO:root:set image block coverart\n",
      "INFO:root:Image Block Created\n",
      "INFO:root:set text block: title\n",
      "INFO:root:TextBlock created\n",
      "INFO:root:set text block: artist\n",
      "INFO:root:TextBlock created\n",
      "INFO:root:set text block: album\n",
      "INFO:root:TextBlock created\n",
      "INFO:root:updating blocks\n",
      "INFO:root:appending plugin\n"
     ]
    }
   ],
   "source": [
    "cache = CacheFiles(path_prefix=constants.app_name)\n",
    "# get the expected key-word args from the Plugin() spec\n",
    "spec_kwargs = getfullargspec(Plugin).args\n",
    "\n",
    "plugins = []\n",
    "\n",
    "for section, values in config.items():\n",
    "    # ignore the other sections\n",
    "    if section.startswith('Plugin:'):\n",
    "        logging.info(f'[[ {section} ]]')\n",
    "\n",
    "        my_config = {}\n",
    "        # add all the spec_kwargs from the config\n",
    "        plugin_kwargs = {}\n",
    "        for key, val in values.items():\n",
    "            if key in spec_kwargs:\n",
    "                my_config[key] = val\n",
    "            else:\n",
    "                # add everything that is not one of the spec_kwargs to this dict\n",
    "                plugin_kwargs[key] = val\n",
    "        \n",
    "        # populate the kwargs my_config dict that will be passed to the Plugin() object\n",
    "        my_config['name'] = section\n",
    "        my_config['resolution'] = config['main']['resolution']\n",
    "        my_config['config'] = plugin_kwargs\n",
    "        my_config['cache'] = cache\n",
    "        try:\n",
    "            module = import_module(f'plugins.{values[\"plugin\"]}')\n",
    "            my_config['update_function'] = module.update_function\n",
    "            my_config['layout'] = getattr(module.layout, values['layout'])\n",
    "        except KeyError as e:\n",
    "            ## FIX ME -- do a graceful exit here?\n",
    "            logging.info('no module specified; skipping update_function and layout')\n",
    "        my_plugin = Plugin(**my_config)\n",
    "        try:\n",
    "            my_plugin.update()\n",
    "        except AttributeError:\n",
    "            ## FIX ME -- do a graceful exit here?\n",
    "            logging.info('skipping update due to missing update_function')\n",
    "        logging.info(f'appending plugin')\n",
    "        plugins.append(my_plugin)"
   ]
  },
  {
   "cell_type": "code",
   "execution_count": 92,
   "metadata": {
    "scrolled": false
   },
   "outputs": [
    {
     "data": {
      "image/png": "[encoded data removed]",
      "text/plain": [
       "<PIL.Image.Image image mode=L size=500x400 at 0xAF49F6F0>"
      ]
     },
     "metadata": {},
     "output_type": "display_data"
    },
    {
     "data": {
      "image/png": "[encoded data removed]",
      "text/plain": [
       "<PIL.Image.Image image mode=L size=500x400 at 0xAED4CB30>"
      ]
     },
     "metadata": {},
     "output_type": "display_data"
    },
    {
     "data": {
      "image/png": "[encoded data removed]",
      "text/plain": [
       "<PIL.Image.Image image mode=L size=500x400 at 0xAED4C090>"
      ]
     },
     "metadata": {},
     "output_type": "display_data"
    },
    {
     "data": {
      "image/png": "[encoded data removed]",
      "text/plain": [
       "<PIL.Image.Image image mode=L size=500x400 at 0xAF0273B0>"
      ]
     },
     "metadata": {},
     "output_type": "display_data"
    },
    {
     "data": {
      "image/png": "[encoded data removed]",
      "text/plain": [
       "<PIL.Image.Image image mode=L size=500x400 at 0xAD18B090>"
      ]
     },
     "metadata": {},
     "output_type": "display_data"
    },
    {
     "name": "stdout",
     "output_type": "stream",
     "text": [
      "cleanup here\n"
     ]
    }
   ],
   "source": [
    "## FIX ME Remove this import only for testing in Jupyter\n",
    "from IPython.display import display\n",
    "## FIX ME\n",
    "\n",
    "logging.root.setLevel('WARNING')\n",
    "\n",
    "if splash:\n",
    "    splash.update(constants.app_name, constants.version, constants.url)\n",
    "    display(splash.image)\n",
    "\n",
    "# use itertools cycle to move between list elements\n",
    "plugin_cycle = cycle(plugins)\n",
    "plugin_is_active = False\n",
    "# current plugin for display\n",
    "this_plugin = next(plugin_cycle)\n",
    "# track time plugin is displayed for\n",
    "this_plugin_timer = Update()\n",
    "max_priority = -1\n",
    "# each plugin generates a unique hash whenever it is updated\n",
    "this_hash = ''\n",
    "\n",
    "# display_loop_sighandler = SignalHandler()\n",
    "\n",
    "\n",
    "\n",
    "with InterruptHandler() as h:\n",
    "    while True:    \n",
    "        if h.interrupted:\n",
    "            logging.info('caught interrupt -- stoping execution')\n",
    "            break\n",
    "        logging.info('updating plugins')\n",
    "        priority_list = []\n",
    "\n",
    "        for plugin in plugins:\n",
    "            logging.debug(f'[[ {plugin.name} ]]')\n",
    "            plugin.update()\n",
    "            # record the priority of all active plugins (priority < 0 is considered inactive)\n",
    "            if plugin.priority >= 0:\n",
    "                priority_list.append(plugin.priority)\n",
    "\n",
    "        # priority increases as it approaches 0; negative priorities are considered inactive        \n",
    "        max_priority = min(priority_list)\n",
    "        logging.info(f'current maximum priority: {max_priority}')\n",
    "\n",
    "        logging.info(f'displaying plugins')\n",
    "        logging.info(f'[[ {this_plugin.name} ]]')\n",
    "\n",
    "        if this_plugin_timer.last_updated > this_plugin.min_display_time:\n",
    "            logging.info(f'this plugin\\'s display timer expired; switching plugin')\n",
    "            plugin_is_active = False\n",
    "\n",
    "            while not plugin_is_active:\n",
    "                this_plugin = next(plugin_cycle)\n",
    "                logging.debug(f'checking priority of {plugin.name}')\n",
    "                if this_plugin.priority >= 0 and this_plugin.priority <= max_priority:\n",
    "                    plugin_is_active = True\n",
    "                else:\n",
    "                    logging.debug(f'priority is too low: {this_plugin.priority}, max_priority: {max_priority}')\n",
    "                    plugin_is_active = False                \n",
    "                    ## this would be a good place to track failed attempts to find a plugin with appropriate\n",
    "                    ## display value\n",
    "\n",
    "            logging.debug(f'preparing to display {this_plugin.name}')\n",
    "\n",
    "            if this_hash != this_plugin.hash:\n",
    "                logging.debug('plugin image has refreshed -- refreshing screen')\n",
    "                this_hash = this_plugin.hash\n",
    "                ## FIX ME! this is where the epdlib.Screen belongs\n",
    "                display(this_plugin.image)\n",
    "            else:\n",
    "                logging.debug('plugin image has not refreshed -- skiping screen refresh')\n",
    "            this_plugin_timer.update()\n",
    "\n",
    "        ## FIX ME -- find a better way to sleep here?\n",
    "        sleep(1)\n",
    "print('cleanup here')\n",
    "cache.cleanup()"
   ]
  },
  {
   "cell_type": "code",
   "execution_count": null,
   "metadata": {
    "scrolled": true
   },
   "outputs": [],
   "source": []
  },
  {
   "cell_type": "code",
   "execution_count": null,
   "metadata": {},
   "outputs": [],
   "source": []
  }
 ],
 "metadata": {
  "kernelspec": {
   "display_name": "epd_display-ApAYs8Kw",
   "language": "python",
   "name": "epd_display-apays8kw"
  },
  "language_info": {
   "codemirror_mode": {
    "name": "ipython",
    "version": 3
   },
   "file_extension": ".py",
   "mimetype": "text/x-python",
   "name": "python",
   "nbconvert_exporter": "python",
   "pygments_lexer": "ipython3",
   "version": "3.7.3"
  }
 },
 "nbformat": 4,
 "nbformat_minor": 4
}
