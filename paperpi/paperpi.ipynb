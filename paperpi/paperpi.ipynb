{
 "cells": [
  {
   "cell_type": "markdown",
   "metadata": {},
   "source": [
    "# PaperPi Structure\n",
    "Supervisor will loop and poll each plugin for an update. Plugins are all`Plugin()` objects with a `poll` method\n",
    "\n",
    "When polled `Plugin()` objects respond with a structured list (tuple/dict) with the following information:\n",
    "* Priority(`int`): 0 (high) -- 10+ (low); plugins with negative values are excluded\n",
    "* Update Required(`bool`): True update; False do not update\n",
    "\n",
    "Plugin objects require the following parameters:\n",
    "* configuration(`dict`) argparse/config.ini style dict\n",
    "* resolution (this may be pulled from the configuration?)\n",
    "* name(`str`) human readable name for logging and reference\n",
    "* update_function(`func`): function that will run and provide updates and status"
   ]
  },
  {
   "cell_type": "code",
   "execution_count": 1,
   "metadata": {},
   "outputs": [],
   "source": [
    "%load_ext autoreload\n",
    "%autoreload 2"
   ]
  },
  {
   "cell_type": "code",
   "execution_count": 2,
   "metadata": {},
   "outputs": [],
   "source": [
    "import logging\n"
   ]
  },
  {
   "cell_type": "code",
   "execution_count": 3,
   "metadata": {},
   "outputs": [],
   "source": [
    "from library import *"
   ]
  },
  {
   "cell_type": "code",
   "execution_count": 4,
   "metadata": {},
   "outputs": [],
   "source": [
    "logger = logging.getLogger(__name__)"
   ]
  },
  {
   "cell_type": "code",
   "execution_count": null,
   "metadata": {},
   "outputs": [],
   "source": []
  }
 ],
 "metadata": {
  "kernelspec": {
   "display_name": "epd_display-ApAYs8Kw",
   "language": "python",
   "name": "epd_display-apays8kw"
  },
  "language_info": {
   "codemirror_mode": {
    "name": "ipython",
    "version": 3
   },
   "file_extension": ".py",
   "mimetype": "text/x-python",
   "name": "python",
   "nbconvert_exporter": "python",
   "pygments_lexer": "ipython3",
   "version": "3.7.3"
  }
 },
 "nbformat": 4,
 "nbformat_minor": 4
}
