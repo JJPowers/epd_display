{
 "cells": [
  {
   "cell_type": "code",
   "execution_count": 54,
   "metadata": {},
   "outputs": [],
   "source": [
    "from datetime import datetime\n",
    "from PIL import Image, ImageDraw\n",
    "import re\n",
    "import logging"
   ]
  },
  {
   "cell_type": "code",
   "execution_count": null,
   "metadata": {},
   "outputs": [],
   "source": [
    "try:\n",
    "    from . import layout\n",
    "    from . import constants\n",
    "except ImportError:\n",
    "    import layout \n",
    "    import constants"
   ]
  },
  {
   "cell_type": "code",
   "execution_count": 4,
   "metadata": {},
   "outputs": [],
   "source": [
    "logger = logging.getLogger(__name__)"
   ]
  },
  {
   "cell_type": "code",
   "execution_count": 9,
   "metadata": {},
   "outputs": [],
   "source": [
    "def split_place_value(d):\n",
    "    tens = int((d-(d%10))/10)\n",
    "    ones = int(d-tens*10)\n",
    "    return tens, ones"
   ]
  },
  {
   "cell_type": "code",
   "execution_count": 12,
   "metadata": {},
   "outputs": [],
   "source": [
    "def time_now():\n",
    "    return datetime.now().strftime(\"%H:%M\")"
   ]
  },
  {
   "cell_type": "code",
   "execution_count": 13,
   "metadata": {},
   "outputs": [],
   "source": [
    "def split_by_place(d):\n",
    "    num_list = [i for i in str(d)]\n",
    "    return num_list"
   ]
  },
  {
   "cell_type": "code",
   "execution_count": 17,
   "metadata": {},
   "outputs": [],
   "source": [
    "def dec2bin(d, min_bits=4):\n",
    "    bin_array = []\n",
    "    whole = d\n",
    "    while whole > 0:\n",
    "        remainder = whole%2\n",
    "        whole = int(whole/2)\n",
    "        bin_array.append(remainder)\n",
    "    if len(bin_array) < min_bits:\n",
    "        for i in range(min_bits-len(bin_array)):\n",
    "            bin_array.append(0)\n",
    "    \n",
    "    return bin_array[::-1]"
   ]
  },
  {
   "cell_type": "code",
   "execution_count": 19,
   "metadata": {},
   "outputs": [],
   "source": [
    "def dot_array(r, border, array, padding):\n",
    "    dim = [(r*2)+padding*2, len(array)*(r*2)+padding*(len(array)+1)] \n",
    "    image = Image.new('1', dim, color=1)\n",
    "    d = ImageDraw.Draw(image)\n",
    "    for idx, val in enumerate(array):\n",
    "        topOuter = [0+padding, (r*2*idx)+padding+padding*idx]\n",
    "        bottomOuter = [r*2+padding, r*2*(idx+1)+padding+padding*idx]\n",
    "        topInner = [topOuter[0]+border, topOuter[1]+border]\n",
    "        bottomInner = [bottomOuter[0]-border, bottomOuter[1]-border]\n",
    "        d.ellipse(topOuter+bottomOuter, fill=0)\n",
    "        if val==0:\n",
    "            d.ellipse(topInner+bottomInner, fill=1)\n",
    "    \n",
    "    return image"
   ]
  },
  {
   "cell_type": "code",
   "execution_count": 20,
   "metadata": {},
   "outputs": [],
   "source": [
    "def separator(dim, padding, fill=60):\n",
    "    dim = [dim[0]+padding, dim[1]+padding]\n",
    "    top = [padding, padding]\n",
    "    bottom = dim\n",
    "    i = Image.new('1', (dim[0], int(dim[1]*fill/60)), color=1)\n",
    "    d = ImageDraw.Draw(i)\n",
    "    d.rectangle(top+bottom, fill=0)\n",
    "    \n",
    "    return i"
   ]
  },
  {
   "cell_type": "code",
   "execution_count": 1,
   "metadata": {},
   "outputs": [],
   "source": [
    "def update_function(self=None, time=None):\n",
    "    '''update function for dec_binary_clock providing image and time\n",
    "    \n",
    "    This plugin provides time as an image and string in \n",
    "    four, four-bit numbers in little-endian format (see EXAMPLE).\n",
    "    \n",
    "    \n",
    "    \n",
    "    EXAMPLE:\n",
    "    Time 14:49\n",
    "    o o | o x\n",
    "    o x | x o\n",
    "    o o | o o\n",
    "    x o | o x \n",
    "    \n",
    "    Requirements:\n",
    "        None\n",
    "        \n",
    "    Args:\n",
    "        self(`object namespace`)\n",
    "        time(`str`): HH:MM formatted string to display (this is primarily for testing)\n",
    "        \n",
    "    Returns:\n",
    "        tuple: (is_updated(bool), data(dict), priority(int))\n",
    "        \n",
    "    %U'''\n",
    "    r = 80\n",
    "    border = 10\n",
    "    padding = 10\n",
    "    time_array = []\n",
    "    img_x = 0\n",
    "    img_y = 0\n",
    "    img_array = []\n",
    "    return_time = None\n",
    "\n",
    "    logging.debug(f'TIME = {time}')\n",
    "    \n",
    "    # break the time string into digits if provided\n",
    "    if time:\n",
    "        return_time = str(time)\n",
    "        time = str(time)\n",
    "        match = re.search('([0-9]{1,2}):([0-9]{1,2})', time)\n",
    "        hour = match.group(1)\n",
    "        minute = match.group(2)\n",
    "    else:\n",
    "        hour = datetime.now().hour\n",
    "        minute = datetime.now().minute\n",
    "        return_time = f'{hour:02}:{minute:02}'\n",
    "    \n",
    "    \n",
    "    # make sure there are two digits in hour\n",
    "    if len(str(hour)) < 2:\n",
    "        time_array = [0]\n",
    "    \n",
    "    # join up the hours and the colon \n",
    "    time_array = time_array + split_by_place(hour) + [-1]\n",
    "    \n",
    "    # make sure there are two digits in minute\n",
    "    if len(str(minute)) < 2:\n",
    "        time_array = time_array + [0]\n",
    "    \n",
    "    # join up the hours, colon and minute\n",
    "    time_array = time_array + split_by_place(minute)\n",
    "        \n",
    "    # build an array of the images\n",
    "    for i in time_array:\n",
    "        i = int(i)\n",
    "        # separator is represented by a negative number\n",
    "        if i < 0:\n",
    "            img_array.append(separator(dim=[int(r/2), 4*(r*2)+padding*5], padding=0))\n",
    "        # create a dot array for each decimal place\n",
    "        else:\n",
    "            img_array.append(dot_array(r=r, border=border, padding=padding, array=dec2bin(i)))\n",
    "    \n",
    "    # determine dimensions of array\n",
    "    for j in img_array:\n",
    "        img_x = img_x + j.width\n",
    "        if j.height > img_y:\n",
    "            img_y = j.height\n",
    "            \n",
    "    # create a blank image\n",
    "    img = Image.new('1', [img_x, img_y], color=1)\n",
    "    \n",
    "    # build the composite image\n",
    "    x_pos = 0\n",
    "    y_pos = 0\n",
    "    for j in img_array:\n",
    "        img.paste(j, [x_pos, y_pos])\n",
    "        x_pos = x_pos + j.width\n",
    "    \n",
    "    return (True, {'bin_img': img, 'time': return_time}, self.max_priority)\n"
   ]
  },
  {
   "cell_type": "code",
   "execution_count": 1,
   "metadata": {},
   "outputs": [
    {
     "name": "stdout",
     "output_type": "stream",
     "text": [
      "[NbConvertApp] Converting notebook dec_binary_clock.ipynb to python\n",
      "[NbConvertApp] Writing 4273 bytes to dec_binary_clock.py\n"
     ]
    }
   ],
   "source": [
    "!jupyter-nbconvert --to python --template python_clean dec_binary_clock.ipynb"
   ]
  },
  {
   "cell_type": "code",
   "execution_count": null,
   "metadata": {},
   "outputs": [],
   "source": []
  }
 ],
 "metadata": {
  "kernelspec": {
   "display_name": "epd_display-ApAYs8Kw",
   "language": "python",
   "name": "epd_display-apays8kw"
  },
  "language_info": {
   "codemirror_mode": {
    "name": "ipython",
    "version": 3
   },
   "file_extension": ".py",
   "mimetype": "text/x-python",
   "name": "python",
   "nbconvert_exporter": "python",
   "pygments_lexer": "ipython3",
   "version": "3.7.3"
  }
 },
 "nbformat": 4,
 "nbformat_minor": 4
}
