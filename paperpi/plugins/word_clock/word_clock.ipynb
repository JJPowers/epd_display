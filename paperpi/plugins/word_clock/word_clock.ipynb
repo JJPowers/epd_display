{
 "cells": [
  {
   "cell_type": "code",
   "execution_count": 3,
   "metadata": {},
   "outputs": [],
   "source": [
    "import logging\n",
    "from datetime import datetime\n",
    "from random import choice"
   ]
  },
  {
   "cell_type": "code",
   "execution_count": 111,
   "metadata": {},
   "outputs": [],
   "source": [
    "try:\n",
    "    from . import layout\n",
    "    from . import constants\n",
    "except ImportError:\n",
    "    import layout \n",
    "    import constants"
   ]
  },
  {
   "cell_type": "code",
   "execution_count": 8,
   "metadata": {},
   "outputs": [],
   "source": [
    "def time_list(time):\n",
    "    '''Returns time as list [h, m] of type int\n",
    "    \n",
    "    Args:\n",
    "        time(`str`): time in colon separated format - 09:34; 23:15'''\n",
    "    return  [int(i)  for i in time.split(':')]\n"
   ]
  },
  {
   "cell_type": "code",
   "execution_count": 9,
   "metadata": {},
   "outputs": [],
   "source": [
    "def time_now():\n",
    "    return datetime.now().strftime(\"%H:%M\")"
   ]
  },
  {
   "cell_type": "code",
   "execution_count": 2,
   "metadata": {},
   "outputs": [],
   "source": [
    "def map_val(a, b, s):\n",
    "    '''map range `a` to `b` for value `s`\n",
    "\n",
    "    Args:\n",
    "        a(2 `tuple` of `int`): (start, end) of input values\n",
    "        b(2 `tuple` of `int`): (start, end) of output values\n",
    "        s(`float`, `int`): value to map\n",
    "    Returns:\n",
    "        `int`'''\n",
    "    a1, a2 = a\n",
    "    b1, b2 = b\n",
    "    \n",
    "    t = b1 + ((s-a1) * (b2-b1))/(a2-a1)\n",
    "    \n",
    "    return round(t)"
   ]
  },
  {
   "cell_type": "code",
   "execution_count": 3,
   "metadata": {},
   "outputs": [],
   "source": [
    "def update_function(self, time=None):\n",
    "    '''update function for word_clock provides time as text\n",
    "    \n",
    "    This plugin provides the time as a string such as:\n",
    "        * The time is around ten twenty\n",
    "        * It is about twenty after eight\n",
    "    \n",
    "    Args:\n",
    "        self(`namespace`)\n",
    "        time(`str`): time as a string in format HH:MM (primarily used for testing)\n",
    "        \n",
    "    Returns:\n",
    "        tuple: (is_updated(bool), data(dict), priority(int))    \n",
    "    %U'''\n",
    "    logging.info(f'update_function for {self.name}')\n",
    "    hours = constants.hours\n",
    "    minutes = constants.minutes\n",
    "    stems = constants.stems\n",
    "    \n",
    "    if time:\n",
    "        now = time\n",
    "        logging.debug(f'using {time}')\n",
    "        t_list = time_list(time)\n",
    "    else:\n",
    "        now = time_now()\n",
    "        logging.debug(f'using {now}')\n",
    "        t_list = time_list(now)\n",
    "        \n",
    "    # this range shifts the period of the list so times around the 'tens' round nicely up and down        \n",
    "    minute = map_val((1, 59), (0, 6), t_list[1])\n",
    "\n",
    "    # set the hour appropriately - from 'after' to 'til'\n",
    "    if t_list[1] <= 34:\n",
    "        hour_str = hours[str(t_list[0])]\n",
    "    else:\n",
    "        try:\n",
    "            hour_str = hours[str(t_list[0]+1)]\n",
    "        except KeyError as e:\n",
    "            # wrap around to zero'th index in the hours list\n",
    "            hour_str = hours[str(t_list[0]+1 - len(hours))]\n",
    "            hour_str = hours[str(0)]\n",
    "        \n",
    "    min_str = minutes[str(minute)]\n",
    "    \n",
    "    # properly organize the time string\n",
    "    # 'o clock times\n",
    "    if minute == 0 or minute == 6:\n",
    "        time_str = f'{choice(hour_str).title()} {choice(min_str).title()}'\n",
    "                      \n",
    "    else: \n",
    "        time_str = f'{choice(min_str).title()} {choice(hour_str).title()}'\n",
    "    \n",
    "    \n",
    "    myTime = {'wordtime': f'{choice(stems)} {time_str}',\n",
    "              'time': now}\n",
    "    \n",
    "    return (True, myTime, self.max_priority)"
   ]
  },
  {
   "cell_type": "code",
   "execution_count": 12,
   "metadata": {},
   "outputs": [
    {
     "name": "stdout",
     "output_type": "stream",
     "text": [
      "[NbConvertApp] Converting notebook word_clock.ipynb to python\n",
      "[NbConvertApp] Writing 2733 bytes to word_clock.py\n"
     ]
    }
   ],
   "source": [
    "!jupyter-nbconvert --to python --template python_clean word_clock.ipynb"
   ]
  },
  {
   "cell_type": "code",
   "execution_count": null,
   "metadata": {},
   "outputs": [],
   "source": []
  }
 ],
 "metadata": {
  "kernelspec": {
   "display_name": "epd_display-ApAYs8Kw",
   "language": "python",
   "name": "epd_display-apays8kw"
  },
  "language_info": {
   "codemirror_mode": {
    "name": "ipython",
    "version": 3
   },
   "file_extension": ".py",
   "mimetype": "text/x-python",
   "name": "python",
   "nbconvert_exporter": "python",
   "pygments_lexer": "ipython3",
   "version": "3.7.3"
  }
 },
 "nbformat": 4,
 "nbformat_minor": 4
}
