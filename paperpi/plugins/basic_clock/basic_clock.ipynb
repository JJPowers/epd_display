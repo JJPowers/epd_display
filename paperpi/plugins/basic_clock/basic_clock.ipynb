{
 "cells": [
  {
   "cell_type": "code",
   "execution_count": 9,
   "metadata": {},
   "outputs": [],
   "source": [
    "import logging"
   ]
  },
  {
   "cell_type": "code",
   "execution_count": 13,
   "metadata": {},
   "outputs": [],
   "source": [
    "# two different import modes for development or distribution\n",
    "try:\n",
    "    # import from other modules above this level\n",
    "    from . import layout\n",
    "    from . import constants\n",
    "except ImportError:\n",
    "    # development in jupyter notebook\n",
    "    import layout\n",
    "    import constants"
   ]
  },
  {
   "cell_type": "code",
   "execution_count": 3,
   "metadata": {},
   "outputs": [],
   "source": [
    "logger = logging.getLogger(__name__)"
   ]
  },
  {
   "cell_type": "code",
   "execution_count": 4,
   "metadata": {},
   "outputs": [],
   "source": [
    "from datetime import datetime\n",
    "def update_function(self):\n",
    "    '''update function for basic_clock provides system time string in the format HH:MM\n",
    "    \n",
    "    Args:\n",
    "        None\n",
    "    \n",
    "    Returns:\n",
    "        tuple: (is_updated(bool), data(dict), priority(int))\n",
    "    %U'''\n",
    "    data = {'digit_time': datetime.now().strftime(\"%H:%M\")}\n",
    "    priority = self.max_priority\n",
    "    is_updated = True\n",
    "    \n",
    "    return (is_updated, data, priority) "
   ]
  },
  {
   "cell_type": "code",
   "execution_count": 4,
   "metadata": {},
   "outputs": [
    {
     "name": "stdout",
     "output_type": "stream",
     "text": [
      "[NbConvertApp] Converting notebook basic_clock.ipynb to python\n",
      "[NbConvertApp] Writing 851 bytes to basic_clock.py\n"
     ]
    }
   ],
   "source": [
    "!jupyter-nbconvert --to python --template python_clean basic_clock.ipynb"
   ]
  },
  {
   "cell_type": "code",
   "execution_count": 6,
   "metadata": {},
   "outputs": [],
   "source": [
    "# because I can't figure out relative imports in python 3 & Jupyter, here's some \n",
    "# nb magic that makes testing the update_function easier with the SelfDummy class\n",
    "!ln -s ../../library/SelfDummy.py ./"
   ]
  },
  {
   "cell_type": "code",
   "execution_count": 7,
   "metadata": {},
   "outputs": [],
   "source": [
    "# import SelfDummy\n",
    "# s = SelfDummy.SelfDummy()\n",
    "# update_function(s)"
   ]
  },
  {
   "cell_type": "code",
   "execution_count": 2,
   "metadata": {},
   "outputs": [
    {
     "name": "stdout",
     "output_type": "stream",
     "text": [
      "rm: cannot remove './SelfDummy.py': No such file or directory\r\n"
     ]
    }
   ],
   "source": [
    "!rm ./SelfDummy.py"
   ]
  }
 ],
 "metadata": {
  "kernelspec": {
   "display_name": "Python 3",
   "language": "python",
   "name": "python3"
  },
  "language_info": {
   "codemirror_mode": {
    "name": "ipython",
    "version": 3
   },
   "file_extension": ".py",
   "mimetype": "text/x-python",
   "name": "python",
   "nbconvert_exporter": "python",
   "pygments_lexer": "ipython3",
   "version": "3.7.3"
  }
 },
 "nbformat": 4,
 "nbformat_minor": 4
}
