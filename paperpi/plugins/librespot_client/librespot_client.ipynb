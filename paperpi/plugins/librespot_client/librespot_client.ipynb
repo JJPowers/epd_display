{
 "cells": [
  {
   "cell_type": "code",
   "execution_count": 1,
   "metadata": {},
   "outputs": [],
   "source": [
    "import logging"
   ]
  },
  {
   "cell_type": "code",
   "execution_count": 2,
   "metadata": {},
   "outputs": [],
   "source": [
    "import requests\n",
    "from epdlib.Screen import Update\n",
    "from dictor import dictor\n",
    "from copy import copy"
   ]
  },
  {
   "cell_type": "code",
   "execution_count": 3,
   "metadata": {},
   "outputs": [],
   "source": [
    "try:\n",
    "    from . import layout\n",
    "    from . import constants\n",
    "except ImportError:\n",
    "    import layout\n",
    "    import constants"
   ]
  },
  {
   "cell_type": "code",
   "execution_count": 4,
   "metadata": {},
   "outputs": [],
   "source": [
    "logger = logging.getLogger(__name__)"
   ]
  },
  {
   "cell_type": "code",
   "execution_count": 6,
   "metadata": {},
   "outputs": [],
   "source": [
    "def update_function(self):\n",
    "    logging.info(f'update_function for plugin {self.name}, version {constants.version}')    \n",
    "    is_updated = False\n",
    "    # make a shallow copy so the data object can be updated through the procedure\n",
    "    data = copy(constants.data)\n",
    "    priority = 2**15\n",
    "    failure = (is_updated, data, priority)\n",
    "\n",
    "    # add a play_state attribute\n",
    "    if not hasattr(self, 'play_state'):\n",
    "        self.play_state = 'None'\n",
    "    \n",
    "    # add the idle timer on first run\n",
    "    if not hasattr(self, 'idle_timer'):\n",
    "        logging.debug(f'adding idle_timer of class `Update()`')\n",
    "        self.idle_timer = Update()    \n",
    "        \n",
    "    # fetch token    \n",
    "    logging.debug(f'fetching API access token from librespot player {self.config[\"player_name\"]}')\n",
    "    logging.debug(f'requesting spotify API access scope: {constants.spot_scope}')        \n",
    "    try:\n",
    "        token = requests.post(constants.libre_token_url)\n",
    "    except requests.ConnectionError as e:\n",
    "        logging.error(f'cannot proceed: failed to pull Spotify token from librespot at url: {constants.libre_token_url}')\n",
    "        logging.error(f'{e}')\n",
    "        return failure\n",
    "    # check token\n",
    "    logging.debug('checking API access token')\n",
    "    if token.status_code == 200:\n",
    "        logging.debug('token OK')\n",
    "        try:\n",
    "            headers = {'Authorization': 'Bearer ' + token.json()['token']}\n",
    "        except JSONDecodeError as e:\n",
    "            logging.error(f'failed to decode token JSON object: {e}')\n",
    "            return failure\n",
    "    else:\n",
    "        logging.info(f'cannot proceed: no token available from librespot status: {token.status_code}')\n",
    "        return failure\n",
    "    \n",
    "    # use the token to fetch player information from spotify\n",
    "    logging.debug('fetch player status from Spotify')\n",
    "    if 'Authorization' in headers:\n",
    "        player_status = requests.get(constants.spot_player_url, headers=headers)\n",
    "    else:\n",
    "        logging.error(f'cannot proceed: no valid Authroization token found in response from librespot: {headers}')\n",
    "        return failure    \n",
    "    \n",
    "    logging.debug('checking player_status')\n",
    "    if player_status.status_code == 200:\n",
    "        try:\n",
    "            logging.debug('gathering json data')\n",
    "            player_json = player_status.json()\n",
    "        except JSONDecodeError as e:\n",
    "            logging.error(f'cannot proceed: failed to decode player status JSON object: {e}')\n",
    "            return failure\n",
    "                \n",
    "        # bail out if the player name does not match\n",
    "        if not dictor(player_json, 'device.name').lower() == self.config['player_name'].lower():\n",
    "            logging.info(f'{self.config[\"player_name\"]} is not active: no data')\n",
    "            return failure\n",
    "    else:\n",
    "        logging.info(f'{self.config[\"player_name\"]} does not appear to be available')\n",
    "        return failure\n",
    "        \n",
    "    # map spotify keys to local values\n",
    "    for key in constants.spot_map:\n",
    "        data[key] = dictor(player_json, constants.spot_map[key])\n",
    "\n",
    "    if 'artwork_url' in data and 'id' in data:\n",
    "        data['coverart'] = self.cache.cache_file(url=data['artwork_url'], file_id=data['id'])\n",
    "\n",
    "    playing = dictor(player_status.json(), 'is_playing')\n",
    "    if playing is True:\n",
    "        logging.debug(f'{self.config[\"player_name\"]} is playing')\n",
    "        data['mode'] = 'play'\n",
    "        # if the data has changed, bump the priority \n",
    "        if self.data == data:\n",
    "            logging.debug('data matches')\n",
    "            priority = self.max_priority\n",
    "        else:\n",
    "            logging.debug('data does not match')\n",
    "            priority = self.max_priority - 1\n",
    "            \n",
    "        self.play_state = 'play'\n",
    "        is_updated = True\n",
    "        \n",
    "    elif playing is False:\n",
    "        data['mode'] = 'pause'\n",
    "        ## moving from \"play\" to \"pause\", decrease priority\n",
    "        if self.play_state == 'play':\n",
    "            self.idle_timer.update()\n",
    "            priority = self.max_priority + 1\n",
    "        \n",
    "        # if the idle timer has expired, decrease priority\n",
    "        if self.idle_timer.last_updated > self.config['idle_timeout']:\n",
    "            priority = self.max_priority + 3\n",
    "        else:\n",
    "            priority = self.max_priority + 1\n",
    "\n",
    "        self.play_state = 'pause'        \n",
    "        is_updated = True\n",
    "        \n",
    "    else:\n",
    "        self.plays_state = None\n",
    "        data['mode'] = None\n",
    "        priority = 2**15\n",
    "        is_updated = False\n",
    "    \n",
    "    logging.info(f'priority set to: {priority}')\n",
    "    return is_updated, data, priority"
   ]
  },
  {
   "cell_type": "code",
   "execution_count": 16,
   "metadata": {},
   "outputs": [
    {
     "name": "stderr",
     "output_type": "stream",
     "text": [
      "INFO:root:update_function for plugin None, version 0.1.0\n",
      "DEBUG:root:fetching API access token from librespot player Spocon-Spotify\n",
      "DEBUG:root:requesting spotify API access scope: user-read-playback-state\n",
      "DEBUG:urllib3.connectionpool:Starting new HTTP connection (1): localhost:24879\n",
      "DEBUG:urllib3.connectionpool:http://localhost:24879 \"POST /token/user-read-playback-state HTTP/1.1\" 200 449\n",
      "DEBUG:root:checking API access token\n",
      "DEBUG:root:token OK\n",
      "DEBUG:root:fetch player status from Spotify\n",
      "DEBUG:urllib3.connectionpool:Starting new HTTPS connection (1): api.spotify.com:443\n",
      "DEBUG:urllib3.connectionpool:https://api.spotify.com:443 \"GET /v1/me/player HTTP/1.1\" 200 None\n",
      "DEBUG:root:checking player_status\n",
      "DEBUG:root:gathering json data\n",
      "DEBUG:root:caching file from url https://i.scdn.co/image/ab67616d0000b273447595e7f9d49d0921cfddc6 to /tmp/v332ve5m/1G462S9p4OpILhQzFJY010\n",
      "DEBUG:urllib3.connectionpool:Starting new HTTPS connection (1): i.scdn.co:443\n",
      "DEBUG:urllib3.connectionpool:https://i.scdn.co:443 \"GET /image/ab67616d0000b273447595e7f9d49d0921cfddc6 HTTP/1.1\" 200 153766\n",
      "DEBUG:root:writing file to file/tmp/v332ve5m/1G462S9p4OpILhQzFJY010\n",
      "DEBUG:root:Spocon-Spotify is playing\n",
      "DEBUG:root:data does not match\n",
      "INFO:root:priority set to: -1\n"
     ]
    },
    {
     "name": "stdout",
     "output_type": "stream",
     "text": [
      "idle timer: 124.79871261538938, idle_timeout 5\n",
      "-1\n",
      "{'title': 'Down at the Bottom', 'artist': 'Jeffrey Martin', 'album': 'Dogs in the Daylight', 'artwork_url': 'https://i.scdn.co/image/ab67616d0000b273447595e7f9d49d0921cfddc6', 'duration': 135653, 'player': 'SpoCon-Spotify', 'mode': 'play', 'id': '1G462S9p4OpILhQzFJY010', 'coverart': PosixPath('/tmp/v332ve5m/1G462S9p4OpILhQzFJY010')}\n"
     ]
    }
   ],
   "source": [
    "# u, d, p = update_function(self)\n",
    "# # if u != self.data:\n",
    "# self.data = d\n",
    "# print(f'idle timer: {self.idle_timer.last_updated}, idle_timeout {self.config[\"idle_timeout\"]}')\n",
    "# print(p)\n",
    "# print(d)\n",
    "# # print('*'*50)\n",
    "# # print(self.data)\n"
   ]
  },
  {
   "cell_type": "code",
   "execution_count": 8,
   "metadata": {},
   "outputs": [
    {
     "name": "stderr",
     "output_type": "stream",
     "text": [
      "DEBUG:root:foo\n"
     ]
    }
   ],
   "source": [
    "# from SelfDummy import SelfDummy\n",
    "# from CacheFiles import CacheFiles\n",
    "\n",
    "# logger.root.setLevel('DEBUG')\n",
    "# logging.debug('foo')\n",
    "\n",
    "# self = SelfDummy()\n",
    "# self.max_priority = 0\n",
    "# self.config = {'player_name': 'Spocon-Spotify',\n",
    "#                'idle_timeout': 5}\n",
    "# self.cache = CacheFiles()"
   ]
  },
  {
   "cell_type": "code",
   "execution_count": 32,
   "metadata": {},
   "outputs": [
    {
     "name": "stdout",
     "output_type": "stream",
     "text": [
      "[NbConvertApp] Converting notebook librespot_client.ipynb to python\n",
      "[NbConvertApp] Writing 5222 bytes to librespot_client.py\n"
     ]
    }
   ],
   "source": [
    "!jupyter-nbconvert --to python --template python_clean librespot_client.ipynb"
   ]
  },
  {
   "cell_type": "code",
   "execution_count": 17,
   "metadata": {},
   "outputs": [],
   "source": [
    "!rm ./SelfDummy.py\n",
    "!rm ./CacheFiles.py"
   ]
  },
  {
   "cell_type": "code",
   "execution_count": 7,
   "metadata": {},
   "outputs": [
    {
     "name": "stdout",
     "output_type": "stream",
     "text": [
      "ln: failed to create symbolic link './SelfDummy.py': File exists\n",
      "ln: failed to create symbolic link './CacheFiles.py': File exists\n"
     ]
    }
   ],
   "source": [
    "!ln -s ../../library/SelfDummy.py \n",
    "!ln -s ../../library/CacheFiles.py"
   ]
  },
  {
   "cell_type": "code",
   "execution_count": null,
   "metadata": {},
   "outputs": [],
   "source": []
  }
 ],
 "metadata": {
  "kernelspec": {
   "display_name": "epd_display-ApAYs8Kw",
   "language": "python",
   "name": "epd_display-apays8kw"
  },
  "language_info": {
   "codemirror_mode": {
    "name": "ipython",
    "version": 3
   },
   "file_extension": ".py",
   "mimetype": "text/x-python",
   "name": "python",
   "nbconvert_exporter": "python",
   "pygments_lexer": "ipython3",
   "version": "3.7.3"
  }
 },
 "nbformat": 4,
 "nbformat_minor": 4
}
