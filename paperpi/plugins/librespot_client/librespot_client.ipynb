{
 "cells": [
  {
   "cell_type": "code",
   "execution_count": 1,
   "metadata": {},
   "outputs": [],
   "source": [
    "import logging"
   ]
  },
  {
   "cell_type": "code",
   "execution_count": 2,
   "metadata": {},
   "outputs": [],
   "source": [
    "import requests"
   ]
  },
  {
   "cell_type": "code",
   "execution_count": 3,
   "metadata": {},
   "outputs": [],
   "source": [
    "try:\n",
    "    from . import layout\n",
    "except ImportError:\n",
    "    import layout"
   ]
  },
  {
   "cell_type": "code",
   "execution_count": 1,
   "metadata": {},
   "outputs": [],
   "source": [
    "def update_function(self):\n",
    "    data = {\n",
    "        'title': 'Err: no data',\n",
    "        'artist': 'Err: no data',\n",
    "        'album': 'Err: no data',\n",
    "        'artwork_url': 'Err: no data',\n",
    "        'duration': 0,\n",
    "        'player': 'Err: no data',\n",
    "        'mode': 'None'}\n",
    "    priority = -1\n",
    "    is_updated = False\n",
    "    \n",
    "    failure = (is_updated, data, priority)\n",
    "#     logging.info('creating libre-spot spotify plugin (Spocon)')\n",
    "    logging.debug(f'fetching access token from librespot player {self.config[\"player_name\"]}')\n",
    "    logging.debug(f'requesting access scope: {constants_spot.spot_scope}')\n",
    "    \n",
    "    # add the property play_state for recording current play state \n",
    "    if not hasattr(self, 'play_state'):\n",
    "        self.play_state = 'None'\n",
    "    \n",
    "    # add the idle timer on first run\n",
    "    if not hasattr(self, 'idle_timer'):\n",
    "        logging.debug(f'adding idle_timer of class `Update()`')\n",
    "        self.idle_timer = Update()    \n",
    "    \n",
    "    if not self.cache:\n",
    "        self.cache = CacheFiles(path_prefix=self.config['player_name'])\n",
    "        \n",
    "        \n",
    "    try:\n",
    "        token = requests.post(constants_spot.libre_token_url)\n",
    "    except requests.ConnectionError as e:\n",
    "        logging.error(f'Failed to pull Spotify token from librespot at url: {constants_spot.libre_token_url}')\n",
    "        logging.error(f'{e}')\n",
    "        return failure\n",
    "    \n",
    "    if token.status_code == 200:\n",
    "        logging.debug('token received')\n",
    "        try:\n",
    "            headers = {'Authorization': 'Bearer ' + token.json()['token']}\n",
    "        except JSONDecodeError as e:\n",
    "            logging.error(f'failed to decode token JSON object: {e}')\n",
    "            return failure\n",
    "    else:\n",
    "        logging.info(f'no token available from librespot status: {token.status_code}')\n",
    "        return failure\n",
    "    \n",
    "    # use the token to fetch player information from spotify\n",
    "    if 'Authorization' in headers:\n",
    "        player_status = requests.get(constants_spot.spot_player_url, headers=headers)\n",
    "    else:\n",
    "        logging.warning(f'no valid Authroization token found in response from librespot: {headers}')\n",
    "        return failure\n",
    "    \n",
    "    if player_status.status_code == 200:\n",
    "        try:\n",
    "            player_json = player_status.json()\n",
    "        except JSONDecodeError as e:\n",
    "            logging.error(f'failed to decode player status JSON object: {e}')\n",
    "            return failure\n",
    "        \n",
    "        # bail out if the player name does not match\n",
    "        if not dictor(player_json, 'device.name') == self.config['player_name']:\n",
    "            logging.info(f'{self.config[\"player_name\"]} is not active: no data')\n",
    "            return failure\n",
    "        \n",
    "        # map json data to dictionary format that Layout() objects can use\n",
    "        # probably should wrap this in a try:\n",
    "        for key in constants_spot.spot_map:\n",
    "            data[key] = dictor(player_json, constants_spot.spot_map[key])\n",
    "            \n",
    "        if 'artwork_url' in data and 'id' in data:\n",
    "            data['coverart'] = self.cache.cache_file(url=data['artwork_url'], file_id=data['id'])\n",
    "                \n",
    "        playing = dictor(player_status.json(), 'is_playing')\n",
    "        if playing is True:\n",
    "            data['mode'] = 'play'\n",
    "            is_updated = True\n",
    "            self.play_state = 'play'\n",
    "            priority = self.max_priority \n",
    "        elif playing is False:\n",
    "            data['mode'] = 'paused'\n",
    "            if self.play_state == 'play':\n",
    "                logging.debug('resetting idle_timer')\n",
    "                self.idle_timer.update()\n",
    "            if self.idle_timer.last_updated > self.config['idle_timeout']:\n",
    "                priority = self.max_priority + 2\n",
    "            else:\n",
    "                priority = self.max_priority + 1\n",
    "            is_updated = True\n",
    "            self.play_state = 'paused'\n",
    "        else:\n",
    "            data['mode'] = None            \n",
    "            is_updated = True\n",
    "            priority = -1    \n",
    "            self.play_state = 'None'\n",
    "    \n",
    "    return (is_updated, data, priority)"
   ]
  },
  {
   "cell_type": "code",
   "execution_count": 2,
   "metadata": {},
   "outputs": [
    {
     "name": "stdout",
     "output_type": "stream",
     "text": [
      "[NbConvertApp] Converting notebook librespot_client.ipynb to python\n",
      "[NbConvertApp] Writing 4039 bytes to librespot_client.py\n"
     ]
    }
   ],
   "source": [
    "!jupyter-nbconvert --to python --template python_clean librespot_client.ipynb"
   ]
  }
 ],
 "metadata": {
  "kernelspec": {
   "display_name": "epd_display-ApAYs8Kw",
   "language": "python",
   "name": "epd_display-apays8kw"
  },
  "language_info": {
   "codemirror_mode": {
    "name": "ipython",
    "version": 3
   },
   "file_extension": ".py",
   "mimetype": "text/x-python",
   "name": "python",
   "nbconvert_exporter": "python",
   "pygments_lexer": "ipython3",
   "version": "3.7.3"
  }
 },
 "nbformat": 4,
 "nbformat_minor": 4
}
