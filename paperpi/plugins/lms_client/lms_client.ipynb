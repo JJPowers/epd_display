{
 "cells": [
  {
   "cell_type": "code",
   "execution_count": 5,
   "metadata": {},
   "outputs": [],
   "source": [
    "import logging"
   ]
  },
  {
   "cell_type": "code",
   "execution_count": 7,
   "metadata": {},
   "outputs": [],
   "source": [
    "import lmsquery\n",
    "import requests"
   ]
  },
  {
   "cell_type": "code",
   "execution_count": 14,
   "metadata": {},
   "outputs": [],
   "source": [
    "# # two different import modes for development or distribution\n",
    "# try:\n",
    "#     # import from other modules above this level\n",
    "#     from .layout import layout\n",
    "# except ImportError:\n",
    "#     # development in jupyter notebook\n",
    "#     from layout import layout"
   ]
  },
  {
   "cell_type": "code",
   "execution_count": null,
   "metadata": {},
   "outputs": [],
   "source": [
    "try:\n",
    "    from . import layout\n",
    "except ImportError:\n",
    "    import layout"
   ]
  },
  {
   "cell_type": "code",
   "execution_count": 6,
   "metadata": {},
   "outputs": [],
   "source": [
    "logger = logging.getLogger(__name__)"
   ]
  },
  {
   "cell_type": "code",
   "execution_count": null,
   "metadata": {},
   "outputs": [],
   "source": [
    "def update_function(self):\n",
    "    '''update_function for Plugin() object to read data from a \n",
    "        Logitech Media Server and show now-playing information for a single player\n",
    "        multiple players can be tracked by adding multiple plugins\n",
    "    \n",
    "    Requirements:\n",
    "        self.config(`dict`): {\n",
    "            'player_name': 'LMS Player Name',   # name of player to track\n",
    "            'idle_timeout': 10,                 # timeout for showing 'pause' screen \n",
    "        }'''\n",
    "    now_playing = None\n",
    "    data = {\n",
    "        'id': 0,\n",
    "        'title': 'Err: No Player',\n",
    "        'artist': 'Err: No Player',\n",
    "        'coverid': 'Err: No Player',\n",
    "        'duration': 0,\n",
    "        'album_id': 'Err: No Player',\n",
    "        'genre': 'Err: No Player',\n",
    "        'album': 'Err: No Player',\n",
    "        'artwork_url': 'Err: No Player',\n",
    "        'mode': 'None'\n",
    "    }\n",
    "\n",
    "    is_updated = False\n",
    "    priority = -1\n",
    "    \n",
    "    failure = (is_updated, data, priority)\n",
    "    \n",
    "    player_name = self.config['player_name']\n",
    "    \n",
    "    if not hasattr(self, 'play_state'):\n",
    "        self.play_state = 'None'\n",
    "    \n",
    "    # add the idle timer on first run\n",
    "    if not hasattr(self, 'idle_timer'):\n",
    "        logging.debug(f'adding idle_timer of class `Update()`')\n",
    "        self.idle_timer = Update()\n",
    "    \n",
    "    # check if LMS Query object is initiated\n",
    "    if not hasattr(self, 'my_lms'):\n",
    "        # add LMSQuery object to self\n",
    "        logging.debug(f'building LMS Query object for player: {player_name}')\n",
    "        self.my_lms = lmsquery.LMSQuery(player_name=player_name)\n",
    "    try:\n",
    "        # fetch the now playing data for the player\n",
    "        now_playing = self.my_lms.now_playing()\n",
    "        # remove the time key to make comparisions now_playing data updates easier in the Plugin class\n",
    "        if 'time' in now_playing:\n",
    "            now_playing.pop('time')\n",
    "            \n",
    "    except requests.exceptions.ConnectionError as e:\n",
    "        logging.error(f'could not find player \"{player_name}\": {e}')\n",
    "        return failure\n",
    "    except KeyError as e:\n",
    "        logging.warning(f'error getting now plyaing information for \"{player_name}\": KeyError {e}')\n",
    "        logging.warning('this error is typical of newly added player or player that has no \"now playing\" data')\n",
    "        return failure\n",
    "    \n",
    "    if now_playing:\n",
    "        data = now_playing\n",
    "    \n",
    "    # set the priority based on play state\n",
    "    logging.debug(f'play_state before checking now_playing: {self.play_state}')\n",
    "    if now_playing['mode'] == 'play':\n",
    "        priority = self.max_priority\n",
    "        is_updated = True\n",
    "        self.play_state = now_playing['mode']\n",
    "    elif now_playing['mode'] == 'pause':\n",
    "        # if switching from play to pause, refresh the idle timer\n",
    "        if self.play_state == 'play':\n",
    "            logging.debug('resetting idle_timer')\n",
    "            self.idle_timer.update()\n",
    "        if self.idle_timer.last_updated > self.config['idle_timeout']:\n",
    "            priority = self.max_priority + 2\n",
    "        else:\n",
    "            priority = self.max_priority + 1\n",
    "        is_updated = True\n",
    "        self.play_state = now_playing['mode']\n",
    "    else:\n",
    "        priority = -1\n",
    "        is_updated = False\n",
    "        play_state = now_playing['mode']\n",
    "    \n",
    "    logging.debug(f'current priority: {priority}, current play state: {self.play_state}')\n",
    "    return (is_updated, data, priority)"
   ]
  },
  {
   "cell_type": "code",
   "execution_count": 15,
   "metadata": {},
   "outputs": [
    {
     "name": "stdout",
     "output_type": "stream",
     "text": [
      "[NbConvertApp] Converting notebook lms_client.ipynb to python\n",
      "[NbConvertApp] Writing 3716 bytes to lms_client.py\n"
     ]
    }
   ],
   "source": [
    "!jupyter-nbconvert --to python --template python_clean lms_client.ipynb\n"
   ]
  }
 ],
 "metadata": {
  "kernelspec": {
   "display_name": "epd_display-ApAYs8Kw",
   "language": "python",
   "name": "epd_display-apays8kw"
  },
  "language_info": {
   "codemirror_mode": {
    "name": "ipython",
    "version": 3
   },
   "file_extension": ".py",
   "mimetype": "text/x-python",
   "name": "python",
   "nbconvert_exporter": "python",
   "pygments_lexer": "ipython3",
   "version": "3.7.3"
  }
 },
 "nbformat": 4,
 "nbformat_minor": 4
}
