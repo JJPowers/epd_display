{
 "cells": [
  {
   "cell_type": "code",
   "execution_count": 1,
   "metadata": {},
   "outputs": [],
   "source": [
    "%load_ext autoreload\n",
    "%autoreload 2"
   ]
  },
  {
   "cell_type": "code",
   "execution_count": 2,
   "metadata": {},
   "outputs": [],
   "source": [
    "import logging"
   ]
  },
  {
   "cell_type": "code",
   "execution_count": 57,
   "metadata": {},
   "outputs": [],
   "source": [
    "import lmsquery\n",
    "import requests\n",
    "from epdlib.Screen import Update\n",
    "from copy import copy"
   ]
  },
  {
   "cell_type": "code",
   "execution_count": 4,
   "metadata": {},
   "outputs": [],
   "source": [
    "import sys\n",
    "from pathlib import Path"
   ]
  },
  {
   "cell_type": "code",
   "execution_count": 5,
   "metadata": {},
   "outputs": [],
   "source": [
    "# # two different import modes for development or distribution\n",
    "# try:\n",
    "#     # import from other modules above this level\n",
    "#     from .layout import layout\n",
    "# except ImportError:\n",
    "#     # development in jupyter notebook\n",
    "#     from layout import layout"
   ]
  },
  {
   "cell_type": "code",
   "execution_count": 6,
   "metadata": {},
   "outputs": [],
   "source": [
    "try:\n",
    "    from . import layout\n",
    "    from . import constants\n",
    "except ImportError:\n",
    "    import layout\n",
    "    import constants"
   ]
  },
  {
   "cell_type": "code",
   "execution_count": 7,
   "metadata": {},
   "outputs": [],
   "source": [
    "logger = logging.getLogger(__name__)"
   ]
  },
  {
   "cell_type": "code",
   "execution_count": 58,
   "metadata": {},
   "outputs": [],
   "source": [
    "def update_function(self):\n",
    "    '''update_function for Plugin() object to read data from a \n",
    "        Logitech Media Server and show now-playing information for a single player\n",
    "        multiple players can be tracked by adding multiple plugins\n",
    "    \n",
    "    Requirements:\n",
    "        self.config(`dict`): {\n",
    "            'player_name': 'LMS Player Name',   # name of player to track\n",
    "            'idle_timeout': 10,                 # timeout for showing 'pause' screen \n",
    "            \n",
    "    Args:\n",
    "        self(namespace): namespace from plugin object\n",
    "        \n",
    "        }'''\n",
    "    logging.info(f'update_function for plugin {self.name}, version {constants.version}')\n",
    "    now_playing = None\n",
    "    # make a shallow copy to make updates possible without impacting origonal obj.\n",
    "    data = copy(constants.data)\n",
    "    is_updated = False\n",
    "    priority = 2**15    \n",
    " \n",
    "    \n",
    "    failure = (is_updated, data, priority)\n",
    "    \n",
    "    player_name = self.config['player_name']\n",
    "    \n",
    "    if not hasattr(self, 'play_state'):\n",
    "        self.play_state = 'None'\n",
    "    \n",
    "    # add the idle timer on first run\n",
    "    if not hasattr(self, 'idle_timer'):\n",
    "        logging.debug(f'adding idle_timer of class `Update()`')\n",
    "        self.idle_timer = Update()\n",
    "    \n",
    "    # check if LMS Query object is initiated\n",
    "    if not hasattr(self, 'my_lms'):\n",
    "        # add LMSQuery object to self\n",
    "        logging.debug(f'building LMS Query object for player: {player_name}')\n",
    "        self.my_lms = lmsquery.LMSQuery(player_name=player_name)\n",
    "    try:\n",
    "        # fetch the now playing data for the player\n",
    "        now_playing = self.my_lms.now_playing()\n",
    "        # remove the time key to make comparisions now_playing data updates easier in the Plugin class\n",
    "        if 'time' in now_playing:\n",
    "            now_playing.pop('time')\n",
    "            \n",
    "    except requests.exceptions.ConnectionError as e:\n",
    "        logging.error(f'could not find player \"{player_name}\": {e}')\n",
    "        return failure\n",
    "    except KeyError as e:\n",
    "        logging.warning(f'error getting now plyaing information for \"{player_name}\": KeyError {e}')\n",
    "        logging.warning('this error is typical of newly added player or player that has no \"now playing\" data')\n",
    "        return failure\n",
    "    \n",
    "    \n",
    "    \n",
    "    # process the now_playing state and set priority, update and data\n",
    "    if now_playing:\n",
    "        data = now_playing\n",
    "        try:\n",
    "            data['coverart'] = self.cache.cache_file(now_playing['artwork_url'], \n",
    "                                                     now_playing['album_id'])\n",
    "        except KeyError as e:\n",
    "            logging.warning(f'failed to cache file -- now_playing data did not contain complete data: {e}')\n",
    "    logging.debug(f'now_playing: {now_playing[\"mode\"]}')\n",
    "    if now_playing['mode'] == 'play':\n",
    "        if self.data == data:\n",
    "            priority = self.max_priority\n",
    "        else:\n",
    "            priority = self.max_priority - 1\n",
    "        self.play_state = 'play'\n",
    "        is_updated = True\n",
    "        \n",
    "    elif now_playing['mode'] == 'pause':\n",
    "        # moving from play to pause, decrease priority and refresh idle_timer\n",
    "        if self.play_state == 'play':\n",
    "            self.idle_timer.update()\n",
    "            priority = self.max_priority + 1\n",
    "            self.play_state = 'pause'\n",
    "        \n",
    "        # if the idle timer has expired, decrease priority\n",
    "        if self.idle_timer.last_updated > self.config['idle_timeout']:\n",
    "            priority = self.max_priority + 3\n",
    "            self.play_state = 'pause'\n",
    "        else:\n",
    "            priority = self.max_priority + 1\n",
    "\n",
    "        is_updated = True\n",
    "    \n",
    "    else: \n",
    "        self.play_state = now_playing['mode'] \n",
    "        priority = 2**15\n",
    "        is_updated = False\n",
    "    logging.info(f'priority set to: {priority}')\n",
    "    return (is_updated, data, priority)"
   ]
  },
  {
   "cell_type": "code",
   "execution_count": 59,
   "metadata": {},
   "outputs": [
    {
     "name": "stderr",
     "output_type": "stream",
     "text": [
      "DEBUG:root:foo\n"
     ]
    }
   ],
   "source": [
    "# from SelfDummy import SelfDummy\n",
    "# from CacheFiles import CacheFiles\n",
    "\n",
    "\n",
    "# logger.root.setLevel('DEBUG')\n",
    "# logging.debug('foo')\n",
    "\n",
    "# self = SelfDummy()\n",
    "# self.max_priority = 0\n",
    "# self.config = {'player_name': 'MacPlay',\n",
    "#                'idle_timeout': 5}\n",
    "# self.cache = CacheFiles()"
   ]
  },
  {
   "cell_type": "code",
   "execution_count": 69,
   "metadata": {
    "scrolled": false
   },
   "outputs": [
    {
     "name": "stderr",
     "output_type": "stream",
     "text": [
      "INFO:root:update_function for plugin None, version 0.1.0\n",
      "DEBUG:urllib3.connectionpool:Starting new HTTP connection (1): 192.168.178.9:9000\n",
      "DEBUG:urllib3.connectionpool:http://192.168.178.9:9000 \"POST /jsonrpc.js HTTP/1.1\" 200 318\n",
      "DEBUG:urllib3.connectionpool:Starting new HTTP connection (1): 192.168.178.9:9000\n",
      "DEBUG:urllib3.connectionpool:http://192.168.178.9:9000 \"POST /jsonrpc.js HTTP/1.1\" 200 362\n",
      "DEBUG:urllib3.connectionpool:Starting new HTTP connection (1): 192.168.178.9:9000\n",
      "DEBUG:urllib3.connectionpool:http://192.168.178.9:9000 \"POST /jsonrpc.js HTTP/1.1\" 200 250\n",
      "DEBUG:root:caching file from url http://192.168.178.9:9000/music/7a06c3f0/cover.jpg to /tmp/_ul7pxpj/1749\n",
      "DEBUG:root:file previously cached\n",
      "DEBUG:root:now_playing: pause\n",
      "INFO:root:priority set to: 3\n"
     ]
    },
    {
     "name": "stdout",
     "output_type": "stream",
     "text": [
      "idle timer: 7.803709103027359, idle_timeout 5\n",
      "3\n",
      "{'id': 14089, 'title': 'High on Cruel', 'artist': 'Neko Case & Her Boyfriends', 'coverid': '7a06c3f0', 'duration': 124.533, 'album_id': '1749', 'genre': 'Country', 'album': 'The Virginian', 'artwork_url': 'http://192.168.178.9:9000/music/7a06c3f0/cover.jpg', 'mode': 'pause', 'coverart': PosixPath('/tmp/_ul7pxpj/1749')}\n"
     ]
    }
   ],
   "source": [
    "# u, d, p = update_function(self)\n",
    "# if u != self.data:\n",
    "#     self.data = d\n",
    "# print(f'idle timer: {self.idle_timer.last_updated}, idle_timeout {self.config[\"idle_timeout\"]}')\n",
    "# print(p)\n",
    "# print(d)\n"
   ]
  },
  {
   "cell_type": "code",
   "execution_count": 21,
   "metadata": {},
   "outputs": [],
   "source": [
    "def scan_servers():\n",
    "    \"\"\"scan for and list all available LMS Servers and players on the local network\n",
    "    \n",
    "        to use, run: $ paperpi -m lms_client.scan_servers\"\"\"\n",
    "    print(f'Scanning for available LMS Server and players')\n",
    "    servers = lmsquery.LMSQuery().scanLMS()\n",
    "    if not servers:\n",
    "        print('Error: no LMS servers were found on the network. Is there one running?')\n",
    "        do_exit(1)\n",
    "    print('servers found:')\n",
    "    print(servers)\n",
    "    players = lmsquery.LMSQuery().get_players()\n",
    "    # print selected keys for each player\n",
    "    keys = ['name', 'playerid', 'modelname']\n",
    "    for p in players:\n",
    "        print('players found:')\n",
    "        try:\n",
    "            for key in keys:\n",
    "                print(f'{key}: {p[key]}')\n",
    "            print('\\n')\n",
    "        except KeyError as e:\n",
    "            pass "
   ]
  },
  {
   "cell_type": "code",
   "execution_count": 75,
   "metadata": {},
   "outputs": [
    {
     "name": "stdout",
     "output_type": "stream",
     "text": [
      "[NbConvertApp] Converting notebook lms_client.ipynb to python\n",
      "[NbConvertApp] Writing 5605 bytes to lms_client.py\n"
     ]
    }
   ],
   "source": [
    "!jupyter-nbconvert --to python --template python_clean lms_client.ipynb\n"
   ]
  },
  {
   "cell_type": "code",
   "execution_count": 73,
   "metadata": {},
   "outputs": [],
   "source": [
    "!rm ./SelfDummy.py\n",
    "!rm ./CacheFiles.py"
   ]
  },
  {
   "cell_type": "code",
   "execution_count": 72,
   "metadata": {},
   "outputs": [
    {
     "name": "stdout",
     "output_type": "stream",
     "text": [
      "ln: failed to create symbolic link './SelfDummy.py': File exists\n",
      "ln: failed to create symbolic link './CacheFiles.py': File exists\n"
     ]
    }
   ],
   "source": [
    "!ln -s ../../library/SelfDummy.py \n",
    "!ln -s ../../library/CacheFiles.py"
   ]
  },
  {
   "cell_type": "code",
   "execution_count": null,
   "metadata": {},
   "outputs": [],
   "source": []
  }
 ],
 "metadata": {
  "kernelspec": {
   "display_name": "epd_display-ApAYs8Kw",
   "language": "python",
   "name": "epd_display-apays8kw"
  },
  "language_info": {
   "codemirror_mode": {
    "name": "ipython",
    "version": 3
   },
   "file_extension": ".py",
   "mimetype": "text/x-python",
   "name": "python",
   "nbconvert_exporter": "python",
   "pygments_lexer": "ipython3",
   "version": "3.7.3"
  }
 },
 "nbformat": 4,
 "nbformat_minor": 4
}
