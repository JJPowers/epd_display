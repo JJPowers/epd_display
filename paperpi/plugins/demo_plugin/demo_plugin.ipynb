{
 "cells": [
  {
   "cell_type": "code",
   "execution_count": 4,
   "metadata": {},
   "outputs": [
    {
     "name": "stdout",
     "output_type": "stream",
     "text": [
      "The autoreload extension is already loaded. To reload it, use:\n",
      "  %reload_ext autoreload\n"
     ]
    }
   ],
   "source": [
    "%load_ext autoreload\n",
    "%autoreload 2"
   ]
  },
  {
   "cell_type": "code",
   "execution_count": 7,
   "metadata": {},
   "outputs": [],
   "source": [
    "try:\n",
    "    from . import layout\n",
    "    from . import constants\n",
    "except ImportError:\n",
    "    import layout\n",
    "    import constants"
   ]
  },
  {
   "cell_type": "code",
   "execution_count": null,
   "metadata": {},
   "outputs": [],
   "source": [
    "def update_function(self, *args, **kwargs):\n",
    "    '''update function for demo plugin providing some silly information and a picture\n",
    "    \n",
    "    This plugin provides some silly information and a static image that floats around\n",
    "    \n",
    "    Requirments:\n",
    "        self.config(dict): {\n",
    "            'your_name': 'user name',\n",
    "            'your_color': 'user color',\n",
    "        }\n",
    "        \n",
    "    Args: \n",
    "        self(namespace): namespace from plugin object\n",
    "    \n",
    "    Returns:\n",
    "        tuple: (is_updated(bool), data(dict), priority(int))\n",
    "\n",
    "    # Don't forget to end your docstring with a \"%U\"\n",
    "    %U'''    \n",
    "    # make sure you can accept *args and **kwargs even if you don't intend to use them\n",
    "    \n",
    "    \n",
    "\n",
    "    "
   ]
  }
 ],
 "metadata": {
  "kernelspec": {
   "display_name": "epd_display-ApAYs8Kw",
   "language": "python",
   "name": "epd_display-apays8kw"
  },
  "language_info": {
   "codemirror_mode": {
    "name": "ipython",
    "version": 3
   },
   "file_extension": ".py",
   "mimetype": "text/x-python",
   "name": "python",
   "nbconvert_exporter": "python",
   "pygments_lexer": "ipython3",
   "version": "3.7.3"
  }
 },
 "nbformat": 4,
 "nbformat_minor": 4
}
