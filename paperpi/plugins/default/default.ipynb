{
 "cells": [
  {
   "cell_type": "code",
   "execution_count": 18,
   "metadata": {},
   "outputs": [],
   "source": [
    "import logging"
   ]
  },
  {
   "cell_type": "code",
   "execution_count": 19,
   "metadata": {},
   "outputs": [],
   "source": [
    "# two different import modes for development or distribution\n",
    "try:\n",
    "    # import from other modules above this level\n",
    "    from . import layout\n",
    "    from . import constants\n",
    "except ImportError:\n",
    "    import constants\n",
    "    # development in jupyter notebook\n",
    "    import layout"
   ]
  },
  {
   "cell_type": "code",
   "execution_count": 20,
   "metadata": {},
   "outputs": [],
   "source": [
    "logger = logging.getLogger(__name__)"
   ]
  },
  {
   "cell_type": "code",
   "execution_count": 39,
   "metadata": {},
   "outputs": [],
   "source": [
    "from datetime import datetime\n",
    "def update_function(self, msg=None, high_priority=False):\n",
    "    '''update function for default provides time string and message\n",
    "    \n",
    "    This plugin is designed to display if all other plugins fail to load\n",
    "    \n",
    "    Args:\n",
    "        self(`namespace`)\n",
    "        msg(`str`): string to display\n",
    "    %U'''\n",
    "    if not msg:\n",
    "        msg = constants.msg\n",
    "    data = {\n",
    "        'digit_time': datetime.now().strftime(\"%H:%M:%S\"),\n",
    "        'msg': msg,\n",
    "    }\n",
    "    if high_priority:\n",
    "        priority = -2**15\n",
    "    else:\n",
    "        priority = 2**14\n",
    "        \n",
    "    is_updated = True\n",
    "    return (is_updated, data, priority) "
   ]
  },
  {
   "cell_type": "code",
   "execution_count": 3,
   "metadata": {},
   "outputs": [
    {
     "name": "stdout",
     "output_type": "stream",
     "text": [
      "[NbConvertApp] Converting notebook default.ipynb to python\n",
      "[NbConvertApp] Writing 1080 bytes to default.py\n"
     ]
    }
   ],
   "source": [
    "!jupyter-nbconvert --to python --template python_clean default.ipynb"
   ]
  },
  {
   "cell_type": "code",
   "execution_count": 6,
   "metadata": {},
   "outputs": [],
   "source": [
    "# because I can't figure out relative imports in python 3 & Jupyter, here's some \n",
    "# nb magic that makes testing the update_function easier with the SelfDummy class\n",
    "!ln -s ../../library/SelfDummy.py ./"
   ]
  },
  {
   "cell_type": "code",
   "execution_count": 7,
   "metadata": {},
   "outputs": [],
   "source": [
    "# import SelfDummy\n",
    "# s = SelfDummy.SelfDummy()\n",
    "# update_function(s)"
   ]
  },
  {
   "cell_type": "code",
   "execution_count": null,
   "metadata": {},
   "outputs": [],
   "source": [
    "!rm ./SelfDummy.py"
   ]
  }
 ],
 "metadata": {
  "kernelspec": {
   "display_name": "Python 3",
   "language": "python",
   "name": "python3"
  },
  "language_info": {
   "codemirror_mode": {
    "name": "ipython",
    "version": 3
   },
   "file_extension": ".py",
   "mimetype": "text/x-python",
   "name": "python",
   "nbconvert_exporter": "python",
   "pygments_lexer": "ipython3",
   "version": "3.7.3"
  }
 },
 "nbformat": 4,
 "nbformat_minor": 4
}
