{
 "cells": [
  {
   "cell_type": "code",
   "execution_count": null,
   "metadata": {},
   "outputs": [],
   "source": [
    "%load_ext autoreload\n",
    "%autoreload 2"
   ]
  },
  {
   "cell_type": "code",
   "execution_count": 2,
   "metadata": {},
   "outputs": [
    {
     "name": "stdout",
     "output_type": "stream",
     "text": [
      "[NbConvertApp] Converting notebook newyorker.ipynb to python\n",
      "[NbConvertApp] Writing 4901 bytes to newyorker.py\n"
     ]
    }
   ],
   "source": [
    "!jupyter-nbconvert --to python --template python_clean newyorker.ipynb"
   ]
  },
  {
   "cell_type": "code",
   "execution_count": null,
   "metadata": {},
   "outputs": [],
   "source": [
    "import logging"
   ]
  },
  {
   "cell_type": "code",
   "execution_count": null,
   "metadata": {},
   "outputs": [],
   "source": [
    "from random import randrange\n",
    "from datetime import datetime\n",
    "from pathlib import Path"
   ]
  },
  {
   "cell_type": "code",
   "execution_count": null,
   "metadata": {},
   "outputs": [],
   "source": [
    "# two different import modes for development or distribution\n",
    "try:\n",
    "    # import from other modules above this level\n",
    "    from . import layout\n",
    "    from . import constants\n",
    "except ImportError:\n",
    "    import constants\n",
    "    # development in jupyter notebook\n",
    "    import layout"
   ]
  },
  {
   "cell_type": "code",
   "execution_count": null,
   "metadata": {},
   "outputs": [],
   "source": [
    "import feedparser\n",
    "import requests"
   ]
  },
  {
   "cell_type": "code",
   "execution_count": null,
   "metadata": {},
   "outputs": [],
   "source": [
    "logger = logging.getLogger(__name__)"
   ]
  },
  {
   "cell_type": "code",
   "execution_count": null,
   "metadata": {},
   "outputs": [],
   "source": [
    "def update_function(self, **kwargs):\n",
    "    '''update function for newyorker provides a New Yorker comic of the day\n",
    "    \n",
    "    This plugin provides an image and text pulled from the New Yorker \n",
    "    \n",
    "    Requirments:\n",
    "        self.config(dict): {\n",
    "            'day_range': 'number of days to pull comics from (default: 5)',\n",
    "        }    \n",
    "    \n",
    "    Args:\n",
    "        self(`namespace`)\n",
    "        day_range(`int`): number of days in the past to pull radom comic and text from\n",
    "            use 1 to only pull from today\n",
    "        \n",
    "    Returns:\n",
    "        tuple: (is_updated(bool), data(dict), priority(int))    \n",
    "    %U'''\n",
    "    def time_now():\n",
    "        return datetime.now().strftime(\"%H:%M\")\n",
    "\n",
    "    def fetch_comic(day_range=1):\n",
    "        '''pull a feed from the New Yorker and choose an comic at random from the specified range\n",
    "        \n",
    "             cache the image to show again later to limit network trafic\n",
    "             \n",
    "        Args:\n",
    "            day_range(int): number of days to choose from (use 1 for today only)\n",
    "            \n",
    "        Returns:\n",
    "            tuple: (bool, dict) - True if successful, dictionary of comic, caption and time'''\n",
    "        # set up the feed parser and fetch the feed\n",
    "        feed = feedparser.parse(constants.feed_url)\n",
    "        if feed.has_key('bozo_exception'):\n",
    "            logging.warning(f'could not fetch feed for {constants.feed_url}')\n",
    "            # bail out if there was an error\n",
    "            return(False, {}, 0)\n",
    "\n",
    "        if day_range > len(feed.entries):\n",
    "            day_range = len(feed.entries)\n",
    "            logging.warning(f'day_range set to a value larger than the number of entries returned by the feed. Setting to: {day_range} ')        \n",
    "\n",
    "        logging.debug(f'choosing a comic from the last {day_range} days')\n",
    "        choice = randrange(0, day_range)\n",
    "\n",
    "        try:\n",
    "            comic_caption = feed.entries[choice].summary\n",
    "            comic_url = feed.entries[choice].media_thumbnail[0]['url']\n",
    "            comic_id = feed.entries[choice].id\n",
    "        except IndexError as e:\n",
    "            logging.warning(f'no valid data was returned in the feed: {e}')        \n",
    "            return(False, {}, day_range)\n",
    "        except KeyError as e:\n",
    "            logging.warning(f'no url was found under the `media_thumbnail`: {e}')\n",
    "            return(False, {}, day_range)\n",
    "\n",
    "        comic_id = f'{constants.private_cache}/{comic_id}'\n",
    "        comic_image = self.cache.cache_file(url=comic_url, file_id=comic_id)\n",
    "\n",
    "        return(True, {'comic': comic_image, \n",
    "                      'caption': comic_caption, \n",
    "                      'time': time_now()}, day_range)    \n",
    "            \n",
    "    success = False\n",
    "    is_updated = True\n",
    "    \n",
    "    data = {'comic': Path(constants.images_path)/'shruggy.jpg',\n",
    "            'caption': f'Could not load a comic. Are the Inter-Tubes clogged?',\n",
    "            'time': time_now()\n",
    "            }\n",
    "    try:\n",
    "        day_range = self.config['day_range']\n",
    "    except KeyError as e:\n",
    "        logging.warning(f'module is not properly configured and is missing keys: {e}')\n",
    "        data['caption'] = f'The New Yorker plugin configuration is missing a \"{e.args[0]}\" setting'\n",
    "        day_range = constants.expire_cache\n",
    "    else:\n",
    "        success, my_data, day_range = fetch_comic(day_range)  \n",
    "\n",
    "    priority = self.max_priority\n",
    "    \n",
    "    if success:\n",
    "        data.update(my_data)\n",
    "        \n",
    "    logging.info(f'returned data: {data}')\n",
    "    \n",
    "    self.cache.remove_stale(d=day_range + 1, path=constants.private_cache)\n",
    "    \n",
    "    return (is_updated, data, priority) "
   ]
  },
  {
   "cell_type": "code",
   "execution_count": null,
   "metadata": {},
   "outputs": [],
   "source": [
    "# because I can't figure out relative imports in python 3 & Jupyter, here's some \n",
    "# nb magic that makes testing the update_function easier with the SelfDummy class\n",
    "# !ln -s ../../library/SelfDummy.py ./\n",
    "# !ln -s ../../library/CacheFiles.py ./\n",
    "!ln -s ../../library ./"
   ]
  },
  {
   "cell_type": "code",
   "execution_count": null,
   "metadata": {},
   "outputs": [],
   "source": [
    "# logger = logging.getLogger(__name__)\n",
    "# logging.root.setLevel('DEBUG')"
   ]
  },
  {
   "cell_type": "code",
   "execution_count": null,
   "metadata": {},
   "outputs": [],
   "source": [
    "# from library.CacheFiles import CacheFiles\n",
    "# # def test_plugin():\n",
    "# '''This code snip is useful for testing a plugin from within Jupyter Notebook'''\n",
    "# from library import Plugin\n",
    "# from IPython.display import display\n",
    "# # this is set by PaperPi based on the configured screen\n",
    "# test_plugin = Plugin(resolution=(1200, 800))\n",
    "# # this is pulled from the configuration file; the appropriate section is passed\n",
    "# # to this plugin by PaperPi during initial configuration\n",
    "# test_plugin.config = {'day_range': 20}\n",
    "# test_plugin.layout = layout.layout\n",
    "# # this is done automatically by PaperPi when loading the plugin\n",
    "# test_plugin.cache = CacheFiles()\n",
    "# test_plugin.update_function = update_function\n",
    "# test_plugin.refresh_rate = 1\n",
    "# # display(test_plugin.image)\n",
    "# # return test_plugin\n",
    "# # my_plugin = test_plugin"
   ]
  },
  {
   "cell_type": "code",
   "execution_count": null,
   "metadata": {},
   "outputs": [],
   "source": [
    "# test_plugin.update()\n",
    "# test_plugin.image"
   ]
  },
  {
   "cell_type": "code",
   "execution_count": null,
   "metadata": {},
   "outputs": [],
   "source": [
    "!rm ./library"
   ]
  }
 ],
 "metadata": {
  "kernelspec": {
   "display_name": "epd_display-ApAYs8Kw",
   "language": "python",
   "name": "epd_display-apays8kw"
  },
  "language_info": {
   "codemirror_mode": {
    "name": "ipython",
    "version": 3
   },
   "file_extension": ".py",
   "mimetype": "text/x-python",
   "name": "python",
   "nbconvert_exporter": "python",
   "pygments_lexer": "ipython3",
   "version": "3.7.3"
  }
 },
 "nbformat": 4,
 "nbformat_minor": 4
}
