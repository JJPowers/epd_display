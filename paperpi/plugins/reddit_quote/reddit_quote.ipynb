{
 "cells": [
  {
   "cell_type": "code",
   "execution_count": 1,
   "metadata": {},
   "outputs": [],
   "source": [
    "%load_ext autoreload\n",
    "%autoreload 2"
   ]
  },
  {
   "cell_type": "code",
   "execution_count": 2,
   "metadata": {},
   "outputs": [],
   "source": [
    "# your function must import layout and constants\n",
    "# this is structured to work both in Jupyter notebook and from the command line\n",
    "try:\n",
    "    from . import layout\n",
    "    from . import constants\n",
    "except ImportError:\n",
    "    import layout\n",
    "    import constants\n",
    "\n",
    "import logging\n",
    "import re\n",
    "import json\n",
    "import secrets\n",
    "from time import time\n",
    "from pathlib import Path\n",
    "from datetime import datetime\n",
    "from os import path\n",
    "\n",
    "import requests\n",
    "from dictor import dictor"
   ]
  },
  {
   "cell_type": "code",
   "execution_count": 17,
   "metadata": {},
   "outputs": [
    {
     "ename": "AttributeError",
     "evalue": "'int' object has no attribute 'count'",
     "output_type": "error",
     "traceback": [
      "\u001b[0;31m---------------------------------------------------------------------------\u001b[0m",
      "\u001b[0;31mAttributeError\u001b[0m                            Traceback (most recent call last)",
      "\u001b[0;32m/tmp/ipykernel_26142/3095200010.py\u001b[0m in \u001b[0;36m<module>\u001b[0;34m\u001b[0m\n\u001b[0;32m----> 1\u001b[0;31m \u001b[0;32mraise\u001b[0m \u001b[0mjson\u001b[0m\u001b[0;34m.\u001b[0m\u001b[0mJSONDecodeError\u001b[0m\u001b[0;34m(\u001b[0m\u001b[0;36m6\u001b[0m\u001b[0;34m,\u001b[0m \u001b[0;36m7\u001b[0m\u001b[0;34m,\u001b[0m \u001b[0;36m3\u001b[0m\u001b[0;34m)\u001b[0m\u001b[0;34m\u001b[0m\u001b[0;34m\u001b[0m\u001b[0m\n\u001b[0m",
      "\u001b[0;32m/usr/lib/python3.7/json/decoder.py\u001b[0m in \u001b[0;36m__init__\u001b[0;34m(self, msg, doc, pos)\u001b[0m\n\u001b[1;32m     30\u001b[0m     \u001b[0;31m# Note that this exception is used from _json\u001b[0m\u001b[0;34m\u001b[0m\u001b[0;34m\u001b[0m\u001b[0;34m\u001b[0m\u001b[0m\n\u001b[1;32m     31\u001b[0m     \u001b[0;32mdef\u001b[0m \u001b[0m__init__\u001b[0m\u001b[0;34m(\u001b[0m\u001b[0mself\u001b[0m\u001b[0;34m,\u001b[0m \u001b[0mmsg\u001b[0m\u001b[0;34m,\u001b[0m \u001b[0mdoc\u001b[0m\u001b[0;34m,\u001b[0m \u001b[0mpos\u001b[0m\u001b[0;34m)\u001b[0m\u001b[0;34m:\u001b[0m\u001b[0;34m\u001b[0m\u001b[0;34m\u001b[0m\u001b[0m\n\u001b[0;32m---> 32\u001b[0;31m         \u001b[0mlineno\u001b[0m \u001b[0;34m=\u001b[0m \u001b[0mdoc\u001b[0m\u001b[0;34m.\u001b[0m\u001b[0mcount\u001b[0m\u001b[0;34m(\u001b[0m\u001b[0;34m'\\n'\u001b[0m\u001b[0;34m,\u001b[0m \u001b[0;36m0\u001b[0m\u001b[0;34m,\u001b[0m \u001b[0mpos\u001b[0m\u001b[0;34m)\u001b[0m \u001b[0;34m+\u001b[0m \u001b[0;36m1\u001b[0m\u001b[0;34m\u001b[0m\u001b[0;34m\u001b[0m\u001b[0m\n\u001b[0m\u001b[1;32m     33\u001b[0m         \u001b[0mcolno\u001b[0m \u001b[0;34m=\u001b[0m \u001b[0mpos\u001b[0m \u001b[0;34m-\u001b[0m \u001b[0mdoc\u001b[0m\u001b[0;34m.\u001b[0m\u001b[0mrfind\u001b[0m\u001b[0;34m(\u001b[0m\u001b[0;34m'\\n'\u001b[0m\u001b[0;34m,\u001b[0m \u001b[0;36m0\u001b[0m\u001b[0;34m,\u001b[0m \u001b[0mpos\u001b[0m\u001b[0;34m)\u001b[0m\u001b[0;34m\u001b[0m\u001b[0;34m\u001b[0m\u001b[0m\n\u001b[1;32m     34\u001b[0m         \u001b[0merrmsg\u001b[0m \u001b[0;34m=\u001b[0m \u001b[0;34m'%s: line %d column %d (char %d)'\u001b[0m \u001b[0;34m%\u001b[0m \u001b[0;34m(\u001b[0m\u001b[0mmsg\u001b[0m\u001b[0;34m,\u001b[0m \u001b[0mlineno\u001b[0m\u001b[0;34m,\u001b[0m \u001b[0mcolno\u001b[0m\u001b[0;34m,\u001b[0m \u001b[0mpos\u001b[0m\u001b[0;34m)\u001b[0m\u001b[0;34m\u001b[0m\u001b[0;34m\u001b[0m\u001b[0m\n",
      "\u001b[0;31mAttributeError\u001b[0m: 'int' object has no attribute 'count'"
     ]
    }
   ],
   "source": []
  },
  {
   "cell_type": "code",
   "execution_count": 3,
   "metadata": {},
   "outputs": [],
   "source": [
    "def _time_now():\n",
    "    return datetime.now().strftime(\"%H:%M\")"
   ]
  },
  {
   "cell_type": "code",
   "execution_count": 27,
   "metadata": {},
   "outputs": [],
   "source": [
    "def _fetch_quotes():\n",
    "    '''fetch quotes from reddit'''\n",
    "    error = False\n",
    "    logging.debug('fetching data from reddit')\n",
    "    raw_quotes = [constants.error_text]\n",
    "    try:\n",
    "        r = requests.get(constants.quotes_url, headers=constants.headers)\n",
    "    except requests.RequestException as e:\n",
    "        logging.error(f'failed to fetch quotes from {constants.quotes_url}, {e}')\n",
    "    if r.status_code == 200:\n",
    "        try:\n",
    "            json_data = dictor(r.json(), constants.quote_data_addr)\n",
    "            raw_quotes = [dictor(q, constants.quote_title_addr) for q in json_data]\n",
    "        except json.JSONDecodeError as e:\n",
    "            logging.error(f'bad json data: {e}')\n",
    "            raw_quotes = [constants.error_text]\n",
    "            error = True\n",
    "    else:\n",
    "        logging.warning(f'error accessing {constants.quotes_url}: code {r.status_code}')\n",
    "        raw_quotes = [constants.error_text]\n",
    "        error = True\n",
    "        \n",
    "    if len(raw_quotes) < 1:\n",
    "        raw_quotes = [constants.error_text]\n",
    "        error = True\n",
    "        \n",
    "    return (raw_quotes, error)\n"
   ]
  },
  {
   "cell_type": "code",
   "execution_count": 5,
   "metadata": {},
   "outputs": [],
   "source": [
    "def _process_quotes(raw_quotes):\n",
    "    processed_quotes = []\n",
    "    logging.debug(f'processing {len(raw_quotes)} quotes')\n",
    "    for quote in raw_quotes:\n",
    "        # make sure we have a string to work with\n",
    "        quote = str(quote)\n",
    "        # sub double quotes for any other quote character or '' \n",
    "        q = re.sub('“|”|\\'\\'|\"', '', quote)\n",
    "        # sub single quote for ’ character\n",
    "        q = re.sub('’', \"'\", q)\n",
    "        # sub minus for endash, emdash, hyphen, ~\n",
    "        q = re.sub('-|–|—|~|--|―', '-', q)\n",
    "        # clean trailing whitespace in quotes\n",
    "        q = re.sub('\\s+\"', '\"', q)\n",
    "        # split quote from attirbution\n",
    "        match = re.match('(.*)\\s{0,}-\\s{0,}(.*)', q)\n",
    "\n",
    "        if hasattr(match, 'groups'):\n",
    "            if len(match.groups()) > 1:\n",
    "                text = match.group(1).strip()\n",
    "                attribution = match.group(2).strip().title()\n",
    "            else:\n",
    "                text = match.group(1).strip()\n",
    "                attribution = None\n",
    "\n",
    "        # append quotes to dictionary\n",
    "        \n",
    "        processed_quotes.append({'len': len(q), 'text': text, 'attribution': attribution})\n",
    "    return processed_quotes\n"
   ]
  },
  {
   "cell_type": "code",
   "execution_count": 23,
   "metadata": {},
   "outputs": [],
   "source": [
    "# make sure this function can accept *args and **kwargs even if you don't intend to use them\n",
    "def update_function(self, *args, **kwargs):\n",
    "    '''update function for reddit_quote plugin\n",
    "    \n",
    "    Scrapes quotes from reddit.com/r/quotes and displays them\n",
    "    \n",
    "    %U'''  \n",
    "\n",
    "    \n",
    "    logging.info(f'update function for {constants.name}')\n",
    "    json_file = self.cache.path/Path(constants.json_file)\n",
    "    \n",
    "    max_length = self.config.get('max_length', constants.required_config_options['max_length'])\n",
    "    max_retries = self.config.get('max_retries', constants.required_config_options['max_retries'])\n",
    "    \n",
    "    is_updated = False\n",
    "    data = {}\n",
    "    priority = 2**16\n",
    "    \n",
    "    logging.debug(f'checking mtime of cached json file: {json_file}')\n",
    "    \n",
    "    # check the age of the cached data\n",
    "    try:\n",
    "        mtime  = time() - path.getmtime(json_file)\n",
    "        logging.debug(f'age of {json_file}: {mtime}')\n",
    "    except OSError as e:\n",
    "#         logging.info(f'{e}')\n",
    "        mtime = 2**16\n",
    "    except json.JSONDecodeError as e:\n",
    "        logging.info(f'{e}')\n",
    "        mtime = 2**16\n",
    "        \n",
    "    \n",
    "    if json_file.exists() and mtime < constants.json_max_age:\n",
    "        try:\n",
    "            logging.debug('using cached reddit data')\n",
    "            with open(json_file) as jf:\n",
    "                json_data = json.load(jf)\n",
    "        except OSError as e:\n",
    "            logging.warning(f'could not open cached JSON file: {e}')\n",
    "        except json.JSONDecodeError as e:\n",
    "            logging.error(f'could not decode JSON file: {e}')\n",
    "            json_data = None\n",
    "    else:\n",
    "        logging.debug('cached data expired, fetching fresh data')\n",
    "        json_data = None\n",
    "            \n",
    "    \n",
    "    if not json_data:\n",
    "        logging.debug('downloading fresh data from reddit')\n",
    "        raw_quotes, fetch_error = _fetch_quotes()\n",
    "        json_data = _process_quotes(raw_quotes)\n",
    "        \n",
    "        if fetch_error:\n",
    "            logging.warnign('failed to fetch data due to previous errors. skipping cache.')\n",
    "        else:\n",
    "            logging.info('caching data')\n",
    "            try:\n",
    "                with open(json_file, 'w')  as jf:\n",
    "                    json.dump(json_data, jf)\n",
    "            except OSError as e:\n",
    "                logging.error(f'failed to cache data: {e}')\n",
    "            \n",
    "    if json_data:  \n",
    "        for i in range(0, max_retries):\n",
    "            logging.debug(f'choosing quote with length < {max_length} characters')\n",
    "            my_quote = secrets.choice(json_data)\n",
    "            if my_quote['len'] < max_length:\n",
    "                break\n",
    "            else:\n",
    "                logging.debug(f'quote was too long: {my_quote[\"len\"]} characters')\n",
    "        if my_quote['attribution']:\n",
    "            attribution = my_quote['attribution']\n",
    "            my_quote['attribution'] = f'{constants.attribution_char}{attribution}'\n",
    "        logging.debug(my_quote)\n",
    "        \n",
    "        data = my_quote\n",
    "        data['time'] = _time_now()\n",
    "        data['tag_image'] = constants.tag_image\n",
    "        is_updated = True\n",
    "        priority = self.max_priority\n",
    "        \n",
    "    return (is_updated, data, priority)"
   ]
  },
  {
   "cell_type": "code",
   "execution_count": 25,
   "metadata": {},
   "outputs": [],
   "source": [
    "logging.root.setLevel('DEBUG')\n",
    "\n",
    "# use this for testing\n",
    "from library.SelfDummy import SelfDummy\n",
    "from library.CacheFiles import CacheFiles\n",
    "from epdlib import Layout\n",
    "self = SelfDummy()\n",
    "self.max_priority = 1\n",
    "self.cache = CacheFiles()"
   ]
  },
  {
   "cell_type": "code",
   "execution_count": 28,
   "metadata": {},
   "outputs": [
    {
     "name": "stderr",
     "output_type": "stream",
     "text": [
      "INFO:root:update function for reddit_quote\n",
      "DEBUG:root:checking mtime of cached json file: /tmp/omm2mhut/reddit_quote.json\n",
      "DEBUG:root:cached data expired, fetching fresh data\n",
      "DEBUG:root:downloading fresh data from reddit\n",
      "DEBUG:root:fetching data from reddit\n",
      "DEBUG:urllib3.connectionpool:Starting new HTTPS connection (1): www.reddit.com:443\n",
      "DEBUG:urllib3.connectionpool:https://www.reddit.com:443 \"GET /r/quotes/top/.json?t=week&limi100 HTTP/1.1\" 200 10001\n",
      "DEBUG:root:processing 25 quotes\n",
      "INFO:root:caching data\n",
      "DEBUG:root:choosing quote with length < 144 characters\n",
      "DEBUG:root:{'len': 79, 'text': 'Raise your words, not voice. It is rain that grows flowers, not thunder.', 'attribution': '―Rumi'}\n"
     ]
    },
    {
     "data": {
      "text/plain": [
       "(True,\n",
       " {'len': 79,\n",
       "  'text': 'Raise your words, not voice. It is rain that grows flowers, not thunder.',\n",
       "  'attribution': '―Rumi',\n",
       "  'time': '21:50',\n",
       "  'tag_image': '/home/pi/src/epd_display/paperpi/plugins/reddit_quote./images/rabbitsq.png'},\n",
       " 1)"
      ]
     },
     "execution_count": 28,
     "metadata": {},
     "output_type": "execute_result"
    }
   ],
   "source": [
    "update_function(self)"
   ]
  },
  {
   "cell_type": "code",
   "execution_count": 46,
   "metadata": {},
   "outputs": [
    {
     "name": "stdout",
     "output_type": "stream",
     "text": [
      "[NbConvertApp] Converting notebook reddit_quote.ipynb to python\n",
      "[NbConvertApp] Writing 6972 bytes to reddit_quote.py\n"
     ]
    }
   ],
   "source": [
    "!jupyter-nbconvert --to python --template python_clean reddit_quote.ipynb"
   ]
  },
  {
   "cell_type": "code",
   "execution_count": 45,
   "metadata": {},
   "outputs": [],
   "source": [
    "# Jupyter notebook magic to create a symbolic to the library directory\n",
    "# this will allow you to import the Plugin() module \n",
    "!ln -s ../../library ./\n"
   ]
  },
  {
   "cell_type": "code",
   "execution_count": 30,
   "metadata": {},
   "outputs": [],
   "source": [
    "# from library.CacheFiles import CacheFiles\n",
    "# def test_plugin():\n",
    "#     '''This code snip is useful for testing a plugin from within Jupyter Notebook'''\n",
    "#     from library import Plugin\n",
    "#     from IPython.display import display\n",
    "#     # this is set by PaperPi based on the configured schreen\n",
    "#     test_plugin = Plugin(resolution=(1200, 800))\n",
    "#     # this is pulled from the configuration file; the appropriate section is passed\n",
    "#     # to this plugin by PaperPi during initial configuration\n",
    "#     test_plugin.config = {'your_name': 'Aaron', 'favorite_color': 'pink'}\n",
    "#     test_plugin.layout = layout.layout\n",
    "#     # this is done automatically by PaperPi when loading the plugin\n",
    "#     test_plugin.cache = CacheFiles()\n",
    "#     test_plugin.update_function = update_function\n",
    "#     test_plugin.update()\n",
    "#     display(test_plugin.image)\n",
    "#     return test_plugin\n",
    "# my_plugin = test_plugin"
   ]
  },
  {
   "cell_type": "code",
   "execution_count": null,
   "metadata": {},
   "outputs": [],
   "source": []
  },
  {
   "cell_type": "code",
   "execution_count": 43,
   "metadata": {},
   "outputs": [
    {
     "name": "stderr",
     "output_type": "stream",
     "text": [
      "DEBUG:root:[[----checking default values for layout----]\n",
      "DEBUG:root:section: [-------------text-------------]\n",
      "DEBUG:root:section: [---------attribution----------]\n",
      "DEBUG:root:section: [-------------time-------------]\n",
      "DEBUG:root:[[....calculating layouts....]]\n",
      "INFO:root:section: [.............text.............]\n",
      "DEBUG:root:resolution: (1200, 800)\n",
      "DEBUG:root:width: 1, height: 0.65\n",
      "DEBUG:root:scaling font size\n",
      "DEBUG:root:y target size reached\n",
      "DEBUG:root:calculated font size: 85\n",
      "DEBUG:root:absolute coordinates provided\n",
      "DEBUG:root:block coordinates: (0, 0)\n",
      "INFO:root:section: [.........attribution..........]\n",
      "DEBUG:root:resolution: (1200, 800)\n",
      "DEBUG:root:width: 1, height: 0.25\n",
      "DEBUG:root:scaling font size\n",
      "DEBUG:root:y target size reached\n",
      "DEBUG:root:calculated font size: 84\n",
      "DEBUG:root:absolute coordinates provided\n",
      "DEBUG:root:block coordinates: (0, 520)\n",
      "INFO:root:section: [.............time.............]\n",
      "DEBUG:root:resolution: (1200, 800)\n",
      "DEBUG:root:width: 1, height: 0.1\n",
      "DEBUG:root:scaling font size\n",
      "DEBUG:root:y target size reached\n",
      "DEBUG:root:calculated font size: 85\n",
      "DEBUG:root:absolute coordinates provided\n",
      "DEBUG:root:block coordinates: (0, 720)\n",
      "INFO:root:[[____setting blocks____]]\n",
      "INFO:root:section: [_____________text_____________]\n",
      "DEBUG:root:setting block type: TextBlock\n",
      "DEBUG:root:block area: (1200, 520)\n",
      "DEBUG:root:padded area: [1160, 480]\n",
      "DEBUG:root:fill: 255, bkground: 0\n",
      "DEBUG:root:creating Block\n",
      "DEBUG:root:setting old_font = None\n",
      "DEBUG:root:calculating maximum characters for font ('Josefin Sans', 'Light')\n",
      "DEBUG:root:average character width: 46.9989888776542\n",
      "DEBUG:root:maximum characters per line: 25\n",
      "DEBUG:root:formatting string: NONE\n",
      "DEBUG:root:text size: (267, 84)\n",
      "DEBUG:root:pasting hcenterd\n",
      "DEBUG:root:pasting vcentered\n",
      "DEBUG:root:paste coordinates: (466, 218)\n",
      "INFO:root:section: [_________attribution__________]\n",
      "DEBUG:root:setting block type: TextBlock\n",
      "DEBUG:root:block area: (1200, 200)\n",
      "DEBUG:root:padded area: [1160, 160]\n",
      "DEBUG:root:fill: 255, bkground: 0\n",
      "DEBUG:root:creating Block\n",
      "DEBUG:root:setting old_font = None\n",
      "DEBUG:root:calculating maximum characters for font ('Josefin Sans', 'Regular')\n",
      "DEBUG:root:average character width: 48.45298281092012\n",
      "DEBUG:root:maximum characters per line: 24\n",
      "DEBUG:root:formatting string: NONE\n",
      "DEBUG:root:text size: (267, 84)\n",
      "DEBUG:root:pasting hcenterd\n",
      "DEBUG:root:pasting vcentered\n",
      "DEBUG:root:paste coordinates: (466, 58)\n",
      "DEBUG:root:adding border to image\n",
      "DEBUG:root:adding border to side top\n",
      "INFO:root:section: [_____________time_____________]\n",
      "DEBUG:root:setting block type: TextBlock\n",
      "DEBUG:root:block area: (1200, 80)\n",
      "DEBUG:root:padded area: [1200, 80]\n",
      "DEBUG:root:fill: 255, bkground: 0\n",
      "DEBUG:root:creating Block\n",
      "DEBUG:root:setting old_font = None\n",
      "DEBUG:root:calculating maximum characters for font ('Josefin Sans', 'Light')\n",
      "DEBUG:root:average character width: 46.9989888776542\n",
      "DEBUG:root:maximum characters per line: 26\n",
      "DEBUG:root:formatting string: NONE\n",
      "DEBUG:root:text size: (267, 84)\n",
      "INFO:root:the text will spill outside of padded area using these values\n",
      "DEBUG:root:paste coordinates: (0, 0)\n",
      "INFO:root:update function for reddit_quote\n",
      "DEBUG:root:checking mtime of cached json file: /tmp/4hk7ufas/reddit_quote.json\n",
      "DEBUG:root:cached data expired, fetching fresh data\n",
      "DEBUG:root:downloading fresh data from reddit\n",
      "DEBUG:root:fetching data from reddit\n",
      "DEBUG:urllib3.connectionpool:Starting new HTTPS connection (1): www.reddit.com:443\n",
      "DEBUG:urllib3.connectionpool:https://www.reddit.com:443 \"GET /r/quotes/top/.json?t=week&limi100 HTTP/1.1\" 200 10138\n",
      "DEBUG:root:processing 25 quotes\n",
      "INFO:root:caching data\n",
      "DEBUG:root:choosing quote with length < 144 characters\n",
      "DEBUG:root:{'len': 70, 'text': \"Human beings are the only creatures on earth that claim a God and the only thing that behaves like it hasn't got one.\", 'attribution': '―Hunter S. Thompson'}\n",
      "DEBUG:root:\"len\" is not a recognized block, skipping\n",
      "DEBUG:root:formatting string: Human beings are the only creatures on earth that claim a God and the only thing that behaves like it hasn't got one.\n",
      "DEBUG:root:text size: (978, 359)\n",
      "DEBUG:root:pasting hcenterd\n",
      "DEBUG:root:pasting vcentered\n",
      "DEBUG:root:paste coordinates: (111, 80)\n",
      "DEBUG:root:formatting string: ―Hunter S. Thompson\n",
      "DEBUG:root:text size: (792, 87)\n",
      "DEBUG:root:pasting hcenterd\n",
      "DEBUG:root:pasting vcentered\n",
      "DEBUG:root:paste coordinates: (204, 56)\n",
      "DEBUG:root:adding border to image\n",
      "DEBUG:root:adding border to side top\n",
      "DEBUG:root:formatting string: 22:17\n",
      "DEBUG:root:text size: (168, 79)\n",
      "DEBUG:root:paste coordinates: (0, 0)\n",
      "DEBUG:root:\"tag_image\" is not a recognized block, skipping\n"
     ]
    },
    {
     "data": {
      "image/png": "[encoded data removed]",
      "text/plain": [
       "<PIL.Image.Image image mode=L size=1200x800 at 0xACA96C50>"
      ]
     },
     "metadata": {},
     "output_type": "display_data"
    }
   ],
   "source": [
    "# # this simulates calling the plugin from PaperPi\n",
    "# d = my_plugin()"
   ]
  },
  {
   "cell_type": "code",
   "execution_count": null,
   "metadata": {},
   "outputs": [],
   "source": []
  }
 ],
 "metadata": {
  "kernelspec": {
   "display_name": "epd_display-ApAYs8Kw",
   "language": "python",
   "name": "epd_display-apays8kw"
  },
  "language_info": {
   "codemirror_mode": {
    "name": "ipython",
    "version": 3
   },
   "file_extension": ".py",
   "mimetype": "text/x-python",
   "name": "python",
   "nbconvert_exporter": "python",
   "pygments_lexer": "ipython3",
   "version": "3.7.3"
  }
 },
 "nbformat": 4,
 "nbformat_minor": 4
}
