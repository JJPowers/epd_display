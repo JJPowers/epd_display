{
 "cells": [
  {
   "cell_type": "code",
   "execution_count": 126,
   "metadata": {},
   "outputs": [],
   "source": [
    "import gpiozero\n",
    "import socket\n",
    "import logging\n",
    "\n",
    "try:\n",
    "    from . import layout\n",
    "    from . import constants\n",
    "except ImportError:\n",
    "    import layout\n",
    "    import constants"
   ]
  },
  {
   "cell_type": "code",
   "execution_count": 83,
   "metadata": {},
   "outputs": [],
   "source": [
    "logging.getLogger(__name__)"
   ]
  },
  {
   "cell_type": "code",
   "execution_count": 115,
   "metadata": {},
   "outputs": [],
   "source": [
    "def update_function(self):\n",
    "    data = constants.data\n",
    "    try:\n",
    "        pi_temp = gpiozero.CPUTemperature()\n",
    "        pi_load = gpiozero.LoadAverage()\n",
    "        pi_disk = gpiozero.DiskUsage()\n",
    "        pi_info = gpiozero.pi_info()\n",
    "    except gpiozero.GPIOZeroError:\n",
    "        return data\n",
    "\n",
    "    \n",
    "    data = {'temp': f'{int(pi_temp.temperature)}C', \n",
    "            'temp_icon': './images/Thermometer_icon.png',\n",
    "            'load': f'{pi_load.load_average}', \n",
    "            'cpu_icon': './images/CPU_icon.png',\n",
    "            'disk_use': f'{int(pi_disk.usage)}%',  \n",
    "            'disk_icon': './images/SSD_icon.png',\n",
    "            'pi_model': f'Pi {pi_info.model} rev {pi_info.revision}',\n",
    "            'hostname': socket.gethostname()}\n",
    "    \n",
    "    return data"
   ]
  },
  {
   "cell_type": "code",
   "execution_count": 127,
   "metadata": {},
   "outputs": [
    {
     "name": "stdout",
     "output_type": "stream",
     "text": [
      "[NbConvertApp] Converting notebook pi_dash.ipynb to python\n",
      "[NbConvertApp] Writing 3336 bytes to pi_dash.py\n"
     ]
    }
   ],
   "source": [
    "!jupyter-nbconvert --to python --template python_clean pi_dash.ipynb"
   ]
  },
  {
   "cell_type": "code",
   "execution_count": 123,
   "metadata": {},
   "outputs": [],
   "source": [
    "# layout = {\n",
    "#     'hostname': {\n",
    "#         'image': None,\n",
    "#         'max_lines': 1,\n",
    "#         'width': 1,\n",
    "#         'height': 1/6,\n",
    "#         'abs_coordinates': (0, 0),\n",
    "#         'hcenter': True,\n",
    "#         'vcenter': True,\n",
    "#         'font': '../../fonts/Sarabun/Sarabun-Regular.ttf'\n",
    "#     },\n",
    "#     'temp_icon': {\n",
    "#         'image': True,\n",
    "#         'width': 1/4,\n",
    "#         'height': 2/6,\n",
    "#         'abs_coordinates':(0, None),\n",
    "#         'relative': ('temp_icon', 'hostname'),\n",
    "#         'hcenter': True,\n",
    "#         'vcenter': True,\n",
    "#         'padding': 4\n",
    "#     },\n",
    "#     'temp': {\n",
    "#         'image': None,\n",
    "#         'width': 1/4,\n",
    "#         'height': 2/6,\n",
    "#         'abs_coordinates': (None, None),\n",
    "#         'relative': ('temp_icon', 'hostname'),\n",
    "#         'font': '../../fonts/Sarabun/Sarabun-Regular.ttf',\n",
    "#         'hcenter': False,\n",
    "#         'vcenter': True\n",
    "#     },\n",
    "#     'cpu_icon': {\n",
    "#         'image': True,\n",
    "#         'width': 1/4,\n",
    "#         'height': 2/6,\n",
    "#         'abs_coordinates':(0, None),\n",
    "#         'relative': ('temp', 'hostname'),\n",
    "#         'hcenter': True,\n",
    "#         'vcenter': True,\n",
    "#         'padding': 4\n",
    "#     },\n",
    "#     'load': {\n",
    "#         'image': None,\n",
    "#         'width': 1/4,\n",
    "#         'height': 2/6,\n",
    "#         'abs_coordinates': (None, None),\n",
    "#         'relative': ('cpu_icon', 'hostname'),\n",
    "#         'font': '../../fonts/Sarabun/Sarabun-Regular.ttf',\n",
    "#         'hcenter': False,\n",
    "#         'vcenter': True\n",
    "#     },   \n",
    "#     'disk_icon': {\n",
    "#         'image': True,\n",
    "#         'width': 1/4,\n",
    "#         'height': 2/6,\n",
    "#         'abs_coordinates':(0, None),\n",
    "#         'relative': ('disk_icon', 'temp_icon'),\n",
    "#         'hcenter': True,\n",
    "#         'vcenter': True,\n",
    "#         'padding': 4\n",
    "#     },\n",
    "#     'disk_use': {\n",
    "#         'image': None,\n",
    "#         'width': 1/4,\n",
    "#         'height': 2/6,\n",
    "#         'abs_coordinates': (None, None),\n",
    "#         'relative': ('disk_icon', 'temp'),\n",
    "#         'font': '../../fonts/Sarabun/Sarabun-Regular.ttf',\n",
    "#         'hcenter': True,\n",
    "#         'vcenter': True\n",
    "#     },\n",
    "#     'pi_model': {\n",
    "#         'image': None,\n",
    "#         'max_lines': 1,\n",
    "#         'width': 1,\n",
    "#         'height': 1/6,\n",
    "#         'abs_coordinates': (0, None),\n",
    "#         'hcenter': True,\n",
    "#         'vcenter': True,\n",
    "#         'relative': ('pi_model', 'disk_icon'),\n",
    "#         'font': '../../fonts/Sarabun/Sarabun-Regular.ttf'\n",
    "#     },    \n",
    "# }"
   ]
  },
  {
   "cell_type": "markdown",
   "metadata": {},
   "source": [
    "# Attributions\n",
    "* processor by Twentyfour Line Studio from the Noun Project\n",
    "* Ram memory by nareerat jaikaew from the Noun Project\n",
    "* storage by Rflor from the Noun Project\n",
    "* Temperature by Adrien Coquet from the Noun Project\n",
    "* ssd by Econceptive from the Noun Project"
   ]
  }
 ],
 "metadata": {
  "kernelspec": {
   "display_name": "epd_display-ApAYs8Kw",
   "language": "python",
   "name": "epd_display-apays8kw"
  },
  "language_info": {
   "codemirror_mode": {
    "name": "ipython",
    "version": 3
   },
   "file_extension": ".py",
   "mimetype": "text/x-python",
   "name": "python",
   "nbconvert_exporter": "python",
   "pygments_lexer": "ipython3",
   "version": "3.7.3"
  }
 },
 "nbformat": 4,
 "nbformat_minor": 4
}
