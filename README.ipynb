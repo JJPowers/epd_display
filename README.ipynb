{
 "cells": [
  {
   "cell_type": "markdown",
   "metadata": {},
   "source": [
    "# PaperPi\n",
    "![lms_client plugin](./paperpi/plugins/splash_screen/splash_screen_sample.png)\n",
    "\n",
    "E-Paper display with multiple display plugins. \n",
    "\n",
    "PaperPi is designed run as a daemon process to display a vairety of plugins to SPI based e-paper/e-ink displays with long refresh delays. It has been specifically written to work with the [WaveShare](https://www.waveshare.com/product/displays/e-paper.htm) SPI displays.\n",
    "\n",
    "PaperPi rotates through a user-configured selection of plugins each represented by a single static \"screen.\" After the plugin screen has \"expired\", the next plugin with the highest priority (lowest value) will be displayed, eventually cycling through all the plugins. \n",
    "\n",
    "\n",
    "## Plugins\n",
    "PaperPi supports many different plugins and layouts for each plugin. The plugin structure is open and documented to allow building your own plugins or customizing existing plugins.\n",
    " \n",
    "[Complete Plugins  List](./documentation/Plugins.md)\n",
    "\n",
    "| | | |\n",
    "|:-------------------------:|:-------------------------:|:-------------------------:|\n",
    "|<img src=./paperpi/plugins/librespot_client/librespot_client_sample.png alt=\"librespot plugin\" width=300 />[LibreSpot (spotify) Plugin](./paperpi/plugins/librespot_client/README.md)|<img src=./paperpi/plugins/word_clock/word_clock_sample.png alt=\"word clock plugin\" width=300 />[Word Clock](./paperpi/plugins/word_clock/README.md)|<img src=./paperpi/plugins/lms_client/lms_client_sample.png alt=\"lms client plugin\" width=300 />[Logitech Media Server Plugin](./paperpi/plugins/lms_client/README.md)|\n",
    "|<img src=./paperpi/plugins/dec_binary_clock/dec_binary_clock_sample.png alt=\"decimal binary clock\" width=300 />[Decimal-Binary Clock](./paperpi/plugins/dec_binary_clock/README.md)|<img src=./paperpi/plugins/met_no/met_no_sample.png alt=\"met_no plugin\" width=300 />[Met.no Weather](./paperpi/plugins/met_no/README.md)|<img src=./paperpi/plugins/pi_dash/pi_dash_sample.png alt=\"Pi Dashboard\" width=300 />[Pi Dashboard](./paperpi/plugins/pi_dash/README.md)|\n",
    "\n",
    "<a name=\"requirements\"></a>\n",
    "## Requirements\n",
    "\n",
    "### Required Hardware\n",
    "* Raspberry Pi 4B\n",
    "    - A Pi3 and possibly a Pi Zero are likely sufficient, but are untested at this time (Nov 2020)\n",
    "* [WaveShare EPD SPI-only Screen](https://www.waveshare.com/product/displays/e-paper.htm) with PiHat\n",
    "    - UART, SPI/USB/I80 screens are **not supported** as there is no python library for diving these boards\n",
    "     \n",
    "### Optional Hardware\n",
    "* [HiFiBerry hat](https://www.hifiberry.com/shop/#boards) (*optional*) \n",
    "    * The HiFiBerry DAC+ PRO and similar boards add high-quality audio output to the Pi so it can act as a display and also work as a LMS client player using squeezelite\n",
    "    * GPIO 2x20 headers **must be added** to the board to support WaveShare HAT\n",
    "    * HiFiBerry's [DAC+ Bundle](https://www.hifiberry.com/shop/bundles/hifiberry-dac-bundle-4/) with the following configuraiton is a good choice:\n",
    "        * DAC+ Pro \n",
    "        * Acrylic Case for (RCA) AND DIGI+\n",
    "        * Raspberry Pi 4B 2GB (1GB should be sufficient as well)\n",
    "        * 16GB SD Card\n",
    "        * PowerSupply (USB C 5.1V/3A)\n",
    "        * 2x20 Pin Male Header (required for WaveShare HAT)\n",
    "\n",
    "### Optional Software\n",
    "PaperPi plugins work with a variety of other software such as Logitech Media Server and Spotify. Check the [Plugin documentation](./documentation/Plugins.md) for further instructions\n",
    "\n",
    "## Quick Install\n",
    "\n",
    "\n",
    "## Building PaperPi\n",
    "\n",
    "* if pipenv fails to install Pillow:\n",
    "```\n",
    "An error occurred while installing pillow==8.0.1 --hash=sha256:95edb1ed513e68bddc2aee3de66ceaf743590bf16c023fb9977adc4be15bd3f0 --hash=sha256:2fb113757a369a6cdb189f8df3226e995acfed0a8919a72416626af1a0a71140 --hash=sha256:0a2e8d03787ec7ad71dc18aec9367c946ef8ef50e1e78c71f743bc3a770f9fae --hash=sha256:d8a96747df78cda35980905bf26e72960cba6d355ace4780d4bdde3b217cdf1e --hash=sha256:4b0ef2470c4979e345e4e0cc1bbac65fda11d0d7b789dbac035e4c6ce3f98adb --hash=sha256:7c9401e68730d6c4245b8e361d3d13e1035cbc94db86b49dc7da8bec235d0015 --hash=sha256:bd7bf289e05470b1bc74889d1466d9ad4a56d201f24397557b6f65c24a6844b8 --hash=sha256:5abd653a23c35d980b332bc0431d39663b1709d64142e3652890df4c9b6970f6 --hash=sha256:cc3ea6b23954da84dbee8025c616040d9aa5eaf34ea6895a0a762ee9d3e12e11 --hash=sha256:cc9ec588c6ef3a1325fa032ec14d97b7309db493782ea8c304666fb10c3bd9a7 --hash=sha256:59e903ca800c8cfd1ebe482349ec7c35687b95e98cefae213e271c8c7fffa021 --hash=sha256:7ba0ba61252ab23052e642abdb17fd08fdcfdbbf3b74c969a30c58ac1ade7cd3 --hash=sha256:92c882b70a40c79de9f5294dc99390671e07fc0b0113d472cbea3fde15db1792 --hash=sha256:6c1aca8231625115104a06e4389fcd9ec88f0c9befbabd80dc206c35561be271 --hash=sha256:d3d07c86d4efa1facdf32aa878bd508c0dc4f87c48125cc16b937baa4e5b5e11 --hash=sha256:0eeeae397e5a79dc088d8297a4c2c6f901f8fb30db47795113a4a605d0f1e5ce --hash=sha256:895d54c0ddc78a478c80f9c438579ac15f3e27bf442c2a9aa74d41d0e4d12544 --hash=sha256:795e91a60f291e75de2e20e6bdd67770f793c8605b553cb6e4387ce0cb302e09 --hash=sha256:e38d58d9138ef972fceb7aeec4be02e3f01d383723965bfcef14d174c8ccd039 --hash=sha256:006de60d7580d81f4a1a7e9f0173dc90a932e3905cc4d47ea909bc946302311a --hash=sha256:81f812d8f5e8a09b246515fac141e9d10113229bc33ea073fec11403b016bcf3 --hash=sha256:5f9403af9c790cc18411ea398a6950ee2def2a830ad0cfe6dc9122e6d528b302 --hash=sha256:eb472586374dc66b31e36e14720747595c2b265ae962987261f044e5cce644b5 --hash=sha256:6b4a8fd632b4ebee28282a9fef4c341835a1aa8671e2770b6f89adc8e8c2703c --hash=sha256:11c5c6e9b02c9dac08af04f093eb5a2f84857df70a7d4a6a6ad461aca803fb9e --hash=sha256:b63d4ff734263ae4ce6593798bcfee6dbfb00523c82753a3a03cbc05555a9cc3 --hash=sha256:8de332053707c80963b589b22f8e0229f1be1f3ca862a932c1bcd48dafb18dd8 --hash=sha256:fbd922f702582cb0d71ef94442bfca57624352622d75e3be7a1e7e9360b07e72! Will try again.\n",
    "```\n",
    "    - manually install pillow with `$ pipenv install Pillow`\n",
    "\n",
    "## Contributing\n",
    "PaperPi's core is written and maintained in Jupyter Notebook. If you'd like to contribute, please make pull requests in the Jupyter notebooks. Making PRs to the `.py` files means manually moving the changes into the Jupyter Notebook. \n",
    "\n",
    "Plugins can be pure python, but should follow the [guide provided](./documentation/Plugins.md).\n",
    "\n",
    "See [this gist](https://gist.github.com/txoof/ed4319db317f813b9e500ff190ca4a87) for a quick guide for setting up a jupyter environment on a Raspberry Pi."
   ]
  },
  {
   "cell_type": "code",
   "execution_count": 1,
   "metadata": {},
   "outputs": [
    {
     "name": "stdout",
     "output_type": "stream",
     "text": [
      "[NbConvertApp] Converting notebook README.ipynb to markdown\n",
      "[NbConvertApp] Writing 3397 bytes to README.md\n"
     ]
    }
   ],
   "source": [
    "!jupyter-nbconvert --to markdown README.ipynb"
   ]
  }
 ],
 "metadata": {
  "kernelspec": {
   "display_name": "epd_display-ApAYs8Kw",
   "language": "python",
   "name": "epd_display-apays8kw"
  },
  "language_info": {
   "codemirror_mode": {
    "name": "ipython",
    "version": 3
   },
   "file_extension": ".py",
   "mimetype": "text/x-python",
   "name": "python",
   "nbconvert_exporter": "python",
   "pygments_lexer": "ipython3",
   "version": "3.7.3"
  }
 },
 "nbformat": 4,
 "nbformat_minor": 4
}
