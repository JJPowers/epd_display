{
 "cells": [
  {
   "cell_type": "markdown",
   "metadata": {},
   "source": [
    "# PaperPi\n",
    "![lms_client plugin](./paperpi/plugins/splash_screen/splash_screen_sample.png)\n",
    "\n",
    "E-Paper display with multiple display plugins.\n",
    "\n",
    "PaperPi is designed to work with SPI e-paper/e-ink displays with long refresh delays. It has been specifically written to work with the [WaveShare](https://www.waveshare.com/product/displays/e-paper.htm) SPI displays. \n",
    "\n",
    "PaperPi rotates through a user-configured selection of plugins each represented by a single static \"screen.\" \n",
    "\n",
    "\n",
    "## Plugins\n",
    "PaperPi supports many different plugins and layouts for each plugin. The plugin structure is open and documented to allow building your own plugins or customizing existing plugins.\n",
    "\n",
    "[Complete Plugins  List](./documentation/Plugins.md)\n",
    "\n",
    "| | | |\n",
    "|:-------------------------:|:-------------------------:|:-------------------------:|\n",
    "|<img src=./paperpi/plugins/librespot_client/librespot_client_sample.png alt=\"librespot plugin\" width=200 />LibreSpot (spotify) Plugin|<img src=./paperpi/plugins/word_clock/word_clock_sample.png alt=\"word clock plugin\" width=200 />Word Clock|<img src=./paperpi/plugins/lms_client/lms_client_sample.png alt=\"lms client plugin\" width=200 />Logitech Media Server Plugin|\n",
    "|<img src=./paperpi/plugins/dec_binary_clock/dec_binary_clock_sample.png alt=\"decimal binary clock\" width=200 />Decimal-Binary Clock|<img src=./paperpi/plugins/met_no/met_no_sample.png alt=\"met_no plugin\" width=200 />Met.no Weather|<img src=./paperpi/plugins/pi_dash/pi_dash_sample.png alt=\"Pi Dashboard\" width=200 />Pi Dashboard|\n",
    "\n",
    "\n",
    "\n",
    "## Requirements\n",
    "* Raspberry Pi 4B\n",
    "    - A Pi3 and possibly a Pi Zero are sufficient, but this are untested\n",
    "* [WaveShare EPD SPI-only Screen](https://www.waveshare.com/product/displays/e-paper.htm)\n",
    "    - UART, SPI/USB/I80 screens are not supported\n",
    "    \n",
    "\n",
    "    \n",
    "\n",
    "\n"
   ]
  },
  {
   "cell_type": "code",
   "execution_count": null,
   "metadata": {},
   "outputs": [],
   "source": [
    "./paperpi/plugins/splash_screen/splash_screen_sample.png"
   ]
  },
  {
   "cell_type": "code",
   "execution_count": 1,
   "metadata": {},
   "outputs": [
    {
     "name": "stdout",
     "output_type": "stream",
     "text": [
      "[NbConvertApp] Converting notebook README.ipynb to markdown\n",
      "[NbConvertApp] Writing 0 bytes to README.md\n"
     ]
    }
   ],
   "source": [
    "!jupyter-nbconvert --to markdown README.ipynb"
   ]
  }
 ],
 "metadata": {
  "kernelspec": {
   "display_name": "epd_display-ApAYs8Kw",
   "language": "python",
   "name": "epd_display-apays8kw"
  },
  "language_info": {
   "codemirror_mode": {
    "name": "ipython",
    "version": 3
   },
   "file_extension": ".py",
   "mimetype": "text/x-python",
   "name": "python",
   "nbconvert_exporter": "python",
   "pygments_lexer": "ipython3",
   "version": "3.7.3"
  }
 },
 "nbformat": 4,
 "nbformat_minor": 4
}
