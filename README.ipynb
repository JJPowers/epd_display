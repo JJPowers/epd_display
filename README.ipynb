{
 "cells": [
  {
   "cell_type": "markdown",
   "metadata": {},
   "source": [
    "# PaperPi\n",
    "![lms_client plugin](./paperpi/plugins/splash_screen/splash_screen_sample.png)\n",
    "\n",
    "E-Paper display with multiple display plugins. \n",
    "\n",
    "PaperPi is designed run as a daemon process to display a vairety of plugins to SPI based e-paper/e-ink displays with long refresh delays. It has been specifically written to work with the [WaveShare](https://www.waveshare.com/product/displays/e-paper.htm) SPI displays.\n",
    "\n",
    "PaperPi rotates through a user-configured selection of plugins each represented by a single static \"screen.\" After the plugin screen has \"expired\", the next plugin with the highest priority (lowest value) will be displayed, eventually cycling through all the plugins. \n",
    "\n",
    "\n",
    "## Plugins\n",
    "PaperPi supports many different plugins and layouts for each plugin. The plugin structure is open and documented to allow building your own plugins or customizing existing plugins.\n",
    " \n",
    "[Complete Plugins  List](./documentation/Plugins.md)\n",
    "\n",
    "| | | |\n",
    "|:-------------------------:|:-------------------------:|:-------------------------:|\n",
    "|<img src=./paperpi/plugins/librespot_client/librespot_client_sample.png alt=\"librespot plugin\" width=300 />[LibreSpot (spotify) Plugin](./paperpi/plugins/librespot_client/README.md)|<img src=./paperpi/plugins/word_clock/word_clock_sample.png alt=\"word clock plugin\" width=300 />[Word Clock](./paperpi/plugins/word_clock/README.md)|<img src=./paperpi/plugins/lms_client/lms_client_sample.png alt=\"lms client plugin\" width=300 />[Logitech Media Server Plugin](./paperpi/plugins/lms_client/README.md)|\n",
    "|<img src=./paperpi/plugins/dec_binary_clock/dec_binary_clock_sample.png alt=\"decimal binary clock\" width=300 />[Decimal-Binary Clock](./paperpi/plugins/dec_binary_clock/README.md)|<img src=./paperpi/plugins/met_no/met_no_sample.png alt=\"met_no plugin\" width=300 />[Met.no Weather](./paperpi/plugins/met_no/README.md)|<img src=./paperpi/plugins/pi_dash/pi_dash_sample.png alt=\"Pi Dashboard\" width=300 />[Pi Dashboard](./paperpi/plugins/pi_dash/README.md)|\n",
    "\n",
    "<a name=\"requirements\"></a>\n",
    "## Requirements\n",
    "\n",
    "### Required Hardware\n",
    "* Raspberry Pi 4B\n",
    "    - A Pi3 and possibly a Pi Zero are likely sufficient, but are untested at this time (Nov 2020)\n",
    "* [WaveShare EPD SPI-only Screen](https://www.waveshare.com/product/displays/e-paper.htm) with PiHat\n",
    "    - UART, SPI/USB/I80 screens are **not supported** as there is no python library for diving these boards\n",
    "     \n",
    "### Optional Hardware\n",
    "* [HiFiBerry hat](https://www.hifiberry.com/shop/#boards) (*optional*) \n",
    "    * The HiFiBerry DAC+ PRO and similar boards add high-quality audio output to the Pi so it can act as a display and also work as a LMS client player using squeezelite\n",
    "    * GPIO 2x20 headers **must be added** to the board to support WaveShare HAT\n",
    "    * HiFiBerry's [DAC+ Bundle](https://www.hifiberry.com/shop/bundles/hifiberry-dac-bundle-4/) with the following configuraiton is a good choice:\n",
    "        * DAC+ Pro \n",
    "        * Acrylic Case for (RCA) AND DIGI+\n",
    "        * Raspberry Pi 4B 2GB (1GB should be sufficient as well)\n",
    "        * 16GB SD Card\n",
    "        * PowerSupply (USB C 5.1V/3A)\n",
    "        * 2x20 Pin Male Header (required for WaveShare HAT)\n",
    "\n",
    "### Optional Software\n",
    "\n",
    "## Quick Install\n",
    "\n",
    "\n"
   ]
  },
  {
   "cell_type": "code",
   "execution_count": null,
   "metadata": {},
   "outputs": [],
   "source": [
    "./paperpi/plugins/splash_screen/README.md"
   ]
  },
  {
   "cell_type": "code",
   "execution_count": 1,
   "metadata": {},
   "outputs": [
    {
     "name": "stdout",
     "output_type": "stream",
     "text": [
      "[NbConvertApp] Converting notebook README.ipynb to markdown\n",
      "[NbConvertApp] Writing 0 bytes to README.md\n"
     ]
    }
   ],
   "source": [
    "!jupyter-nbconvert --to markdown README.ipynb"
   ]
  }
 ],
 "metadata": {
  "kernelspec": {
   "display_name": "epd_display-ApAYs8Kw",
   "language": "python",
   "name": "epd_display-apays8kw"
  },
  "language_info": {
   "codemirror_mode": {
    "name": "ipython",
    "version": 3
   },
   "file_extension": ".py",
   "mimetype": "text/x-python",
   "name": "python",
   "nbconvert_exporter": "python",
   "pygments_lexer": "ipython3",
   "version": "3.7.3"
  }
 },
 "nbformat": 4,
 "nbformat_minor": 4
}
