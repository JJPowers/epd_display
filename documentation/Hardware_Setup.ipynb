{
 "cells": [
  {
   "cell_type": "markdown",
   "metadata": {},
   "source": [
    "## Hardware Setup\n",
    "The basic installation is very straightforward. If you are using another HAT with your pi, double check that the physical Pi GPIO pins are not in use. The HiFiBerry DAC+ PRO does not conflict with the WaveShare HAT (1 March 2020). See the Notes below if you have a conflict.\n",
    "\n",
    "1. Shut down the Pi\n",
    "2. Check the [switch settings on the WaveShare HAT](https://www.waveshare.com/wiki/E-Paper_Driver_HAT#Switch_settings) -- the A and B settings must match your board type.\n",
    "3. Attach the ribbon cables as shown [here](https://youtu.be/f4yoYbSWctI?t=137)\n",
    "    - If your display shows streaks or preforms poorly see the [Troubleshooting](./Troubleshooting.md) section\n",
    "4. Install the HAT on GPIO pins \n",
    "    * the HAT should fit logically over the Pi; all pins should be covered\n",
    "    * If you are using a HiFiBerry DAC+, you may need to [solder the GPIO pins onto the board before proceeding](https://www.hifiberry.com/docs/hardware/gpio-usage-of-hifiberry-boards/)\n",
    "5. Boot the Pi and enable SPI (see [System Setup](#system-setup) below)\n",
    "\n",
    "\n",
    "### Hardware Test\n",
    "It is a good idea to test the hardware and make sure the display works properly before proceeding. The screen should run through some sample images. \n",
    "\n",
    "1. Clone the WaveShare repo:\n",
    "    * ` git clone https://github.com/waveshare/e-Paper.git`\n",
    "        * if git is not installed: `sudo apt-get install git`\n",
    "2. Change into the examples directory:\n",
    "    * `cd e-Paper/RaspberryPi\\&JetsonNano/python/examples/`\n",
    "3. Execute the test script for the appropriate display:\n",
    "    * `python3 epd_5in83_test.py`"
   ]
  },
  {
   "cell_type": "code",
   "execution_count": 6,
   "metadata": {},
   "outputs": [
    {
     "name": "stdout",
     "output_type": "stream",
     "text": [
      "[NbConvertApp] Converting notebook Hardware_Setup.ipynb to markdown\n",
      "[NbConvertApp] Writing 1555 bytes to Hardware_Setup.md\n"
     ]
    }
   ],
   "source": [
    "! jupyter nbconvert --to markdown --template md_nocode Hardware_Setup.ipynb"
   ]
  },
  {
   "cell_type": "code",
   "execution_count": null,
   "metadata": {},
   "outputs": [],
   "source": []
  }
 ],
 "metadata": {
  "kernelspec": {
   "display_name": "slimpi_epd-b1Rf9la8",
   "language": "python",
   "name": "slimpi_epd-b1rf9la8"
  },
  "language_info": {
   "codemirror_mode": {
    "name": "ipython",
    "version": 3
   },
   "file_extension": ".py",
   "mimetype": "text/x-python",
   "name": "python",
   "nbconvert_exporter": "python",
   "pygments_lexer": "ipython3",
   "version": "3.7.3"
  }
 },
 "nbformat": 4,
 "nbformat_minor": 4
}
