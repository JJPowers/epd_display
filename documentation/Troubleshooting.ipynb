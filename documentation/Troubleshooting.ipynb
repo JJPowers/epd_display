{
 "cells": [
  {
   "cell_type": "markdown",
   "metadata": {},
   "source": [
    "## Troubleshooting\n",
    "### **Issue:** Streaks, and poor quality text\n",
    "    - <img src=./images/trouble_streaks.jpg alt=\"streaks\" width=500 />\n",
    "    - <img src=./images/trouble_bad_text.jpg alt=\"bad text\" width=500 />\n",
    "**Possible Solution:** \n",
    "\n",
    "- Use JST connector instead of plugging the waveshare HAT directly into the raspberry pi (see table below)\n",
    "    - try switching to the wire JST connector and plug the black dupont connectors directly into the GPIO headers of the PI (see table below)\n",
    "    - See [pinout.xyz](https://pinout.xyz) for help locating the proper GPIO pins\n",
    "\n",
    "### **Issue:** PaperPi does not appear to start on boot when run as a daemon\n",
    "\n",
    "**Possible Solution:** \n",
    "\n",
    "- Wait for the first plugin to expire (check the `min_display_time` setting in `paperpi.ini`). This is a [known issue](https://github.com/txoof/epd_display/issues/1#issue-765246248) when running PaperPi in daemon mode.\n",
    "- Check `/var/log/daemon.log` for details -- PaperPi publishes all logging output here\n",
    "    - `$ tail -f /var/log/daemon.log`\n",
    "\n",
    "#### JST Connector Pinout\n",
    "\n",
    "| HAT JST Pin | Pi Pin Name       | Physical Pin Number |\n",
    "|-------------|-------------------|---------------------|\n",
    "| 3.3V        | 3.3V              | 1                   |\n",
    "| GND         | GND               | 3                   |\n",
    "| DIN         | MOSI              | 19                  |\n",
    "| CLK         | SCLK              | 23                  |\n",
    "| CS          | CE0               | 24                  |\n",
    "| DC          | GPOIO 25(BCM)     | 22                  |\n",
    "| RST         | GPIO 17(BCM)      | 11                  |\n",
    "| BUSY        | GPIO 24(BCM)      | 18                  |\n"
   ]
  },
  {
   "cell_type": "code",
   "execution_count": 3,
   "metadata": {},
   "outputs": [
    {
     "name": "stdout",
     "output_type": "stream",
     "text": [
      "[NbConvertApp] Converting notebook Troubleshooting.ipynb to markdown\n",
      "[NbConvertApp] Writing 1624 bytes to Troubleshooting.md\n"
     ]
    }
   ],
   "source": [
    "! jupyter nbconvert --to markdown --template md_nocode Troubleshooting.ipynb"
   ]
  },
  {
   "cell_type": "code",
   "execution_count": null,
   "metadata": {},
   "outputs": [],
   "source": []
  }
 ],
 "metadata": {
  "kernelspec": {
   "display_name": "epd_display-ApAYs8Kw",
   "language": "python",
   "name": "epd_display-apays8kw"
  },
  "language_info": {
   "codemirror_mode": {
    "name": "ipython",
    "version": 3
   },
   "file_extension": ".py",
   "mimetype": "text/x-python",
   "name": "python",
   "nbconvert_exporter": "python",
   "pygments_lexer": "ipython3",
   "version": "3.7.3"
  }
 },
 "nbformat": 4,
 "nbformat_minor": 4
}
