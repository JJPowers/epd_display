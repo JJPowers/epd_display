{
 "cells": [
  {
   "cell_type": "markdown",
   "metadata": {},
   "source": [
    "# Change Log\n",
    "\n",
    "## 0.2.14.0\n",
    "* Add moon_phase plugin\n",
    "\n",
    "## 0.2.13.0 \n",
    "* Fix [issue #20](https://github.com/txoof/epd_display/issues/20) -- max_refresh from config file ignored\n",
    "* Update systemd unit file to improve handling of systemd signals  [issue #19](https://github.com/txoof/epd_display/issues/19)\n",
    "* Update interrupt handler to improve handling of systemd signals [issue #19](https://github.com/txoof/epd_display/issues/19)\n",
    "\n"
   ]
  },
  {
   "cell_type": "code",
   "execution_count": 1,
   "metadata": {},
   "outputs": [
    {
     "name": "stdout",
     "output_type": "stream",
     "text": [
      "[NbConvertApp] Converting notebook Change_Log.ipynb to markdown\n",
      "[NbConvertApp] Writing 427 bytes to Change_Log.md\n"
     ]
    }
   ],
   "source": [
    "!jupyter-nbconvert --to markdown --template md_nocode Change_Log.ipynb"
   ]
  },
  {
   "cell_type": "code",
   "execution_count": null,
   "metadata": {},
   "outputs": [],
   "source": []
  }
 ],
 "metadata": {
  "kernelspec": {
   "display_name": "epd_display-ApAYs8Kw",
   "language": "python",
   "name": "epd_display-apays8kw"
  },
  "language_info": {
   "codemirror_mode": {
    "name": "ipython",
    "version": 3
   },
   "file_extension": ".py",
   "mimetype": "text/x-python",
   "name": "python",
   "nbconvert_exporter": "python",
   "pygments_lexer": "ipython3",
   "version": "3.7.3"
  }
 },
 "nbformat": 4,
 "nbformat_minor": 4
}
