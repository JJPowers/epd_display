{
 "cells": [
  {
   "cell_type": "markdown",
   "metadata": {},
   "source": [
    "# Frame, Case, Cable\n"
   ]
  },
  {
   "cell_type": "markdown",
   "metadata": {},
   "source": [
    "## Frame\n",
    "[FrameLabs](https://framelabs.eu/en/) produces an excellent frame that can easily used with the 6\". 9.7\" and 13.3\" WaveShare IT8951 compatible panels. The quality of the frames is excellent and there is plenty of space for mounting driver boards and routing cables. Contact info@framelabs.eu for more information.\n",
    "\n",
    "See below for some tips for mounting a panel inside of a FrameLabs frame.\n",
    "\n",
    "|     |\n",
    "|:---:|\n",
    "|<img src=./images/frame_completed.jpg alt=\"Completed Frame\" width=600/> Completed Frame|\n",
    "\n",
    "|     |\n",
    "|:---:|\n",
    "|<img src=./images/frame_board_cutout.jpg alt=\"PLA Mounting Board\" width=600/> PLA Mounting Board|\n",
    "| Use PLA board or something similar to provide a mount for the IT8951 Driver Board. |\n",
    "\n",
    "|     |\n",
    "|:---:|\n",
    "|<img src=./images/frame_board_mounted.jpg alt=\"IT8951 mounted to frame\" width=600/> IT8951 mounted to frame|\n",
    "| Mount the frame to the top right corner of the frame. Use M3 bolts to secure the PCB to the PLA board and secure the PLA board to the frame. |\n",
    "\n",
    "|     |\n",
    "|:---:|\n",
    "|<img src=./images/frame_mounting_tape.jpg alt=\"Panel secured to matboard\" width=600/> Panel secured to matboard|\n",
    "| Secure the e-paper panel to the matboard using packing tape or something similar. Secure the flexible PCB to the back of the panel using capton tape or something similar.|\n",
    "\n",
    "|     |\n",
    "|:---:|\n",
    "|<img src=./images/frame_backing_board.jpg alt=\"Backing board\" width=600/> Backing Board|\n",
    "| Cut the backing board as needed to accomodate the PLA mount. |\n",
    "\n",
    "|     |\n",
    "|:---:|\n",
    "|<img src=./images/frame_spacer_cutout.jpg alt=\"frame spacer\" width=600/> Frame Spacer|\n",
    "| Some of the foam will need to be removed from the spacer to accomodate the PLA mount. Use a hobby knife to remove as much as needed. |\n",
    "\n",
    "Carefully clean the glass and assemble the frame using the included magnet tape as per the instructions provided by FrameLabs."
   ]
  },
  {
   "cell_type": "markdown",
   "metadata": {},
   "source": [
    "## Case\n",
    "[This laser cut case](https://github.com/txoof/pi4_case#readme) works with a Pi4 and a HiFi Berry DAC+ HAT. The opening in the front allows room for plugging in a 40 pin header cable.\n",
    "\n",
    "The included SVG file is made for 4mm multi-plex (plywood). If your plywood is thicker or thiner, a new SVG can be generated with OpenSCAD by adjusting the `material` value.\n",
    "\n",
    "![Laser Cut Case](./images/paperpi_playing.jpg)"
   ]
  },
  {
   "cell_type": "markdown",
   "metadata": {},
   "source": [
    "## Cable Pinouts\n",
    "Before connecting a WaveShare HAT with the JST cable, it is a good idea to check the [WaveShare Wiki](https://www.waveshare.com/wiki/2.7inch_e-Paper_HAT) to verify the pinouts. \n",
    "\n",
    "The included JST to Dupont cable is quite short. Cables up to 40 cm have been tested and work properly with both the IT8951 and Non-HD panels. To build your own cable you will need:\n",
    "\n",
    "* 1x [JST 2.0 mm pitch PHR-8 Female Connector](https://www.jst-mfg.com/product/detail_e.php?series=199)\n",
    "* 8x [JST BPH-002T-P0.5S Crimp contact](https://www.jst-mfg.com/product/detail_e.php?series=199) \n",
    "   - *buy some extra, crimping is difficult*\n",
    "* 1x [Molex Female 2.54 mm pitch 2x20 Connector](https://nl.rs-online.com/web/p/wire-housings-plugs/1671893) or 2x [Molex Female 2.54 mm pitch 2x10 Connector](https://nl.rs-online.com/web/p/wire-housings-plugs/2134861)\n",
    "* 8x [Molex Crimp Terminal Contact](https://nl.rs-online.com/web/p/wire-housings-plugs/2134861) \n",
    "   - *buy some extra, crimping is difficult*\n",
    "* 8x 1 meter 20-24 AWG wire\n",
    "* [Crimper](https://www.adafruit.com/product/350) \n",
    "   - *buy a good set like these. The other, cheaper, \"automatic\" crmimpers have terrible dies and destroy crimp ends just to make you cry.*\n",
    "* 1 meter [Braided Cable Sheath](https://www.google.com/search?q=pet+expandable+braided+sleeving&oq=pet+expandable+braided+sleeving&gs_lcp=Cgdnd3Mtd2l6EAEYADIFCAAQgAQyBQgAEIAEMgQIABAeMgYIABAFEB4yBggAEAUQHjIGCAAQBRAeMgYIABAFEB4yBggAEAUQHjIGCAAQBRAeMgYIABAFEB5KBAhBGABKBAhBGABQAFgAYN8saABwAHgAgAFAiAFAkgEBMZgBAMABAQ&sclient=gws-wiz) *(optional)*\n",
    "\n",
    "### IT8951 HD Panel \n",
    "This applies to the WaveShare HD panels such as: 6inch HD, 7.5inch HD, 9.7inch HD, 13.3inch \n",
    "JST header to 40 pin GPIO header pinout for Raspberry Pi\n",
    " \n",
    "| **FUNCTION** | +5V | GND | MISO | MOSI | SCK | CS | RST | HRDY |\n",
    "|:---|:---:|:---:|:---:|:---:|:---:|:---:|:---:|:---:|\n",
    "| **COLOR** | <span style=\"color:red\">RED</span> | BLACK | <span style=\"color:blue\">BLUE</span> | <span style=\"color:yellow\">YELLOW</span> | <span style=\"color:orange\">ORANGE</span> | <span style=\"color:green\">GREEN</span> | WHITE |  <span style=\"color:purple\">PURPLE</span> | \n",
    "| **PI GPIO** | +5V | GND | SPI0 MISO | SPI0 MOSI | SPI0 SCLK | SPI0 CE0 | GPIO 17 | GPIO 24 |\n",
    "| **[Physical GPIO Header Pin](https://pinout.xyz/)** | 2 | 6 | 21 | 19 | 23 | 24 | 11 | 18 | \n",
    "\n",
    "### Non HD SPI Panels\n",
    "This applies to the WaveShare non-hd panels such as: 2.7inch, 5.83inch, 7.5inch\n",
    "JST header to 40 pin GPIO header pinout for Raspberry Pi\n",
    "\n",
    "| **FUNCTION** | +3.3V | GND | DIN | CLK | CS | DC | RST | BUSY |\n",
    "|:---|:---:|:---:|:---:|:---:|:---:|:---:|:---:|:---:|\n",
    "| **COLOR** | <span style=\"color:red\">RED</span> | BLACK | <span style=\"color:blue\">BLUE</span> | <span style=\"color:yellow\">YELLOW</span> | <span style=\"color:orange\">ORANGE</span> | <span style=\"color:green\">GREEN</span> | WHITE |  <span style=\"color:purple\">PURPLE</span> | \n",
    "| **PI GPIO** | +3.3 | GND | SPI0 MOSI | SPI0 SCLK | SPI0 CE0 | GPIO 25 | GPIO 17 | GPIO 24 |\n",
    "| **[Physical GPIO Header Pin](https://pinout.xyz/)** | 1 | 6 | 19 | 23 | 24 | 22 | 11 | 18 | \n"
   ]
  },
  {
   "cell_type": "code",
   "execution_count": 2,
   "metadata": {},
   "outputs": [
    {
     "name": "stdout",
     "output_type": "stream",
     "text": [
      "[NbConvertApp] Converting notebook Frame_Cable_Case.ipynb to markdown\n",
      "[NbConvertApp] Writing 5333 bytes to Frame_Cable_Case.md\n"
     ]
    }
   ],
   "source": [
    "! jupyter nbconvert --to markdown --template md_nocode Frame_Cable_Case.ipynb"
   ]
  }
 ],
 "metadata": {
  "kernelspec": {
   "display_name": "epd_display-ApAYs8Kw",
   "language": "python",
   "name": "epd_display-apays8kw"
  },
  "language_info": {
   "codemirror_mode": {
    "name": "ipython",
    "version": 3
   },
   "file_extension": ".py",
   "mimetype": "text/x-python",
   "name": "python",
   "nbconvert_exporter": "python",
   "pygments_lexer": "ipython3",
   "version": "3.7.3"
  }
 },
 "nbformat": 4,
 "nbformat_minor": 4
}
