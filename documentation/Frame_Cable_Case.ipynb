{
 "cells": [
  {
   "cell_type": "markdown",
   "metadata": {},
   "source": [
    "# Frame, Cable & Case\n"
   ]
  },
  {
   "cell_type": "markdown",
   "metadata": {},
   "source": [
    "## Cable\n",
    "\n",
    "### IT8951 HD Panel\n",
    "JST header to 40 pin GPIO header pinout for Raspberry Pi\n",
    " \n",
    "| **FUNCTION** | +5V | GND | MISO | MOSI | SCK | CS | RST | HRDY |\n",
    "|:---|:---:|:---:|:---:|:---:|:---:|:---:|:---:|:---:|\n",
    "| **COLOR** | <span style=\"color:red\">RED</span> | BLACK | <span style=\"color:blue\">BLUE</span> | <span style=\"color:yellow\">YELLOW</span> | <span style=\"color:orange\">ORANGE</span> | <span style=\"color:green\">GREEN</span> | WHITE |  <span style=\"color:purple\">PURPLE</span> | \n",
    "| **PI GPIO** | +5V | GND | SPI0 MISO | SPI0 MOSI | SPI0 SCLK | SPI0 CE0 | GPIO 17 | GPIO 24 |\n",
    "| **[Physical Pin](https://pinout.xyz/)** | 2 | 6 | 21 | 19 | 23 | 24 | 11 | 18 | \n",
    "\n",
    "### Non HD SPI Panels\n",
    "JST header to 40 pin GPIO header pinout for Raspberry Pi\n",
    "\n",
    "| **FUNCTION** | +3.3V | GND | DIN | CLK | CS | DC | RST | BUSY |\n",
    "|:---|:---:|:---:|:---:|:---:|:---:|:---:|:---:|:---:|\n",
    "| **COLOR** | <span style=\"color:red\">RED</span> | BLACK | <span style=\"color:blue\">BLUE</span> | <span style=\"color:yellow\">YELLOW</span> | <span style=\"color:orange\">ORANGE</span> | <span style=\"color:green\">GREEN</span> | WHITE |  <span style=\"color:purple\">PURPLE</span> | \n",
    "| **PI GPIO** | +3.3 | GND | SPI0 MOSI | SPI0 SCLK | SPI0 CE0 | GPIO 25 | GPIO 17 | GPIO 24 |\n",
    "| **[Physical Pin](https://pinout.xyz/)** | 1 | 6 | 19 | 23 | 24 | 22 | 11 | 18 | \n"
   ]
  },
  {
   "cell_type": "markdown",
   "metadata": {},
   "source": [
    "## Case\n",
    "This laser cut case works with a Pi4 and a HiFi Berry DAC+ HAT. The opening in the front allows room for plugging in a 40 pin header cable.\n",
    "\n",
    "The included SVG file is made for 4mm multi-plex (plywood). If your plywood is thicker or thiner, a new SVG can be generated with OpenSCAD by adjusting the `material` value.\n",
    "\n",
    "|     |     |\n",
    "|:---:|:---:|\n",
    "|![Laser Cut Case](./images/paperpi_playing.jpg)| ![SVG Case](./Case/pi4_case.svg) |\n",
    "|[OpenSCAD pi4_case.scad](./Case/pi4_case.scad) | [Case SVG](./Case/pi4_case.svg)|"
   ]
  }
 ],
 "metadata": {
  "kernelspec": {
   "display_name": "epd_display-ApAYs8Kw",
   "language": "python",
   "name": "epd_display-apays8kw"
  },
  "language_info": {
   "codemirror_mode": {
    "name": "ipython",
    "version": 3
   },
   "file_extension": ".py",
   "mimetype": "text/x-python",
   "name": "python",
   "nbconvert_exporter": "python",
   "pygments_lexer": "ipython3",
   "version": "3.7.3"
  }
 },
 "nbformat": 4,
 "nbformat_minor": 4
}
