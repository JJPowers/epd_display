{
 "cells": [
  {
   "cell_type": "markdown",
   "metadata": {},
   "source": [
    "# Frame, Case, Cable\n",
    "\n",
    "For a more polished look that's display ready, check out the Frame, Lasercut Case and cable build below.\n",
    "\n",
    "[Frame](#Frame) [Case](#Case) [Cable](#Cable)\n",
    "\n",
    "![Laser Cut Case and Frame](./images/frame_completed.jpg)\n",
    "\n"
   ]
  },
  {
   "cell_type": "markdown",
   "metadata": {},
   "source": [
    "<a name=\"Frame\"></a>\n",
    "\n",
    "## Frame\n",
    "[FrameLabs](https://framelabs.eu/en/) produces an excellent frame that can easily be used with the 6\". 9.7\" and 13.3\" WaveShare IT8951 compatible panels. The quality of the frames is excellent and there is plenty of space for mounting driver boards and routing cables. Contact info@framelabs.eu for more information.\n",
    "\n",
    "See below for some tips for mounting a panel inside of a FrameLabs frame.\n",
    "\n",
    "|     |\n",
    "|:---:|\n",
    "|<img src=./images/frame_completed.jpg alt=\"Completed Frame\" width=600/> Completed Frame|\n",
    "\n",
    "|     |\n",
    "|:---:|\n",
    "|<img src=./images/frame_board_cutout.jpg alt=\"PLA Mounting Board\" width=600/> PLA Mounting Board|\n",
    "| Use PLA board or something similar to provide a mount for the IT8951 Driver Board. |\n",
    "\n",
    "|     |\n",
    "|:---:|\n",
    "|<img src=./images/frame_board_mounted.jpg alt=\"IT8951 mounted to frame\" width=600/> IT8951 mounted to frame|\n",
    "| Mount the frame to the top right corner of the frame. Use M3 bolts to secure the PCB to the PLA board and secure the PLA board to the frame. |\n",
    "\n",
    "|     |\n",
    "|:---:|\n",
    "|<img src=./images/frame_mounting_tape.jpg alt=\"Panel secured to matboard\" width=600/> Panel secured to matboard|\n",
    "| Secure the e-paper panel to the matboard using packing tape or something similar. Secure the flexible PCB to the back of the panel using capton tape or something similar.|\n",
    "\n",
    "|     |\n",
    "|:---:|\n",
    "|<img src=./images/frame_backing_board.jpg alt=\"Backing board\" width=600/> Backing Board|\n",
    "| Cut the backing board as needed to accomodate the PLA mount. |\n",
    "\n",
    "|     |\n",
    "|:---:|\n",
    "|<img src=./images/frame_spacer_cutout.jpg alt=\"frame spacer\" width=600/> Frame Spacer|\n",
    "| Some of the foam will need to be removed from the spacer to accomodate the PLA mount. Use a hobby knife to remove as much as needed. |\n",
    "\n",
    "Carefully clean the glass and assemble the frame using the included magnet tape as per the instructions provided by FrameLabs."
   ]
  },
  {
   "cell_type": "markdown",
   "metadata": {},
   "source": [
    "<a name=\"Case\"></a>\n",
    "\n",
    "## Case\n",
    "[This laser cut case](https://github.com/txoof/pi4_case#readme) works with a Pi4 and a HiFi Berry DAC+ HAT. The opening in the front allows room for plugging in a 40 pin header cable.\n",
    "\n",
    "The included SVG file is made for 4mm multi-plex (plywood). If your plywood is thicker or thiner, a new SVG can be generated with OpenSCAD by adjusting the `material` value.\n",
    "![Laser Cut Case and Frame](https://github.com/txoof/pi4_case/raw/master/pi_4_back.jpg)"
   ]
  },
  {
   "cell_type": "markdown",
   "metadata": {},
   "source": [
    "<a name=\"Cable\"></a>\n",
    "\n",
    "## Cable\n",
    "<img src=./images/Finshed_Cable.jpg alt=\"Completed Cable\" width=300/>\n",
    "\n",
    "Before connecting a WaveShare HAT with the JST cable, it is a good idea to check the [WaveShare Wiki](https://www.waveshare.com/wiki/2.7inch_e-Paper_HAT) to verify the pinouts. An incorrectly built cable is a great way to let the magic blue smoke out of your hardware.\n",
    "\n",
    "The included JST to Dupont cable is quite short. Cables up to 40 cm have been tested and work properly with both the IT8951 and Non-HD panels. To build your own cable you will need:\n",
    "\n",
    "* 1x [JST 2.0 mm pitch PHR-8 Female Connector](https://www.jst-mfg.com/product/detail_e.php?series=199)\n",
    "* 8x [JST BPH-002T-P0.5S Crimp contact](https://www.jst-mfg.com/product/detail_e.php?series=199) \n",
    "   - *buy some extra, crimping is difficult*\n",
    "* 1x [Molex Female 2.54 mm pitch 2x20 Connector](https://nl.rs-online.com/web/p/wire-housings-plugs/1671893) or 2x [Molex Female 2.54 mm pitch 2x10 Connector](https://nl.rs-online.com/web/p/wire-housings-plugs/2134861)\n",
    "* 8x [Molex Crimp Terminal Contact](https://nl.rs-online.com/web/p/wire-housings-plugs/2134861) \n",
    "   - *buy some extra, crimping is difficult*\n",
    "* 8x 1 meter 20-24 AWG wire\n",
    "* [Crimper](https://www.adafruit.com/product/350) \n",
    "   - *buy a good set like these. The other, cheaper, \"automatic\" crmimpers have terrible dies and destroy crimp ends just to make you cry.*\n",
    "* 1 meter [Braided Cable Sheath](https://www.google.com/search?q=pet+expandable+braided+sleeving&oq=pet+expandable+braided+sleeving&gs_lcp=Cgdnd3Mtd2l6EAEYADIFCAAQgAQyBQgAEIAEMgQIABAeMgYIABAFEB4yBggAEAUQHjIGCAAQBRAeMgYIABAFEB4yBggAEAUQHjIGCAAQBRAeMgYIABAFEB5KBAhBGABKBAhBGABQAFgAYN8saABwAHgAgAFAiAFAkgEBMZgBAMABAQ&sclient=gws-wiz) *(optional)*\n",
    "* Tape *(optional)*\n",
    "* Thin string *(optional)*\n",
    "* Wire coat hanger or stiff wire *(optional)*\n",
    "* Heat shrink tubing  *(optional)*\n",
    "\n",
    "\n",
    "### Construction\n",
    "|Completed Cable|JST End|Molex End|\n",
    "|:---:|:---:|:---:|\n",
    "|<img src=./images/Finshed_Cable.jpg alt=\"Completed Cable\" width=200/>|<img src=./images/JST_end.jpg alt=\"JST End\" width=200/>|<img src=./images/Molex_end.jpg alt=\"Molex End\" width=200/>|\n",
    "\n",
    "\n",
    "1. Cut the wire to length. \n",
    "   - Hookup wires up to 40cm have been tested and work properly with both the HD and Non-HD panels.\n",
    "2. Cut the braided cable sheath to a length aproximately equal to your wires\n",
    "3. Cut two lengths of heat shrink tubing aproximately 2cm in length\n",
    "4. Push the two lengths heat shrink tubing onto the braided cable sheath \n",
    "   - The heat shrink tube will help prevent the braid from coming appart as you work\n",
    "5. Bundle one end of the the wires together with a piece of masking tape. Add a piece of string to the bundle.\n",
    "   - The string will assist in pulling the wire bundle through the \n",
    "6. Push the coat hanger through the tubing and attach the string to the end\n",
    "7. Use the string to pull the wire bundle through the sheath\n",
    "8. Strip the ends and crimp on the JST and Molex connectors. \n",
    "   - See this (excellent short video)[https://www.youtube.com/watch?v=XvdePo12vIM]\n",
    "9. Slide the JST and Molex connectors into the housings \n",
    "   - See the pinouts below for HD and Non HD panels\n",
    "0. Use scisors to trim excess braided sheath   \n",
    "   - Make sure there is enough slack that the cable sheath does not pull too tightly on the wires and connectors\n",
    "1. Slide the heat shrink tube over the end of the sheath and shrink in place\n",
    "\n",
    "\n",
    "### IT8951 HD Panel \n",
    "This applies to the WaveShare HD panels such as: 6inch HD, 7.5inch HD, 9.7inch HD, 13.3inch \n",
    "JST header to 40 pin GPIO header pinout for Raspberry Pi\n",
    " \n",
    "| **FUNCTION** | +5V | GND | MISO | MOSI | SCK | CS | RST | HRDY |\n",
    "|:---|:---:|:---:|:---:|:---:|:---:|:---:|:---:|:---:|\n",
    "| **COLOR** | <span style=\"color:red\">RED</span> | BLACK | <span style=\"color:blue\">BLUE</span> | <span style=\"color:yellow\">YELLOW</span> | <span style=\"color:orange\">ORANGE</span> | <span style=\"color:green\">GREEN</span> | WHITE |  <span style=\"color:purple\">PURPLE</span> | \n",
    "| **PI GPIO** | +5V | GND | SPI0 MISO | SPI0 MOSI | SPI0 SCLK | SPI0 CE0 | GPIO 17 | GPIO 24 |\n",
    "| **[Physical GPIO Header Pin](https://pinout.xyz/)** | 2 | 6 | 21 | 19 | 23 | 24 | 11 | 18 | \n",
    "\n",
    "### Non HD SPI Panels\n",
    "This applies to the WaveShare non-hd panels such as: 2.7inch, 5.83inch, 7.5inch\n",
    "JST header to 40 pin GPIO header pinout for Raspberry Pi\n",
    "\n",
    "| **FUNCTION** | +3.3V | GND | DIN | CLK | CS | DC | RST | BUSY |\n",
    "|:---|:---:|:---:|:---:|:---:|:---:|:---:|:---:|:---:|\n",
    "| **COLOR** | <span style=\"color:red\">RED</span> | BLACK | <span style=\"color:blue\">BLUE</span> | <span style=\"color:yellow\">YELLOW</span> | <span style=\"color:orange\">ORANGE</span> | <span style=\"color:green\">GREEN</span> | WHITE |  <span style=\"color:purple\">PURPLE</span> | \n",
    "| **PI GPIO** | +3.3 | GND | SPI0 MOSI | SPI0 SCLK | SPI0 CE0 | GPIO 25 | GPIO 17 | GPIO 24 |\n",
    "| **[Physical GPIO Header Pin](https://pinout.xyz/)** | 1 | 6 | 19 | 23 | 24 | 22 | 11 | 18 | \n"
   ]
  },
  {
   "cell_type": "code",
   "execution_count": 6,
   "metadata": {},
   "outputs": [
    {
     "name": "stdout",
     "output_type": "stream",
     "text": [
      "[NbConvertApp] Converting notebook Frame_Cable_Case.ipynb to markdown\n",
      "[NbConvertApp] Writing 7462 bytes to Frame_Cable_Case.md\n"
     ]
    }
   ],
   "source": [
    "! jupyter nbconvert --to markdown --template md_nocode Frame_Cable_Case.ipynb"
   ]
  }
 ],
 "metadata": {
  "kernelspec": {
   "display_name": "epd_display-ApAYs8Kw",
   "language": "python",
   "name": "epd_display-apays8kw"
  },
  "language_info": {
   "codemirror_mode": {
    "name": "ipython",
    "version": 3
   },
   "file_extension": ".py",
   "mimetype": "text/x-python",
   "name": "python",
   "nbconvert_exporter": "python",
   "pygments_lexer": "ipython3",
   "version": "3.7.3"
  }
 },
 "nbformat": 4,
 "nbformat_minor": 4
}
